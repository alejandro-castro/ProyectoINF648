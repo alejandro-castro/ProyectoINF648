{
 "cells": [
  {
   "cell_type": "markdown",
   "metadata": {
    "colab_type": "text",
    "id": "nu1T9kvptEDF"
   },
   "source": [
    "<center><h1><b>Proyecto de Curso Aprendizaje Automático</b></h1>\n",
    "<h2><b>Escuela de Posgrado PUCP</b></h2>\n",
    "<h2><b>Maestría en Informática</b></h2></center>"
   ]
  },
  {
   "cell_type": "markdown",
   "metadata": {
    "colab_type": "text",
    "id": "I1k-8bTO7qEC"
   },
   "source": [
    "**<h2>Importación de Librerías</h2>**\n"
   ]
  },
  {
   "cell_type": "code",
   "execution_count": 1,
   "metadata": {
    "colab": {},
    "colab_type": "code",
    "id": "cAjbU18w7xIL",
    "scrolled": true
   },
   "outputs": [],
   "source": [
    "#Procesamiento y manejo de data\n",
    "import numpy as np\n",
    "import pandas as pd\n",
    "from sklearn import preprocessing\n",
    "from sklearn.impute import SimpleImputer\n",
    "from sklearn.preprocessing import LabelEncoder\n",
    "\n",
    "#Gráficos\n",
    "import matplotlib.pyplot as plt\n",
    "import matplotlib\n",
    "from sklearn.manifold import TSNE\n",
    "import altair as alt\n",
    "import seaborn as sns\n",
    "\n",
    "#Modelos\n",
    "from sklearn import naive_bayes\n",
    "from sklearn.svm import SVC, LinearSVC\n",
    "from sklearn.ensemble import RandomForestClassifier\n",
    "from ANN_util import FeedForwardNeuralNetwork, ANNArchitecture\n",
    "from sklearn.linear_model import LogisticRegression\n",
    "from lightgbm import LGBMClassifier\n",
    "from sklearn.tree import DecisionTreeClassifier\n",
    "from sklearn.neighbors import KNeighborsClassifier\n",
    "\n",
    "#Validación y selección de características\n",
    "from sklearn.model_selection import StratifiedKFold\n",
    "from sklearn.feature_selection import RFECV\n",
    "\n",
    "#Librerías varias\n",
    "from sklearn import pipeline\n",
    "from sklearn import model_selection\n",
    "import random\n",
    "import itertools\n",
    "import tensorflow as tf\n",
    "#Metricas\n",
    "from sklearn.metrics import confusion_matrix, classification_report\n",
    "\n",
    "matplotlib.rcParams['figure.dpi'] = 100"
   ]
  },
  {
   "cell_type": "markdown",
   "metadata": {
    "colab_type": "text",
    "id": "bnR2Zn3wuP5M"
   },
   "source": [
    "**<h2>Lectura de la data</h2>**"
   ]
  },
  {
   "cell_type": "markdown",
   "metadata": {},
   "source": [
    "El conjunto de datos consta de los niveles de expresión de 77 proteínas que produjeron señales detectables en la parte nuclear del córtex (características continuas). Se tienen 38 ratones  sanos  y  34  ratones trisómicos  organizados en ocho clases (cada uno conformado por entre  7  y  10  ratones).  Por cada ratón se  han  tomado 15  muestras, por  ende, se tendrán 570 y  510 muestras para los ratones sanos y trisómicos respectivamente."
   ]
  },
  {
   "cell_type": "code",
   "execution_count": 2,
   "metadata": {
    "colab": {},
    "colab_type": "code",
    "id": "pCKzyNwG7mGo",
    "scrolled": true
   },
   "outputs": [],
   "source": [
    "dataset = pd.read_excel(\"Data_Cortex_Nuclear.xls\")"
   ]
  },
  {
   "cell_type": "code",
   "execution_count": 3,
   "metadata": {
    "colab": {
     "base_uri": "https://localhost:8080/",
     "height": 255
    },
    "colab_type": "code",
    "id": "v6sgXDml8Gd5",
    "outputId": "ef0a481d-1ac3-4203-f302-d7b893451fa8",
    "scrolled": true
   },
   "outputs": [
    {
     "name": "stdout",
     "output_type": "stream",
     "text": [
      "Las dimensiones del dataset son (1080, 82)\n"
     ]
    },
    {
     "data": {
      "text/html": [
       "<div>\n",
       "<style scoped>\n",
       "    .dataframe tbody tr th:only-of-type {\n",
       "        vertical-align: middle;\n",
       "    }\n",
       "\n",
       "    .dataframe tbody tr th {\n",
       "        vertical-align: top;\n",
       "    }\n",
       "\n",
       "    .dataframe thead th {\n",
       "        text-align: right;\n",
       "    }\n",
       "</style>\n",
       "<table border=\"1\" class=\"dataframe\">\n",
       "  <thead>\n",
       "    <tr style=\"text-align: right;\">\n",
       "      <th></th>\n",
       "      <th>MouseID</th>\n",
       "      <th>DYRK1A_N</th>\n",
       "      <th>ITSN1_N</th>\n",
       "      <th>BDNF_N</th>\n",
       "      <th>NR1_N</th>\n",
       "      <th>NR2A_N</th>\n",
       "      <th>pAKT_N</th>\n",
       "      <th>pBRAF_N</th>\n",
       "      <th>pCAMKII_N</th>\n",
       "      <th>pCREB_N</th>\n",
       "      <th>...</th>\n",
       "      <th>pCFOS_N</th>\n",
       "      <th>SYP_N</th>\n",
       "      <th>H3AcK18_N</th>\n",
       "      <th>EGR1_N</th>\n",
       "      <th>H3MeK4_N</th>\n",
       "      <th>CaNA_N</th>\n",
       "      <th>Genotype</th>\n",
       "      <th>Treatment</th>\n",
       "      <th>Behavior</th>\n",
       "      <th>class</th>\n",
       "    </tr>\n",
       "  </thead>\n",
       "  <tbody>\n",
       "    <tr>\n",
       "      <th>0</th>\n",
       "      <td>309_1</td>\n",
       "      <td>0.503644</td>\n",
       "      <td>0.747193</td>\n",
       "      <td>0.430175</td>\n",
       "      <td>2.816329</td>\n",
       "      <td>5.990152</td>\n",
       "      <td>0.218830</td>\n",
       "      <td>0.177565</td>\n",
       "      <td>2.373744</td>\n",
       "      <td>0.232224</td>\n",
       "      <td>...</td>\n",
       "      <td>0.108336</td>\n",
       "      <td>0.427099</td>\n",
       "      <td>0.114783</td>\n",
       "      <td>0.131790</td>\n",
       "      <td>0.128186</td>\n",
       "      <td>1.675652</td>\n",
       "      <td>Control</td>\n",
       "      <td>Memantine</td>\n",
       "      <td>C/S</td>\n",
       "      <td>c-CS-m</td>\n",
       "    </tr>\n",
       "    <tr>\n",
       "      <th>1</th>\n",
       "      <td>309_2</td>\n",
       "      <td>0.514617</td>\n",
       "      <td>0.689064</td>\n",
       "      <td>0.411770</td>\n",
       "      <td>2.789514</td>\n",
       "      <td>5.685038</td>\n",
       "      <td>0.211636</td>\n",
       "      <td>0.172817</td>\n",
       "      <td>2.292150</td>\n",
       "      <td>0.226972</td>\n",
       "      <td>...</td>\n",
       "      <td>0.104315</td>\n",
       "      <td>0.441581</td>\n",
       "      <td>0.111974</td>\n",
       "      <td>0.135103</td>\n",
       "      <td>0.131119</td>\n",
       "      <td>1.743610</td>\n",
       "      <td>Control</td>\n",
       "      <td>Memantine</td>\n",
       "      <td>C/S</td>\n",
       "      <td>c-CS-m</td>\n",
       "    </tr>\n",
       "    <tr>\n",
       "      <th>2</th>\n",
       "      <td>309_3</td>\n",
       "      <td>0.509183</td>\n",
       "      <td>0.730247</td>\n",
       "      <td>0.418309</td>\n",
       "      <td>2.687201</td>\n",
       "      <td>5.622059</td>\n",
       "      <td>0.209011</td>\n",
       "      <td>0.175722</td>\n",
       "      <td>2.283337</td>\n",
       "      <td>0.230247</td>\n",
       "      <td>...</td>\n",
       "      <td>0.106219</td>\n",
       "      <td>0.435777</td>\n",
       "      <td>0.111883</td>\n",
       "      <td>0.133362</td>\n",
       "      <td>0.127431</td>\n",
       "      <td>1.926427</td>\n",
       "      <td>Control</td>\n",
       "      <td>Memantine</td>\n",
       "      <td>C/S</td>\n",
       "      <td>c-CS-m</td>\n",
       "    </tr>\n",
       "    <tr>\n",
       "      <th>3</th>\n",
       "      <td>309_4</td>\n",
       "      <td>0.442107</td>\n",
       "      <td>0.617076</td>\n",
       "      <td>0.358626</td>\n",
       "      <td>2.466947</td>\n",
       "      <td>4.979503</td>\n",
       "      <td>0.222886</td>\n",
       "      <td>0.176463</td>\n",
       "      <td>2.152301</td>\n",
       "      <td>0.207004</td>\n",
       "      <td>...</td>\n",
       "      <td>0.111262</td>\n",
       "      <td>0.391691</td>\n",
       "      <td>0.130405</td>\n",
       "      <td>0.147444</td>\n",
       "      <td>0.146901</td>\n",
       "      <td>1.700563</td>\n",
       "      <td>Control</td>\n",
       "      <td>Memantine</td>\n",
       "      <td>C/S</td>\n",
       "      <td>c-CS-m</td>\n",
       "    </tr>\n",
       "    <tr>\n",
       "      <th>4</th>\n",
       "      <td>309_5</td>\n",
       "      <td>0.434940</td>\n",
       "      <td>0.617430</td>\n",
       "      <td>0.358802</td>\n",
       "      <td>2.365785</td>\n",
       "      <td>4.718679</td>\n",
       "      <td>0.213106</td>\n",
       "      <td>0.173627</td>\n",
       "      <td>2.134014</td>\n",
       "      <td>0.192158</td>\n",
       "      <td>...</td>\n",
       "      <td>0.110694</td>\n",
       "      <td>0.434154</td>\n",
       "      <td>0.118481</td>\n",
       "      <td>0.140314</td>\n",
       "      <td>0.148380</td>\n",
       "      <td>1.839730</td>\n",
       "      <td>Control</td>\n",
       "      <td>Memantine</td>\n",
       "      <td>C/S</td>\n",
       "      <td>c-CS-m</td>\n",
       "    </tr>\n",
       "  </tbody>\n",
       "</table>\n",
       "<p>5 rows × 82 columns</p>\n",
       "</div>"
      ],
      "text/plain": [
       "  MouseID  DYRK1A_N   ITSN1_N    BDNF_N     NR1_N    NR2A_N    pAKT_N  \\\n",
       "0   309_1  0.503644  0.747193  0.430175  2.816329  5.990152  0.218830   \n",
       "1   309_2  0.514617  0.689064  0.411770  2.789514  5.685038  0.211636   \n",
       "2   309_3  0.509183  0.730247  0.418309  2.687201  5.622059  0.209011   \n",
       "3   309_4  0.442107  0.617076  0.358626  2.466947  4.979503  0.222886   \n",
       "4   309_5  0.434940  0.617430  0.358802  2.365785  4.718679  0.213106   \n",
       "\n",
       "    pBRAF_N  pCAMKII_N   pCREB_N  ...   pCFOS_N     SYP_N  H3AcK18_N  \\\n",
       "0  0.177565   2.373744  0.232224  ...  0.108336  0.427099   0.114783   \n",
       "1  0.172817   2.292150  0.226972  ...  0.104315  0.441581   0.111974   \n",
       "2  0.175722   2.283337  0.230247  ...  0.106219  0.435777   0.111883   \n",
       "3  0.176463   2.152301  0.207004  ...  0.111262  0.391691   0.130405   \n",
       "4  0.173627   2.134014  0.192158  ...  0.110694  0.434154   0.118481   \n",
       "\n",
       "     EGR1_N  H3MeK4_N    CaNA_N  Genotype  Treatment  Behavior   class  \n",
       "0  0.131790  0.128186  1.675652   Control  Memantine       C/S  c-CS-m  \n",
       "1  0.135103  0.131119  1.743610   Control  Memantine       C/S  c-CS-m  \n",
       "2  0.133362  0.127431  1.926427   Control  Memantine       C/S  c-CS-m  \n",
       "3  0.147444  0.146901  1.700563   Control  Memantine       C/S  c-CS-m  \n",
       "4  0.140314  0.148380  1.839730   Control  Memantine       C/S  c-CS-m  \n",
       "\n",
       "[5 rows x 82 columns]"
      ]
     },
     "execution_count": 3,
     "metadata": {},
     "output_type": "execute_result"
    }
   ],
   "source": [
    "print(f\"Las dimensiones del dataset son {dataset.shape}\")\n",
    "dataset.head()"
   ]
  },
  {
   "cell_type": "markdown",
   "metadata": {},
   "source": [
    "**<h2>Preprocesamiento</h2>**"
   ]
  },
  {
   "cell_type": "markdown",
   "metadata": {},
   "source": [
    "La estrategia que se utilizará para el manejo de datos faltantes será la imputación de los mismos por el estadístico media para cada clase."
   ]
  },
  {
   "cell_type": "markdown",
   "metadata": {},
   "source": [
    "**<h3>Eliminación de Características innecesarias y codificación de la clase</h3>**"
   ]
  },
  {
   "cell_type": "code",
   "execution_count": 4,
   "metadata": {
    "scrolled": true
   },
   "outputs": [],
   "source": [
    "preprocDataset = dataset.copy()\n",
    "\n",
    "#Se elimina información redundante \"Genotype\", \"Treatment\", \"Behavior\" que ya están combinadas en la columna clase.\n",
    "preprocDataset.drop([\"Genotype\", \"Treatment\", \"Behavior\"], axis=1, inplace=True)\n",
    "\n",
    "#Se separan las versiones y números de ratones en otras variables\n",
    "MouseNumber = preprocDataset.MouseID.apply(lambda x: x.split('_')[0])\n",
    "MouseVersion = preprocDataset.MouseID.apply(lambda x: x.split('_')[1])\n",
    "\n",
    "#Se elimina información irrelevante para la tarea de clasificación multiclase\n",
    "preprocDataset.drop(\"MouseID\", axis=1, inplace=True)\n",
    "\n",
    "preprocDataset[\"class\"] = LabelEncoder().fit_transform(preprocDataset[\"class\"])"
   ]
  },
  {
   "cell_type": "markdown",
   "metadata": {},
   "source": [
    "**<h3>Imputación de datos faltantes</h3>**"
   ]
  },
  {
   "cell_type": "markdown",
   "metadata": {},
   "source": [
    "Dado que se aplicará validación K-Fold durante la búsqueda y optimización de cada hiperparámetro, se realizará la imputación de datos faltantes durante cada iteración de validación, mediante el uso de un imputador que usa la mediana de cada característica, dicho imputador será agregado al inicio del pipeline de entrenamiento."
   ]
  },
  {
   "cell_type": "markdown",
   "metadata": {},
   "source": [
    "**<h2> Separación y etiquetado de datos</h2>**"
   ]
  },
  {
   "cell_type": "code",
   "execution_count": 5,
   "metadata": {
    "colab": {
     "base_uri": "https://localhost:8080/",
     "height": 35
    },
    "colab_type": "code",
    "id": "qCgfb8shs9yo",
    "outputId": "362500d7-b607-4b22-9546-8f3953f9c956",
    "scrolled": true
   },
   "outputs": [],
   "source": [
    "x = preprocDataset.drop(\"class\",axis=1)\n",
    "y = preprocDataset[\"class\"]"
   ]
  },
  {
   "cell_type": "markdown",
   "metadata": {},
   "source": [
    "**<h3>Análisis de separabilidad de la data</h3>**"
   ]
  },
  {
   "cell_type": "code",
   "execution_count": 6,
   "metadata": {
    "colab": {},
    "colab_type": "code",
    "id": "thy36EaGm_yP",
    "scrolled": true
   },
   "outputs": [],
   "source": [
    "#Imputacion temporal del dataset para realizar el gráfico T-SNE.\n",
    "x_imputed = SimpleImputer(strategy=\"mean\").fit_transform(x)\n",
    "x_embedded = TSNE(n_components=2, n_jobs=-1).fit_transform(x_imputed)"
   ]
  },
  {
   "cell_type": "code",
   "execution_count": 7,
   "metadata": {
    "colab": {
     "base_uri": "https://localhost:8080/",
     "height": 647
    },
    "colab_type": "code",
    "id": "hPG7XffcvVPZ",
    "outputId": "abe68d5b-7e3a-4cb5-b88c-4ddea5774038",
    "scrolled": false
   },
   "outputs": [
    {
     "data": {
      "image/png": "[encoded data removed]",
      "text/plain": [
       "<Figure size 500x500 with 1 Axes>"
      ]
     },
     "metadata": {
      "needs_background": "light"
     },
     "output_type": "display_data"
    }
   ],
   "source": [
    "plt.figure(figsize=(5, 5))\n",
    "plt.scatter(x_embedded[:,0], x_embedded[:,1], c=y)\n",
    "plt.show()"
   ]
  },
  {
   "cell_type": "markdown",
   "metadata": {},
   "source": [
    "Se observa del gráfico t-SNE que las clases de los datos están medianamente separados, por tanto, se espera que los modelos a entrenar tengan una precisión razonablemente alta."
   ]
  },
  {
   "cell_type": "markdown",
   "metadata": {},
   "source": [
    "**<h2>Separación de conjunto de entrenamiento de conjunto de pruebas</h2>**"
   ]
  },
  {
   "cell_type": "code",
   "execution_count": 8,
   "metadata": {
    "scrolled": true
   },
   "outputs": [
    {
     "name": "stdout",
     "output_type": "stream",
     "text": [
      "El tamaño del conjunto de prueba es: (864, 77).\n",
      "El tamaño del conjunto de prueba es: (216, 77).\n"
     ]
    }
   ],
   "source": [
    "x_train, x_test, y_train, y_test = model_selection.train_test_split(x, y, train_size=0.8,random_state=0,stratify=y)\n",
    "print(f\"El tamaño del conjunto de prueba es: {x_train.shape}.\")\n",
    "print(f\"El tamaño del conjunto de prueba es: {x_test.shape}.\")"
   ]
  },
  {
   "cell_type": "markdown",
   "metadata": {},
   "source": [
    "## Escalamiento de data"
   ]
  },
  {
   "cell_type": "markdown",
   "metadata": {},
   "source": [
    "Se utilizará la clase ***pipeline*** para realizar el escalamiento sólo en la data de entrenamiento correspondiente a la validación ***k-fold***, dicho ***pipeline*** se definirá previo al entrenamiento de cada modelo."
   ]
  },
  {
   "cell_type": "markdown",
   "metadata": {},
   "source": [
    "# Implementación de artículo del estado del arte"
   ]
  },
  {
   "cell_type": "markdown",
   "metadata": {},
   "source": [
    "A continuación, se presenta la implementación en Python utilizando scikit-learn del artículo titulado \"Random Forest Modeling For Mice Down Syndrome Through Protein Expression: A Supervised Learning Approach\". En este artículo se detalla la implementación en el lenguaje de programación R del método Random Forest para clasificación de proteínas utilizando el Mice Protein Expression Data Set, y es uno de los pocos que provee información para replicar sus resultados de forma bastante aproximada."
   ]
  },
  {
   "cell_type": "markdown",
   "metadata": {},
   "source": [
    "## Preprocesamiento de datos"
   ]
  },
  {
   "cell_type": "markdown",
   "metadata": {},
   "source": [
    "Se considera un preprocesamiento simple, tal y como se da a entender en el artículo. Este preprocesamiento consiste en eliminar la característica \"MouseID\" que es un identificador, y por tano, no aporta al modelo. Por otro lado, cabe mencionar que se utilizan las características \"Genotype\", \"Treatment\" y \"Behavior\" que combinadas forman la clase a la cual pertenece el ratón, lo cual va a ocasionar Data Leakage."
   ]
  },
  {
   "cell_type": "code",
   "execution_count": 9,
   "metadata": {},
   "outputs": [],
   "source": [
    "#Lectura del dataset\n",
    "preprocDataset_stt = dataset.copy()\n",
    "\n",
    "#Columna descartada por no tener información relevante\n",
    "preprocDataset_stt.drop(\"MouseID\", axis=1, inplace=True)\n",
    "\n",
    "#Conversión de datos categóricos a numéricos\n",
    "preprocDataset_stt[\"class\"] = LabelEncoder().fit_transform(preprocDataset_stt[\"class\"])\n",
    "preprocDataset_stt[\"Genotype\"] = LabelEncoder().fit_transform(preprocDataset_stt[\"Genotype\"])\n",
    "preprocDataset_stt[\"Treatment\"] = LabelEncoder().fit_transform(preprocDataset_stt[\"Treatment\"])\n",
    "preprocDataset_stt[\"Behavior\"] = LabelEncoder().fit_transform(preprocDataset_stt[\"Behavior\"])\n",
    "\n",
    "#Características (features) y etiquetas (labels)\n",
    "x = preprocDataset_stt.drop(\"class\",axis=1)\n",
    "y = preprocDataset_stt[\"class\"]"
   ]
  },
  {
   "cell_type": "markdown",
   "metadata": {},
   "source": [
    "## Partición de sets de entrenamiento y prueba"
   ]
  },
  {
   "cell_type": "markdown",
   "metadata": {},
   "source": [
    "Tal y como se menciona en el artículo, se utiliza un 70% de los datos para entrenamiento y 30% como conjunto de prueba."
   ]
  },
  {
   "cell_type": "code",
   "execution_count": 10,
   "metadata": {},
   "outputs": [
    {
     "name": "stdout",
     "output_type": "stream",
     "text": [
      "El tamaño del conjunto de prueba es: (756, 80).\n",
      "El tamaño del conjunto de prueba es: (324, 80).\n"
     ]
    }
   ],
   "source": [
    "x_stt_train, x_stt_test, y_stt_train, y_stt_test = model_selection.train_test_split(x, y, train_size=0.7,random_state=0,stratify=y)\n",
    "print(f\"El tamaño del conjunto de prueba es: {x_stt_train.shape}.\")\n",
    "print(f\"El tamaño del conjunto de prueba es: {x_stt_test.shape}.\")"
   ]
  },
  {
   "cell_type": "markdown",
   "metadata": {},
   "source": [
    "## Modelo a implementar"
   ]
  },
  {
   "cell_type": "markdown",
   "metadata": {},
   "source": [
    "En el artículo se presenta un modelo de Random Forest de 50 estimadores y 8 características para la mejor separación en los nodos de cada estimador. También es importante mencionar que usa un método de imputación para valores NA utilizando la mediana de los datos."
   ]
  },
  {
   "cell_type": "code",
   "execution_count": 10,
   "metadata": {},
   "outputs": [
    {
     "name": "stdout",
     "output_type": "stream",
     "text": [
      "La exactitud de entrenamiento para el modelo del estado del arte es: 1.0.\n",
      "La exactitud de prueba para el modelo del estado del arte es: 1.0.\n",
      "Error OOB obtenido por el modelo del estado del arte es: 0.001322751322751281.\n"
     ]
    }
   ],
   "source": [
    "#Definicion de imputación, escalamiento, modelo y pipeline a utilizar para el entrenamiento\n",
    "stt_imputer = SimpleImputer(strategy='median')\n",
    "stt_scaler = preprocessing.StandardScaler()\n",
    "stt_pipeline = pipeline.Pipeline([(\"imputer\", stt_imputer), (\"scaler\", stt_scaler)])\n",
    "\n",
    "stt_pipeline.fit(x_stt_train)\n",
    "\n",
    "x_train_model = stt_pipeline.transform(x_stt_train)\n",
    "\n",
    "stt_model = RandomForestClassifier(n_estimators=50, max_features=8, criterion='entropy', class_weight=\"balanced\", random_state=0, oob_score=True)\n",
    "stt_model.fit(x_train_model, y_stt_train)\n",
    "\n",
    "x_test_model = stt_pipeline.transform(x_stt_test)\n",
    "\n",
    "oob_error = 1 - stt_model.oob_score_\n",
    "train_stt_score = stt_model.score(x_train_model, y_stt_train)\n",
    "test_stt_score = stt_model.score(x_test_model, y_stt_test)\n",
    "\n",
    "print(f\"La exactitud de entrenamiento para el modelo del estado del arte es: {train_stt_score}.\")\n",
    "print(f\"La exactitud de prueba para el modelo del estado del arte es: {test_stt_score}.\")\n",
    "print(f\"Error OOB obtenido por el modelo del estado del arte es: {oob_error}.\")"
   ]
  },
  {
   "cell_type": "markdown",
   "metadata": {},
   "source": [
    "El resultado indica que el modelo planteado en el artículo ha sido reproducido adecuadamente. Diferencias presentes han ocurrido debido a las diferencias entre las implementaciones de Python y R de Random Forest. or otro lado, se observa que el modelo del artículo efectivamente ha incurrido en Data Leakage."
   ]
  },
  {
   "cell_type": "markdown",
   "metadata": {},
   "source": [
    "### Gráfico de matriz de confusion"
   ]
  },
  {
   "cell_type": "code",
   "execution_count": 11,
   "metadata": {},
   "outputs": [],
   "source": [
    "class_names = set(dataset[\"class\"].values)\n",
    "plt.rcParams.update({'font.size': 8})"
   ]
  },
  {
   "cell_type": "code",
   "execution_count": 12,
   "metadata": {},
   "outputs": [],
   "source": [
    "def plot_confusion_matrix(y_test, y_pred, classes,\n",
    "                          title='Matriz de confusion',\n",
    "                          cmap=plt.cm.RdYlGn, isforNN=False):\n",
    "    '''\n",
    "    Se ha tomado como referencia el siguiente script https://stackoverflow.com/a/50386871\n",
    "    '''\n",
    "    if isforNN:\n",
    "        cm = tf.math.confusion_matrix(y_test, y_pred, num_classes=8).numpy()\n",
    "    else:\n",
    "        cm = confusion_matrix(y_test, y_pred)\n",
    "    np.set_printoptions(precision=2)\n",
    "    plt.figure()\n",
    "    plt.imshow(cm, interpolation='nearest', cmap=cmap)\n",
    "    plt.title(title)\n",
    "    plt.colorbar()\n",
    "    tick_marks = np.arange(len(classes))\n",
    "    plt.xticks(tick_marks, classes, rotation=45)\n",
    "    plt.yticks(tick_marks, classes)\n",
    "    cm = cm.astype('float') / cm.sum(axis=1)[:, np.newaxis]\n",
    "    thresh = cm.max() / 2.\n",
    "    for i, j in itertools.product(range(cm.shape[0]), range(cm.shape[1])):\n",
    "        plt.text(j, i, \"{0:.3f}\".format(cm[i, j]),\n",
    "                 horizontalalignment=\"center\",\n",
    "                 color=\"white\" if cm[i, j] > thresh else \"black\")\n",
    "\n",
    "    plt.tight_layout()\n",
    "    plt.ylabel('Etiqueta verdadera')\n",
    "    plt.xlabel('Etiqueta predecida')"
   ]
  },
  {
   "cell_type": "markdown",
   "metadata": {},
   "source": [
    "# Algoritmos a entrenar"
   ]
  },
  {
   "cell_type": "markdown",
   "metadata": {},
   "source": [
    "## Decision Tree"
   ]
  },
  {
   "cell_type": "markdown",
   "metadata": {},
   "source": [
    "Se ha usado como punto de partida un modelo de árbol de decisión (DT), debido a su facilidad de aplicación. Para esto se ha implementado un pipeline para mantener el orden y poder realizar el escalamiento en la data de entrenamiento. Se ha empleado un método de imputación basado en la media, un escalamiento escalar de los datos y un balanceo de pesos propio del mismo algoritmo DecisionTree de SKLearn. Para la búsqueda de hiperparámetros se ha utilizado una búsqueda aleatoria (RandomizedSearchCV), definiendo el criterio (impureza de gini y entropía), máxima profundidad y número mínimo de muestras para dividir un nodo."
   ]
  },
  {
   "cell_type": "code",
   "execution_count": 11,
   "metadata": {},
   "outputs": [],
   "source": [
    "#Definicion de imputación, escalamiento, modelo y pipeline a utilizar para el entrenamiento\n",
    "dt_imputer = SimpleImputer(strategy='mean')\n",
    "dt_scaler = preprocessing.StandardScaler()\n",
    "dt_model = DecisionTreeClassifier(class_weight=\"balanced\", random_state=0)\n",
    "\n",
    "dt_pipeline = pipeline.Pipeline([(\"imputer\", dt_imputer), (\"scaler\", dt_scaler), (\"dt\", dt_model)])\n",
    "\n",
    "#Definicion del grid donde se hará la búsqueda de hiperparámetros\n",
    "grid_dt = {'dt__criterion': ['gini', 'entropy'],\n",
    "           'dt__max_depth': range(1, 31, 3),\n",
    "           'dt__min_samples_split': range(2, 80, 1)}"
   ]
  },
  {
   "cell_type": "code",
   "execution_count": 12,
   "metadata": {},
   "outputs": [
    {
     "data": {
      "text/plain": [
       "RandomizedSearchCV(estimator=Pipeline(steps=[('imputer', SimpleImputer()),\n",
       "                                             ('scaler', StandardScaler()),\n",
       "                                             ('dt',\n",
       "                                              DecisionTreeClassifier(class_weight='balanced',\n",
       "                                                                     random_state=0))]),\n",
       "                   n_iter=80, n_jobs=-1,\n",
       "                   param_distributions={'dt__criterion': ['gini', 'entropy'],\n",
       "                                        'dt__max_depth': range(1, 31, 3),\n",
       "                                        'dt__min_samples_split': range(2, 80)},\n",
       "                   random_state=0)"
      ]
     },
     "execution_count": 12,
     "metadata": {},
     "output_type": "execute_result"
    }
   ],
   "source": [
    "#Busqueda aleatoria\n",
    "r_search_dt = model_selection.RandomizedSearchCV(dt_pipeline,\n",
    "                                                 grid_dt,\n",
    "                                                 n_iter=80,\n",
    "                                                 n_jobs=-1,\n",
    "                                                 random_state=0)\n",
    "\n",
    "r_search_dt.fit(x_train, y_train)"
   ]
  },
  {
   "cell_type": "code",
   "execution_count": 13,
   "metadata": {},
   "outputs": [
    {
     "name": "stdout",
     "output_type": "stream",
     "text": [
      "La exactitud de entrenamiento para el modelo DT es: 0.9953703703703703.\n",
      "La exactitud de prueba para el modelo DT es: 0.875.\n"
     ]
    }
   ],
   "source": [
    "best_dt_pipeline = r_search_dt.best_estimator_\n",
    "\n",
    "train_score = best_dt_pipeline.score(x_train, y_train)\n",
    "test_score = best_dt_pipeline.score(x_test, y_test)\n",
    "\n",
    "print(f\"La exactitud de entrenamiento para el modelo DT es: {train_score}.\")\n",
    "print(f\"La exactitud de prueba para el modelo DT es: {test_score}.\")"
   ]
  },
  {
   "cell_type": "code",
   "execution_count": 14,
   "metadata": {},
   "outputs": [
    {
     "data": {
      "text/plain": [
       "{'ccp_alpha': 0.0,\n",
       " 'class_weight': 'balanced',\n",
       " 'criterion': 'entropy',\n",
       " 'max_depth': 28,\n",
       " 'max_features': None,\n",
       " 'max_leaf_nodes': None,\n",
       " 'min_impurity_decrease': 0.0,\n",
       " 'min_impurity_split': None,\n",
       " 'min_samples_leaf': 1,\n",
       " 'min_samples_split': 4,\n",
       " 'min_weight_fraction_leaf': 0.0,\n",
       " 'presort': 'deprecated',\n",
       " 'random_state': 0,\n",
       " 'splitter': 'best'}"
      ]
     },
     "execution_count": 14,
     "metadata": {},
     "output_type": "execute_result"
    }
   ],
   "source": [
    "best_dt_params = best_dt_pipeline[\"dt\"].get_params()\n",
    "best_dt_params"
   ]
  },
  {
   "cell_type": "markdown",
   "metadata": {},
   "source": [
    "A partir de los resultados del ajuste de hiperparámetros de la validación cruzada, se han obtenido los parámetros y la media de las exactitudes. De esta forma, se podrán visualizar los resultados usando la librería altair. La gráfica muestra que el criterio de ganancia de información utilizado son bastante similares."
   ]
  },
  {
   "cell_type": "code",
   "execution_count": 15,
   "metadata": {},
   "outputs": [
    {
     "data": {
      "text/html": [
       "<div>\n",
       "<style scoped>\n",
       "    .dataframe tbody tr th:only-of-type {\n",
       "        vertical-align: middle;\n",
       "    }\n",
       "\n",
       "    .dataframe tbody tr th {\n",
       "        vertical-align: top;\n",
       "    }\n",
       "\n",
       "    .dataframe thead th {\n",
       "        text-align: right;\n",
       "    }\n",
       "</style>\n",
       "<table border=\"1\" class=\"dataframe\">\n",
       "  <thead>\n",
       "    <tr style=\"text-align: right;\">\n",
       "      <th></th>\n",
       "      <th>dt__min_samples_split</th>\n",
       "      <th>dt__max_depth</th>\n",
       "      <th>dt__criterion</th>\n",
       "      <th>test_score</th>\n",
       "    </tr>\n",
       "  </thead>\n",
       "  <tbody>\n",
       "    <tr>\n",
       "      <th>0</th>\n",
       "      <td>9</td>\n",
       "      <td>13</td>\n",
       "      <td>gini</td>\n",
       "      <td>0.811299</td>\n",
       "    </tr>\n",
       "    <tr>\n",
       "      <th>1</th>\n",
       "      <td>29</td>\n",
       "      <td>10</td>\n",
       "      <td>entropy</td>\n",
       "      <td>0.777786</td>\n",
       "    </tr>\n",
       "    <tr>\n",
       "      <th>2</th>\n",
       "      <td>20</td>\n",
       "      <td>1</td>\n",
       "      <td>entropy</td>\n",
       "      <td>0.234985</td>\n",
       "    </tr>\n",
       "    <tr>\n",
       "      <th>3</th>\n",
       "      <td>35</td>\n",
       "      <td>22</td>\n",
       "      <td>gini</td>\n",
       "      <td>0.749946</td>\n",
       "    </tr>\n",
       "    <tr>\n",
       "      <th>4</th>\n",
       "      <td>26</td>\n",
       "      <td>16</td>\n",
       "      <td>gini</td>\n",
       "      <td>0.759208</td>\n",
       "    </tr>\n",
       "  </tbody>\n",
       "</table>\n",
       "</div>"
      ],
      "text/plain": [
       "   dt__min_samples_split  dt__max_depth dt__criterion  test_score\n",
       "0                      9             13          gini    0.811299\n",
       "1                     29             10       entropy    0.777786\n",
       "2                     20              1       entropy    0.234985\n",
       "3                     35             22          gini    0.749946\n",
       "4                     26             16          gini    0.759208"
      ]
     },
     "execution_count": 15,
     "metadata": {},
     "output_type": "execute_result"
    }
   ],
   "source": [
    "results_dt = pd.DataFrame(r_search_dt.cv_results_['params'])\n",
    "results_dt['test_score'] = r_search_dt.cv_results_['mean_test_score']\n",
    "results_dt.head()"
   ]
  },
  {
   "cell_type": "code",
   "execution_count": 16,
   "metadata": {},
   "outputs": [
    {
     "data": {
      "text/html": [
       "\n",
       "<div id=\"altair-viz-3dc68cf9f24d4529baa9109e17b85ac2\"></div>\n",
       "<script type=\"text/javascript\">\n",
       "  (function(spec, embedOpt){\n",
       "    let outputDiv = document.currentScript.previousElementSibling;\n",
       "    if (outputDiv.id !== \"altair-viz-3dc68cf9f24d4529baa9109e17b85ac2\") {\n",
       "      outputDiv = document.getElementById(\"altair-viz-3dc68cf9f24d4529baa9109e17b85ac2\");\n",
       "    }\n",
       "    const paths = {\n",
       "      \"vega\": \"https://cdn.jsdelivr.net/npm//vega@5?noext\",\n",
       "      \"vega-lib\": \"https://cdn.jsdelivr.net/npm//vega-lib?noext\",\n",
       "      \"vega-lite\": \"https://cdn.jsdelivr.net/npm//vega-lite@4.8.1?noext\",\n",
       "      \"vega-embed\": \"https://cdn.jsdelivr.net/npm//vega-embed@6?noext\",\n",
       "    };\n",
       "\n",
       "    function loadScript(lib) {\n",
       "      return new Promise(function(resolve, reject) {\n",
       "        var s = document.createElement('script');\n",
       "        s.src = paths[lib];\n",
       "        s.async = true;\n",
       "        s.onload = () => resolve(paths[lib]);\n",
       "        s.onerror = () => reject(`Error loading script: ${paths[lib]}`);\n",
       "        document.getElementsByTagName(\"head\")[0].appendChild(s);\n",
       "      });\n",
       "    }\n",
       "\n",
       "    function showError(err) {\n",
       "      outputDiv.innerHTML = `<div class=\"error\" style=\"color:red;\">${err}</div>`;\n",
       "      throw err;\n",
       "    }\n",
       "\n",
       "    function displayChart(vegaEmbed) {\n",
       "      vegaEmbed(outputDiv, spec, embedOpt)\n",
       "        .catch(err => showError(`Javascript Error: ${err.message}<br>This usually means there's a typo in your chart specification. See the javascript console for the full traceback.`));\n",
       "    }\n",
       "\n",
       "    if(typeof define === \"function\" && define.amd) {\n",
       "      requirejs.config({paths});\n",
       "      require([\"vega-embed\"], displayChart, err => showError(`Error loading script: ${err.message}`));\n",
       "    } else if (typeof vegaEmbed === \"function\") {\n",
       "      displayChart(vegaEmbed);\n",
       "    } else {\n",
       "      loadScript(\"vega\")\n",
       "        .then(() => loadScript(\"vega-lite\"))\n",
       "        .then(() => loadScript(\"vega-embed\"))\n",
       "        .catch(showError)\n",
       "        .then(() => displayChart(vegaEmbed));\n",
       "    }\n",
       "  })({\"config\": {\"view\": {\"continuousWidth\": 400, \"continuousHeight\": 300}}, \"data\": {\"name\": \"data-7db66bf293bd542d060691b8c208613f\"}, \"mark\": {\"type\": \"line\", \"point\": true}, \"encoding\": {\"color\": {\"type\": \"nominal\", \"field\": \"dt__criterion\"}, \"x\": {\"type\": \"quantitative\", \"field\": \"dt__max_depth\", \"title\": \"Profundidad maxima\"}, \"y\": {\"type\": \"quantitative\", \"aggregate\": \"average\", \"field\": \"test_score\", \"scale\": {\"zero\": false}, \"title\": \"Score Medio CV\"}}, \"title\": \"Comparacion de performance DT\", \"$schema\": \"https://vega.github.io/schema/vega-lite/v4.8.1.json\", \"datasets\": {\"data-7db66bf293bd542d060691b8c208613f\": [{\"dt__min_samples_split\": 9, \"dt__max_depth\": 13, \"dt__criterion\": \"gini\", \"test_score\": 0.8112985616346282}, {\"dt__min_samples_split\": 29, \"dt__max_depth\": 10, \"dt__criterion\": \"entropy\", \"test_score\": 0.7777859927409598}, {\"dt__min_samples_split\": 20, \"dt__max_depth\": 1, \"dt__criterion\": \"entropy\", \"test_score\": 0.23498454093292112}, {\"dt__min_samples_split\": 35, \"dt__max_depth\": 22, \"dt__criterion\": \"gini\", \"test_score\": 0.7499462293318995}, {\"dt__min_samples_split\": 26, \"dt__max_depth\": 16, \"dt__criterion\": \"gini\", \"test_score\": 0.7592082269122193}, {\"dt__min_samples_split\": 28, \"dt__max_depth\": 19, \"dt__criterion\": \"gini\", \"test_score\": 0.7603642962763811}, {\"dt__min_samples_split\": 74, \"dt__max_depth\": 22, \"dt__criterion\": \"gini\", \"test_score\": 0.7140677510418066}, {\"dt__min_samples_split\": 37, \"dt__max_depth\": 22, \"dt__criterion\": \"entropy\", \"test_score\": 0.7650423444011292}, {\"dt__min_samples_split\": 14, \"dt__max_depth\": 19, \"dt__criterion\": \"entropy\", \"test_score\": 0.8113388896357037}, {\"dt__min_samples_split\": 64, \"dt__max_depth\": 19, \"dt__criterion\": \"gini\", \"test_score\": 0.7187121924989918}, {\"dt__min_samples_split\": 24, \"dt__max_depth\": 16, \"dt__criterion\": \"gini\", \"test_score\": 0.7545570641215218}, {\"dt__min_samples_split\": 25, \"dt__max_depth\": 4, \"dt__criterion\": \"entropy\", \"test_score\": 0.6967670385804543}, {\"dt__min_samples_split\": 63, \"dt__max_depth\": 19, \"dt__criterion\": \"gini\", \"test_score\": 0.7233364699556393}, {\"dt__min_samples_split\": 79, \"dt__max_depth\": 4, \"dt__criterion\": \"entropy\", \"test_score\": 0.6736120446296545}, {\"dt__min_samples_split\": 56, \"dt__max_depth\": 1, \"dt__criterion\": \"gini\", \"test_score\": 0.23498454093292112}, {\"dt__min_samples_split\": 40, \"dt__max_depth\": 19, \"dt__criterion\": \"entropy\", \"test_score\": 0.7604247882779943}, {\"dt__min_samples_split\": 33, \"dt__max_depth\": 13, \"dt__criterion\": \"entropy\", \"test_score\": 0.7731482726172872}, {\"dt__min_samples_split\": 37, \"dt__max_depth\": 4, \"dt__criterion\": \"gini\", \"test_score\": 0.6909396424250571}, {\"dt__min_samples_split\": 24, \"dt__max_depth\": 19, \"dt__criterion\": \"entropy\", \"test_score\": 0.7801182954698211}, {\"dt__min_samples_split\": 12, \"dt__max_depth\": 28, \"dt__criterion\": \"entropy\", \"test_score\": 0.8171461217905632}, {\"dt__min_samples_split\": 19, \"dt__max_depth\": 25, \"dt__criterion\": \"gini\", \"test_score\": 0.753414437424385}, {\"dt__min_samples_split\": 73, \"dt__max_depth\": 7, \"dt__criterion\": \"gini\", \"test_score\": 0.7129116816776448}, {\"dt__min_samples_split\": 32, \"dt__max_depth\": 13, \"dt__criterion\": \"gini\", \"test_score\": 0.7499462293318995}, {\"dt__min_samples_split\": 44, \"dt__max_depth\": 25, \"dt__criterion\": \"gini\", \"test_score\": 0.7464645785723888}, {\"dt__min_samples_split\": 55, \"dt__max_depth\": 1, \"dt__criterion\": \"gini\", \"test_score\": 0.23498454093292112}, {\"dt__min_samples_split\": 37, \"dt__max_depth\": 28, \"dt__criterion\": \"entropy\", \"test_score\": 0.7650423444011292}, {\"dt__min_samples_split\": 33, \"dt__max_depth\": 10, \"dt__criterion\": \"entropy\", \"test_score\": 0.7731482726172872}, {\"dt__min_samples_split\": 7, \"dt__max_depth\": 13, \"dt__criterion\": \"entropy\", \"test_score\": 0.8391786530447641}, {\"dt__min_samples_split\": 72, \"dt__max_depth\": 10, \"dt__criterion\": \"entropy\", \"test_score\": 0.702554106734776}, {\"dt__min_samples_split\": 50, \"dt__max_depth\": 16, \"dt__criterion\": \"gini\", \"test_score\": 0.737216023659094}, {\"dt__min_samples_split\": 7, \"dt__max_depth\": 28, \"dt__criterion\": \"entropy\", \"test_score\": 0.8391786530447641}, {\"dt__min_samples_split\": 36, \"dt__max_depth\": 1, \"dt__criterion\": \"gini\", \"test_score\": 0.23498454093292112}, {\"dt__min_samples_split\": 79, \"dt__max_depth\": 28, \"dt__criterion\": \"entropy\", \"test_score\": 0.6736254872966796}, {\"dt__min_samples_split\": 21, \"dt__max_depth\": 1, \"dt__criterion\": \"gini\", \"test_score\": 0.23498454093292112}, {\"dt__min_samples_split\": 55, \"dt__max_depth\": 4, \"dt__criterion\": \"entropy\", \"test_score\": 0.6898239010619707}, {\"dt__min_samples_split\": 4, \"dt__max_depth\": 28, \"dt__criterion\": \"entropy\", \"test_score\": 0.8484137652910337}, {\"dt__min_samples_split\": 32, \"dt__max_depth\": 22, \"dt__criterion\": \"entropy\", \"test_score\": 0.7754738540126361}, {\"dt__min_samples_split\": 22, \"dt__max_depth\": 25, \"dt__criterion\": \"gini\", \"test_score\": 0.7568960881838956}, {\"dt__min_samples_split\": 29, \"dt__max_depth\": 28, \"dt__criterion\": \"gini\", \"test_score\": 0.761520365640543}, {\"dt__min_samples_split\": 11, \"dt__max_depth\": 1, \"dt__criterion\": \"gini\", \"test_score\": 0.23498454093292112}, {\"dt__min_samples_split\": 44, \"dt__max_depth\": 16, \"dt__criterion\": \"gini\", \"test_score\": 0.7464645785723888}, {\"dt__min_samples_split\": 32, \"dt__max_depth\": 10, \"dt__criterion\": \"entropy\", \"test_score\": 0.7754738540126361}, {\"dt__min_samples_split\": 31, \"dt__max_depth\": 4, \"dt__criterion\": \"gini\", \"test_score\": 0.6909396424250571}, {\"dt__min_samples_split\": 60, \"dt__max_depth\": 16, \"dt__criterion\": \"entropy\", \"test_score\": 0.7233969619572524}, {\"dt__min_samples_split\": 17, \"dt__max_depth\": 10, \"dt__criterion\": \"gini\", \"test_score\": 0.7626898776717301}, {\"dt__min_samples_split\": 37, \"dt__max_depth\": 16, \"dt__criterion\": \"gini\", \"test_score\": 0.7476206479365506}, {\"dt__min_samples_split\": 20, \"dt__max_depth\": 1, \"dt__criterion\": \"gini\", \"test_score\": 0.23498454093292112}, {\"dt__min_samples_split\": 72, \"dt__max_depth\": 19, \"dt__criterion\": \"gini\", \"test_score\": 0.7071313348568357}, {\"dt__min_samples_split\": 48, \"dt__max_depth\": 4, \"dt__criterion\": \"entropy\", \"test_score\": 0.6909799704261326}, {\"dt__min_samples_split\": 48, \"dt__max_depth\": 28, \"dt__criterion\": \"entropy\", \"test_score\": 0.7418739077833042}, {\"dt__min_samples_split\": 52, \"dt__max_depth\": 7, \"dt__criterion\": \"entropy\", \"test_score\": 0.7441860465116279}, {\"dt__min_samples_split\": 21, \"dt__max_depth\": 4, \"dt__criterion\": \"entropy\", \"test_score\": 0.6967670385804543}, {\"dt__min_samples_split\": 27, \"dt__max_depth\": 4, \"dt__criterion\": \"entropy\", \"test_score\": 0.6967670385804543}, {\"dt__min_samples_split\": 13, \"dt__max_depth\": 28, \"dt__criterion\": \"gini\", \"test_score\": 0.7997311466594972}, {\"dt__min_samples_split\": 48, \"dt__max_depth\": 7, \"dt__criterion\": \"entropy\", \"test_score\": 0.7464981852399516}, {\"dt__min_samples_split\": 37, \"dt__max_depth\": 4, \"dt__criterion\": \"entropy\", \"test_score\": 0.6944548998521306}, {\"dt__min_samples_split\": 6, \"dt__max_depth\": 16, \"dt__criterion\": \"entropy\", \"test_score\": 0.839118161043151}, {\"dt__min_samples_split\": 7, \"dt__max_depth\": 7, \"dt__criterion\": \"gini\", \"test_score\": 0.8043419814491195}, {\"dt__min_samples_split\": 68, \"dt__max_depth\": 1, \"dt__criterion\": \"gini\", \"test_score\": 0.23498454093292112}, {\"dt__min_samples_split\": 71, \"dt__max_depth\": 13, \"dt__criterion\": \"gini\", \"test_score\": 0.7082874042209975}, {\"dt__min_samples_split\": 52, \"dt__max_depth\": 13, \"dt__criterion\": \"entropy\", \"test_score\": 0.7407178384191424}, {\"dt__min_samples_split\": 39, \"dt__max_depth\": 1, \"dt__criterion\": \"entropy\", \"test_score\": 0.23498454093292112}, {\"dt__min_samples_split\": 65, \"dt__max_depth\": 4, \"dt__criterion\": \"gini\", \"test_score\": 0.6874714343325715}, {\"dt__min_samples_split\": 14, \"dt__max_depth\": 16, \"dt__criterion\": \"gini\", \"test_score\": 0.790489313079715}, {\"dt__min_samples_split\": 7, \"dt__max_depth\": 13, \"dt__criterion\": \"gini\", \"test_score\": 0.8101424922704664}, {\"dt__min_samples_split\": 12, \"dt__max_depth\": 25, \"dt__criterion\": \"gini\", \"test_score\": 0.7997311466594972}, {\"dt__min_samples_split\": 35, \"dt__max_depth\": 22, \"dt__criterion\": \"entropy\", \"test_score\": 0.7708361338889635}, {\"dt__min_samples_split\": 4, \"dt__max_depth\": 28, \"dt__criterion\": \"gini\", \"test_score\": 0.8136443070305148}, {\"dt__min_samples_split\": 41, \"dt__max_depth\": 22, \"dt__criterion\": \"entropy\", \"test_score\": 0.7615875789756688}, {\"dt__min_samples_split\": 37, \"dt__max_depth\": 7, \"dt__criterion\": \"gini\", \"test_score\": 0.7487767173007124}, {\"dt__min_samples_split\": 28, \"dt__max_depth\": 22, \"dt__criterion\": \"gini\", \"test_score\": 0.7603642962763811}, {\"dt__min_samples_split\": 50, \"dt__max_depth\": 25, \"dt__criterion\": \"gini\", \"test_score\": 0.737216023659094}, {\"dt__min_samples_split\": 61, \"dt__max_depth\": 7, \"dt__criterion\": \"entropy\", \"test_score\": 0.7233969619572524}, {\"dt__min_samples_split\": 53, \"dt__max_depth\": 7, \"dt__criterion\": \"entropy\", \"test_score\": 0.7430501411480038}, {\"dt__min_samples_split\": 25, \"dt__max_depth\": 28, \"dt__criterion\": \"gini\", \"test_score\": 0.7568826455168705}, {\"dt__min_samples_split\": 3, \"dt__max_depth\": 1, \"dt__criterion\": \"entropy\", \"test_score\": 0.23498454093292112}, {\"dt__min_samples_split\": 5, \"dt__max_depth\": 13, \"dt__criterion\": \"gini\", \"test_score\": 0.8205538378814357}, {\"dt__min_samples_split\": 72, \"dt__max_depth\": 4, \"dt__criterion\": \"gini\", \"test_score\": 0.6897835730608952}, {\"dt__min_samples_split\": 23, \"dt__max_depth\": 19, \"dt__criterion\": \"gini\", \"test_score\": 0.752244925393198}, {\"dt__min_samples_split\": 13, \"dt__max_depth\": 10, \"dt__criterion\": \"entropy\", \"test_score\": 0.8182753058206748}]}}, {\"mode\": \"vega-lite\"});\n",
       "</script>"
      ],
      "text/plain": [
       "alt.Chart(...)"
      ]
     },
     "execution_count": 16,
     "metadata": {},
     "output_type": "execute_result"
    }
   ],
   "source": [
    "alt.Chart(results_dt, \n",
    "          title='Comparacion de performance DT'\n",
    "         ).mark_line(point=True).encode(\n",
    "    alt.X('dt__max_depth', title='Profundidad maxima'),\n",
    "    alt.Y('test_score', title='Score Medio CV', aggregate='average', scale=alt.Scale(zero=False)),\n",
    "    color='dt__criterion'\n",
    ")"
   ]
  },
  {
   "cell_type": "code",
   "execution_count": 78,
   "metadata": {},
   "outputs": [
    {
     "data": {
      "image/png": "[encoded data removed]",
      "text/plain": [
       "<Figure size 600x400 with 2 Axes>"
      ]
     },
     "metadata": {
      "needs_background": "light"
     },
     "output_type": "display_data"
    }
   ],
   "source": [
    "y_pred = best_dt_pipeline.predict(x_test)\n",
    "plot_confusion_matrix(y_test, y_pred, class_names, title='Matriz de confusión', cmap=plt.cm.Blues)"
   ]
  },
  {
   "cell_type": "markdown",
   "metadata": {},
   "source": [
    "## Random Forest"
   ]
  },
  {
   "cell_type": "markdown",
   "metadata": {},
   "source": [
    "Se ha usado Random Forest (RF) como un método que construye muchos árboles de decisión y cada árbol emite un voto por alguna entrada. RF utiliza muchos árboles para superar la alta dimensionalidad de los datos. Para la implementación de este modelo, se aplicó un proceso de validación cruzada con imputación de media y escalamiento estandar. Se ha realizado un balanceo de datos y se ha utilizado el criterio de impureza de gini. Además, se ha utilizado un pipeline para mantener un orden en la secuencia de pasos. Para la búsqueda de hiperparámetros, se ha utilizado una búsqueda aleatoria (RandomizedSearchCV), definiendo el número de estimadores, máxima profundidad, número mínimo de muestras para dividir un nodo y mínimo de muestras por hoja."
   ]
  },
  {
   "cell_type": "code",
   "execution_count": 39,
   "metadata": {},
   "outputs": [],
   "source": [
    "#Definicion de imputación, escalamiento, modelo y pipeline a utilizar para el entrenamiento\n",
    "rfc_imputer = SimpleImputer(strategy='mean')\n",
    "rfc_scaler = preprocessing.StandardScaler()\n",
    "rfc_model = RandomForestClassifier(class_weight=\"balanced\", criterion=\"gini\", random_state=0)\n",
    "\n",
    "rfc_pipeline = pipeline.Pipeline([(\"imputer\", rfc_imputer),(\"scaler\", rfc_scaler), (\"rfc\", rfc_model)])\n",
    "\n",
    "#Definicion del grid donde se hará la búsqueda de hiperparámetros\n",
    "grid_rfc = {\"rfc__n_estimators\": range(1,1200,20), \n",
    "            \"rfc__max_depth\": range(1,31,3),\n",
    "            \"rfc__min_samples_split\": range(2, 80, 2),\n",
    "            \"rfc__min_samples_leaf\": range(1, 20, 1)}"
   ]
  },
  {
   "cell_type": "code",
   "execution_count": 40,
   "metadata": {},
   "outputs": [
    {
     "data": {
      "text/plain": [
       "RandomizedSearchCV(cv=8,\n",
       "                   estimator=Pipeline(steps=[('imputer', SimpleImputer()),\n",
       "                                             ('scaler', StandardScaler()),\n",
       "                                             ('rfc',\n",
       "                                              RandomForestClassifier(class_weight='balanced',\n",
       "                                                                     random_state=0))]),\n",
       "                   n_iter=60, n_jobs=-1,\n",
       "                   param_distributions={'rfc__max_depth': range(1, 31, 3),\n",
       "                                        'rfc__min_samples_leaf': range(1, 20),\n",
       "                                        'rfc__min_samples_split': range(2, 80, 2),\n",
       "                                        'rfc__n_estimators': range(1, 1200, 20)},\n",
       "                   random_state=0)"
      ]
     },
     "execution_count": 40,
     "metadata": {},
     "output_type": "execute_result"
    }
   ],
   "source": [
    "#Busqueda aleatoria\n",
    "r_search_rfc = model_selection.RandomizedSearchCV(rfc_pipeline, \n",
    "                                                  grid_rfc, \n",
    "                                                  n_iter=60, \n",
    "                                                  n_jobs=-1,\n",
    "                                                  cv=8, \n",
    "                                                  random_state=0)\n",
    "r_search_rfc.fit(x_train, y_train)"
   ]
  },
  {
   "cell_type": "code",
   "execution_count": 43,
   "metadata": {
    "scrolled": true
   },
   "outputs": [
    {
     "name": "stdout",
     "output_type": "stream",
     "text": [
      "La exactitud de entrenamiento para el modelo RF es: 1.0.\n",
      "La exactitud de prueba para el modelo RF es: 0.9814814814814815.\n"
     ]
    }
   ],
   "source": [
    "best_rfc_pipeline = r_search_rfc.best_estimator_\n",
    "\n",
    "train_score = best_rfc_pipeline.score(x_train, y_train)\n",
    "test_score = best_rfc_pipeline.score(x_test, y_test)\n",
    "\n",
    "print(f\"La exactitud de entrenamiento para el modelo RF es: {train_score}.\")\n",
    "print(f\"La exactitud de prueba para el modelo RF es: {test_score}.\")"
   ]
  },
  {
   "cell_type": "code",
   "execution_count": 81,
   "metadata": {},
   "outputs": [
    {
     "data": {
      "image/png": "[encoded data removed]",
      "text/plain": [
       "<Figure size 600x400 with 2 Axes>"
      ]
     },
     "metadata": {
      "needs_background": "light"
     },
     "output_type": "display_data"
    }
   ],
   "source": [
    "y_pred = best_rfc_pipeline.predict(x_test)\n",
    "plot_confusion_matrix(y_test, y_pred, class_names, title='Matriz de confusión', cmap=plt.cm.Blues)"
   ]
  },
  {
   "cell_type": "markdown",
   "metadata": {},
   "source": [
    "#### Eliminación hacia atrás"
   ]
  },
  {
   "cell_type": "markdown",
   "metadata": {},
   "source": [
    "Utilizando el mejor modelo de clasificación a partir de la búsqueda aleatoria de hiperparámetros, se ha buscado el número óptimo de características utilizando el método de clasificación de funciones y selección con validación cruzada RFECV. Si bien en los demás modelos utilizados se ha obtenido 77 características óptimas, se cree que en este modelo se han obtenido más debido a que es un modelo de ensamble que desagrega el dataset y complica la identificación de la cantidad óptima de características."
   ]
  },
  {
   "cell_type": "code",
   "execution_count": null,
   "metadata": {},
   "outputs": [],
   "source": [
    "#Definicion de imputación, escalamiento, modelo y pipeline a utilizar para el entrenamiento\n",
    "rfc_imputer = SimpleImputer(strategy='mean')\n",
    "rfc_scaler = preprocessing.StandardScaler()\n",
    "rfc_model = RandomForestClassifier(class_weight=\"balanced\",random_state=0)\n",
    "\n",
    "imsc_imputer = rfc_imputer\n",
    "imsc_scaler = rfc_scaler\n",
    "imsc_pipeline = pipeline.Pipeline([(\"imputer\", imsc_imputer), (\"scaler\", imsc_scaler)])\n",
    "\n",
    "imsc_pipeline.fit(x_train)\n",
    "\n",
    "x_train_imsc = imsc_pipeline.transform(x_train)\n",
    "\n",
    "best_rfc_params = best_rfc_pipeline[\"rfc\"].get_params()\n",
    "best_rfc_model = RandomForestClassifier().set_params(**best_rfc_params)\n",
    "\n",
    "rfecv = RFECV(estimator=best_rfc_model, step=1, cv=StratifiedKFold(8), scoring='accuracy')\n",
    "rfecv.fit(x_train_imsc, y_train)\n",
    "\n",
    "x_train_opt = rfecv.transform(x_train_imsc)\n",
    "\n",
    "print(\"Número óptimo de características: %d\" % x_train_opt.shape[1])"
   ]
  },
  {
   "cell_type": "markdown",
   "metadata": {},
   "source": [
    "## KNN"
   ]
  },
  {
   "cell_type": "markdown",
   "metadata": {},
   "source": [
    "Se ha empleado el algoritmo de clasificación KNN, debido a que es bastante utilizado en el diagnóstico de enfermedades cardiacas, además es uno de los que menos tiempo de proceso requiere en comparación a los demás modelos seleccionados.\n",
    "Al igual que los otros modelos, se ha empleado una imputación con media, escalamiento estandar y un pipeline. Los hiperparámetros se han optimizado con una búsqueda aleatoria y se han realizado un total de 360 iteraciones, buscando el modelo óptimo según la cantidad de vecinos próximos, tamaño de cada hoja, los pesos y los algoritmos utilizados."
   ]
  },
  {
   "cell_type": "code",
   "execution_count": 45,
   "metadata": {},
   "outputs": [],
   "source": [
    "#Definicion de imputación, escalamiento, modelo y pipeline a utilizar para el entrenamiento\n",
    "knn_imputer = SimpleImputer(strategy='mean')\n",
    "knn_scaler = preprocessing.StandardScaler()\n",
    "knn_model = KNeighborsClassifier(n_jobs=-1)\n",
    "knn_pipeline = pipeline.Pipeline([(\"imputer\", knn_imputer),(\"scaler\", knn_scaler), (\"knn\", knn_model)])\n",
    "\n",
    "#Definicion del grid donde se hará la búsqueda de hiperparámetros\n",
    "grid_knn = {\"knn__n_neighbors\": range(1,10,1),\n",
    "            \"knn__leaf_size\": range(1,6,1),\n",
    "            \"knn__weights\": ['uniform', 'distance'],\n",
    "            \"knn__algorithm\": ['auto', 'ball_tree','kd_tree','brute']}"
   ]
  },
  {
   "cell_type": "code",
   "execution_count": 46,
   "metadata": {},
   "outputs": [
    {
     "data": {
      "text/plain": [
       "RandomizedSearchCV(cv=8,\n",
       "                   estimator=Pipeline(steps=[('imputer', SimpleImputer()),\n",
       "                                             ('scaler', StandardScaler()),\n",
       "                                             ('knn',\n",
       "                                              KNeighborsClassifier(n_jobs=-1))]),\n",
       "                   n_iter=360, n_jobs=-1,\n",
       "                   param_distributions={'knn__algorithm': ['auto', 'ball_tree',\n",
       "                                                           'kd_tree', 'brute'],\n",
       "                                        'knn__leaf_size': range(1, 6),\n",
       "                                        'knn__n_neighbors': range(1, 10),\n",
       "                                        'knn__weights': ['uniform',\n",
       "                                                         'distance']},\n",
       "                   random_state=0)"
      ]
     },
     "execution_count": 46,
     "metadata": {},
     "output_type": "execute_result"
    }
   ],
   "source": [
    "#Busqueda aleatoria\n",
    "r_search_knn = model_selection.RandomizedSearchCV(knn_pipeline, \n",
    "                                                  grid_knn, \n",
    "                                                  n_iter=360, \n",
    "                                                  n_jobs=-1,\n",
    "                                                  cv=8, \n",
    "                                                  random_state=0)\n",
    "r_search_knn.fit(x_train, y_train)"
   ]
  },
  {
   "cell_type": "code",
   "execution_count": 47,
   "metadata": {},
   "outputs": [
    {
     "name": "stdout",
     "output_type": "stream",
     "text": [
      "La exactitud de entrenamiento para el modelo KNN es: 1.0.\n",
      "La exactitud de prueba para el modelo KNN es: 0.9953703703703703.\n"
     ]
    }
   ],
   "source": [
    "best_knn_pipeline = r_search_knn.best_estimator_\n",
    "\n",
    "train_score = best_knn_pipeline.score(x_train, y_train)\n",
    "test_score = best_knn_pipeline.score(x_test, y_test)\n",
    "\n",
    "print(f\"La exactitud de entrenamiento para el modelo KNN es: {train_score}.\")\n",
    "print(f\"La exactitud de prueba para el modelo KNN es: {test_score}.\")"
   ]
  },
  {
   "cell_type": "code",
   "execution_count": 48,
   "metadata": {},
   "outputs": [
    {
     "data": {
      "text/plain": [
       "{'algorithm': 'auto',\n",
       " 'leaf_size': 1,\n",
       " 'metric': 'minkowski',\n",
       " 'metric_params': None,\n",
       " 'n_jobs': -1,\n",
       " 'n_neighbors': 1,\n",
       " 'p': 2,\n",
       " 'weights': 'uniform'}"
      ]
     },
     "execution_count": 48,
     "metadata": {},
     "output_type": "execute_result"
    }
   ],
   "source": [
    "best_knn_params = best_knn_pipeline[\"knn\"].get_params()\n",
    "best_knn_params"
   ]
  },
  {
   "cell_type": "code",
   "execution_count": 82,
   "metadata": {},
   "outputs": [
    {
     "data": {
      "image/png": "[encoded data removed]",
      "text/plain": [
       "<Figure size 600x400 with 2 Axes>"
      ]
     },
     "metadata": {
      "needs_background": "light"
     },
     "output_type": "display_data"
    }
   ],
   "source": [
    "y_pred = best_knn_pipeline.predict(x_test)\n",
    "plot_confusion_matrix(y_test, y_pred, class_names, title='Matriz de confusión', cmap=plt.cm.Blues)"
   ]
  },
  {
   "cell_type": "markdown",
   "metadata": {},
   "source": [
    "No se realizó una eliminación hacia atrás para determinar las principales características, debido a que el modelo KNN no tiene atributos **coef_** o **feature_importances_**, que son requeridas por el selector RFECV."
   ]
  },
  {
   "cell_type": "markdown",
   "metadata": {},
   "source": [
    "## Support Vector Machine"
   ]
  },
  {
   "cell_type": "markdown",
   "metadata": {},
   "source": [
    "Primero se intentará con una svm lineal, para lo cual se le aplicará una búsqueda de grilla a un pipeline de imputador, escalador y clasificador."
   ]
  },
  {
   "cell_type": "markdown",
   "metadata": {},
   "source": [
    "### Linear SVM"
   ]
  },
  {
   "cell_type": "code",
   "execution_count": 50,
   "metadata": {},
   "outputs": [
    {
     "data": {
      "text/plain": [
       "GridSearchCV(cv=8,\n",
       "             estimator=Pipeline(steps=[('imputer', SimpleImputer()),\n",
       "                                       ('scaler', StandardScaler()),\n",
       "                                       ('model',\n",
       "                                        LinearSVC(class_weight='balanced',\n",
       "                                                  max_iter=3000,\n",
       "                                                  random_state=0))]),\n",
       "             n_jobs=-1,\n",
       "             param_grid={'model__C': array([1.00e-04, 2.07e-04, 4.28e-04, 8.86e-04, 1.83e-03, 3.79e-03,\n",
       "       7.85e-03, 1.62e-02, 3.36e-02, 6.95e-02, 1.44e-01, 2.98e-01,\n",
       "       6.16e-01, 1.27e+00, 2.64e+00, 5.46e+00, 1.13e+01, 2.34e+01,\n",
       "       4.83e+01, 1.00e+02])})"
      ]
     },
     "execution_count": 50,
     "metadata": {},
     "output_type": "execute_result"
    }
   ],
   "source": [
    "#Definicion de imputación, escalamiento, modelo y pipeline a utilizar para el entrenamiento\n",
    "svm_imputer = SimpleImputer(strategy='mean')\n",
    "svm_scaler = preprocessing.StandardScaler()\n",
    "svm_model = LinearSVC(class_weight=\"balanced\",random_state=0, max_iter=3000)#SVC(kernel=\"rbf\",class_weight=\"balanced\",random_state=0)\n",
    "svm_pipeline = pipeline.Pipeline([(\"imputer\",svm_imputer), (\"scaler\", svm_scaler), (\"model\", svm_model)])\n",
    "\n",
    "#Definicion del grid donde se hará la búsqueda de hiperparámetros\n",
    "C = np.logspace(-4, 2, num=20)\n",
    "grid_svm = {\"model__C\":C}\n",
    "\n",
    "#Busqueda aleatoria\n",
    "grid_search = model_selection.GridSearchCV(svm_pipeline, grid_svm, n_jobs=-1,cv=8)\n",
    "grid_search.fit(x_train, y_train)"
   ]
  },
  {
   "cell_type": "code",
   "execution_count": 51,
   "metadata": {},
   "outputs": [
    {
     "name": "stdout",
     "output_type": "stream",
     "text": [
      "La exactitud de entrenamiento para el modelo SVM con kernel RBF es: 1.0.\n",
      "La exactitud de prueba para el modelo SVM con kernel RBF es: 0.9814814814814815.\n"
     ]
    }
   ],
   "source": [
    "best_svm_pipeline = grid_search.best_estimator_\n",
    "\n",
    "train_score = best_svm_pipeline.score(x_train, y_train)\n",
    "test_score = best_svm_pipeline.score(x_test, y_test)\n",
    "\n",
    "print(f\"La exactitud de entrenamiento para el modelo SVM con kernel RBF es: {train_score}.\")\n",
    "print(f\"La exactitud de prueba para el modelo SVM con kernel RBF es: {test_score}.\")"
   ]
  },
  {
   "cell_type": "code",
   "execution_count": 83,
   "metadata": {},
   "outputs": [
    {
     "data": {
      "image/png": "[encoded data removed]",
      "text/plain": [
       "<Figure size 600x400 with 2 Axes>"
      ]
     },
     "metadata": {
      "needs_background": "light"
     },
     "output_type": "display_data"
    }
   ],
   "source": [
    "y_pred = best_svm_pipeline.predict(x_test)\n",
    "plot_confusion_matrix(y_test, y_pred, class_names, title='Matriz de confusión', cmap=plt.cm.Blues)"
   ]
  },
  {
   "cell_type": "markdown",
   "metadata": {},
   "source": [
    "#### Eliminación hacia atrás"
   ]
  },
  {
   "cell_type": "markdown",
   "metadata": {},
   "source": [
    "Debido a que la precisión de test puede mejorar, se realizará una selección de características por eliminación hacia atrás."
   ]
  },
  {
   "cell_type": "code",
   "execution_count": 85,
   "metadata": {},
   "outputs": [
    {
     "data": {
      "text/plain": [
       "LinearSVC(C=0.615848211066026, class_weight='balanced', max_iter=3000,\n",
       "          random_state=0)"
      ]
     },
     "execution_count": 85,
     "metadata": {},
     "output_type": "execute_result"
    }
   ],
   "source": [
    "#Cabe resaltar que el selector RFECV no soporta el ingreso de datos de entrenamiento con valores faltantes, aún\n",
    "#si el estimador es un pipeline con un imputador, para solucionar este problema, acá ya no se usa el pipeline\n",
    "#por lo que se preprocesa la data antes de pasarlo al método fit del RFECV\n",
    "\n",
    "transformation_pipeline = pipeline.Pipeline([(\"imputer\",svm_imputer), (\"scaler\", svm_scaler)])\n",
    "x_train_transformed = transformation_pipeline.fit_transform(x_train)\n",
    "x_test_transformed = transformation_pipeline.transform(x_test)\n",
    "\n",
    "#Utilizaré el modelo encontrado anteriormente\n",
    "params = best_svm_pipeline[\"model\"].get_params()\n",
    "svm_model = LinearSVC()\n",
    "svm_model.set_params(**params)"
   ]
  },
  {
   "cell_type": "code",
   "execution_count": 86,
   "metadata": {},
   "outputs": [
    {
     "data": {
      "text/plain": [
       "RFECV(cv=8,\n",
       "      estimator=LinearSVC(C=0.615848211066026, class_weight='balanced',\n",
       "                          max_iter=3000, random_state=0),\n",
       "      scoring='accuracy')"
      ]
     },
     "execution_count": 86,
     "metadata": {},
     "output_type": "execute_result"
    }
   ],
   "source": [
    "rfecv = RFECV(estimator=svm_model, step=1, cv=8, scoring='accuracy')\n",
    "rfecv.fit(x_train_transformed, y_train)"
   ]
  },
  {
   "cell_type": "code",
   "execution_count": 87,
   "metadata": {},
   "outputs": [
    {
     "name": "stdout",
     "output_type": "stream",
     "text": [
      "Después de realizar la selección de características:\n",
      "la exactitud de entrenamiento para el modelo SVM con kernel RBF es: 1.0.\n",
      "La exactitud de prueba para el modelo SVM con kernel RBF es: 0.9768518518518519.\n"
     ]
    }
   ],
   "source": [
    "train_score = rfecv.score(x_train_transformed, y_train)\n",
    "\n",
    "test_score = rfecv.score(x_test_transformed, y_test)\n",
    "\n",
    "print(\"Después de realizar la selección de características:\")\n",
    "print(f\"la exactitud de entrenamiento para el modelo SVM con kernel RBF es: {train_score}.\")\n",
    "print(f\"La exactitud de prueba para el modelo SVM con kernel RBF es: {test_score}.\")"
   ]
  },
  {
   "cell_type": "code",
   "execution_count": 88,
   "metadata": {},
   "outputs": [
    {
     "name": "stdout",
     "output_type": "stream",
     "text": [
      "Número óptimo de características : 44\n"
     ]
    }
   ],
   "source": [
    "print(f\"Número óptimo de características : {rfecv.get_support().sum()}\")"
   ]
  },
  {
   "cell_type": "markdown",
   "metadata": {},
   "source": [
    "Podemos observar que la precisión de test disminuyó, esto se debe al hecho que el RFECV tiene una menor capacidad, en comparación a la búsqueda de grilla anterior, para encontrar el modelo que generaliza mejor, esto se debe al hecho de que se realiza la imputación a toda la data de entrenamiento y no sólo a la data de entrenamiento durante cada iteración de validación cruzada."
   ]
  },
  {
   "cell_type": "markdown",
   "metadata": {},
   "source": [
    "Como no se obtuvieron los resultados esperados al realizar la selección de características, entonces se implementará un clasificador SVM con una función de base radial como kernel."
   ]
  },
  {
   "cell_type": "markdown",
   "metadata": {},
   "source": [
    "### SVM con Kernel RBF"
   ]
  },
  {
   "cell_type": "markdown",
   "metadata": {},
   "source": [
    "Para implementar esto se realizará un busqueda aleatoria haciendo uso de un pipeline de imputador, escalador y clasificador, pero ahora utilizando la selección de características obtenida con el SVM Lineal.\n"
   ]
  },
  {
   "cell_type": "code",
   "execution_count": 89,
   "metadata": {},
   "outputs": [],
   "source": [
    "#Definicion de imputación, escalamiento, modelo y pipeline a utilizar para el entrenamiento\n",
    "svm_imputer = SimpleImputer(strategy='mean')\n",
    "svm_scaler = preprocessing.StandardScaler()\n",
    "svm_model = SVC(kernel=\"rbf\",class_weight=\"balanced\",random_state=0)\n",
    "svm_pipeline = pipeline.Pipeline([(\"imputer\",svm_imputer), (\"scaler\", svm_scaler), (\"model\", svm_model)])\n",
    "\n",
    "#Definicion del grid donde se hará la búsqueda de hiperparámetros\n",
    "gamma = np.logspace(-4, 2, num=20)\n",
    "C = np.logspace(-4, 2, num=20)\n",
    "grid_svm = {\"model__gamma\":gamma, \"model__C\":C}\n",
    "\n",
    "#Definición de la data reducida por la selección de características obtenida del linear SVM\n",
    "x_train_reduced = x_train.iloc[:,rfecv.get_support()]\n",
    "x_test_reduced = x_test.iloc[:,rfecv.get_support()]\n",
    "#Busqueda aleatoria\n",
    "r_search = model_selection.RandomizedSearchCV(svm_pipeline, grid_svm, n_iter=40,n_jobs=-1,cv=8, random_state=0)"
   ]
  },
  {
   "cell_type": "code",
   "execution_count": 90,
   "metadata": {},
   "outputs": [
    {
     "data": {
      "text/plain": [
       "RandomizedSearchCV(cv=8,\n",
       "                   estimator=Pipeline(steps=[('imputer', SimpleImputer()),\n",
       "                                             ('scaler', StandardScaler()),\n",
       "                                             ('model',\n",
       "                                              SVC(class_weight='balanced',\n",
       "                                                  random_state=0))]),\n",
       "                   n_iter=40, n_jobs=-1,\n",
       "                   param_distributions={'model__C': array([1.00e-04, 2.07e-04, 4.28e-04, 8.86e-04, 1.83e-03, 3.79e-03,\n",
       "       7.85e-03, 1.62e-02, 3.36e-02, 6.95e-02, 1.44e-01, 2.98e-01,\n",
       "       6.16e-01, 1.27e+00, 2.64e+00, 5.46e+00, 1.13e+01, 2.34e+01,\n",
       "       4.83e+01, 1.00e+02]),\n",
       "                                        'model__gamma': array([1.00e-04, 2.07e-04, 4.28e-04, 8.86e-04, 1.83e-03, 3.79e-03,\n",
       "       7.85e-03, 1.62e-02, 3.36e-02, 6.95e-02, 1.44e-01, 2.98e-01,\n",
       "       6.16e-01, 1.27e+00, 2.64e+00, 5.46e+00, 1.13e+01, 2.34e+01,\n",
       "       4.83e+01, 1.00e+02])},\n",
       "                   random_state=0)"
      ]
     },
     "execution_count": 90,
     "metadata": {},
     "output_type": "execute_result"
    }
   ],
   "source": [
    "r_search.fit(x_train_reduced, y_train)"
   ]
  },
  {
   "cell_type": "code",
   "execution_count": 91,
   "metadata": {},
   "outputs": [
    {
     "name": "stdout",
     "output_type": "stream",
     "text": [
      "La exactitud de entrenamiento para el modelo SVM con kernel RBF es: 1.0.\n",
      "La exactitud de prueba para el modelo SVM con kernel RBF es: 1.0.\n"
     ]
    }
   ],
   "source": [
    "best_svm_pipeline = r_search.best_estimator_\n",
    "\n",
    "train_score = best_svm_pipeline.score(x_train_reduced, y_train)\n",
    "test_score = best_svm_pipeline.score(x_test_reduced, y_test)\n",
    "\n",
    "print(f\"La exactitud de entrenamiento para el modelo SVM con kernel RBF es: {train_score}.\")\n",
    "print(f\"La exactitud de prueba para el modelo SVM con kernel RBF es: {test_score}.\")"
   ]
  },
  {
   "cell_type": "code",
   "execution_count": 93,
   "metadata": {},
   "outputs": [
    {
     "data": {
      "image/png": "[encoded data removed]",
      "text/plain": [
       "<Figure size 600x400 with 2 Axes>"
      ]
     },
     "metadata": {
      "needs_background": "light"
     },
     "output_type": "display_data"
    }
   ],
   "source": [
    "y_pred = best_svm_pipeline.predict(x_test_reduced)\n",
    "plot_confusion_matrix(y_test, y_pred, class_names, title='Matriz de confusión', cmap=plt.cm.Blues)"
   ]
  },
  {
   "cell_type": "markdown",
   "metadata": {},
   "source": [
    "## Redes neuronales"
   ]
  },
  {
   "cell_type": "markdown",
   "metadata": {},
   "source": [
    "Para implementar las redes neuronales, se aplicó un procedimiento de validación cruzada con imputación y escalamiento similar a los utilizados en los entrenamientos de los demás algoritmos, con excepción de que aquí la validación cruzada también puede ser usada para validar la inicialización de los pesos de la red neuronal para lograr así una mejor exactitud de validación; este método debe ser analizado con cuidado, ya que una exhaustiva selección del modelo que mejor prediga la data de validación puede provocar que se seleccione un modelo sobreajustado a la data de validación. Esto sucedió en un inicio y se pudo corroborar con la caída de la precisión de test, por lo tanto se decidió realizar solo una inicialización por arquitectura. \n",
    "\n",
    "En un inicio se hizo una búsqueda aleatoria con una cantidad de capas variable, pero se observó que la data puede ser fácilmente caracterizada con una red neuronal de solo dos capas ocultas, por tal motivo el número de capas se fijó a 2."
   ]
  },
  {
   "cell_type": "code",
   "execution_count": 95,
   "metadata": {
    "scrolled": true
   },
   "outputs": [],
   "source": [
    "#Definición de arquitecturas\n",
    "numberOfUnitsInHiddenLayer = range(8, 50)\n",
    "numberOfLayers = [3] # Puede ser sustituido por una lista range(2, 7), en este caso no fue necesario\n",
    "activationFunctionsHidden = [\"tanh\"]\n",
    "# Se puede utilizar relu como función de activación para tener un entrenamiento más rápido, \"relu\", \n",
    "# en este caso no fue necesario."
   ]
  },
  {
   "cell_type": "code",
   "execution_count": 96,
   "metadata": {
    "scrolled": false
   },
   "outputs": [
    {
     "name": "stdout",
     "output_type": "stream",
     "text": [
      "Iteración de búsqueda aleatoria 1\n",
      "---------------------------------------\n",
      "Arquitectura: [14, 14, 8]. Activation Functions: ['tanh', 'tanh', None]\n",
      "\n",
      "La mejor inicialización para esta arquitectura logró una exactitud de validación promedio: 0.9930555447936058 y una exactitud de entrenamiento promedio: 1.0.\n",
      "\n",
      "\n",
      "Entrenamiento del modelo que mejor exactitud de validación promedio tuvo usando toda la data de entrenamiento.\n",
      "Tiempo Transcurrido:00:00:48. Número de épocas:140.\n",
      "\n",
      "Costo de entrenamiento:0.01019977405667305. Exactitud de entrenamiento:1.0.\n",
      "\n",
      "\n",
      "Iteración de búsqueda aleatoria 2\n",
      "---------------------------------------\n",
      "Arquitectura: [20, 15, 8]. Activation Functions: ['tanh', 'tanh', None]\n",
      "\n",
      "La mejor inicialización para esta arquitectura logró una exactitud de validación promedio: 0.9953703656792641 y una exactitud de entrenamiento promedio: 1.0.\n",
      "\n",
      "\n",
      "Entrenamiento del modelo que mejor exactitud de validación promedio tuvo usando toda la data de entrenamiento.\n",
      "Tiempo Transcurrido:00:00:39. Número de épocas:120.\n",
      "\n",
      "Costo de entrenamiento:0.00919270422309637. Exactitud de entrenamiento:1.0.\n",
      "\n",
      "\n",
      "Iteración de búsqueda aleatoria 3\n",
      "---------------------------------------\n",
      "Arquitectura: [13, 9, 8]. Activation Functions: ['tanh', 'tanh', None]\n",
      "\n",
      "La mejor inicialización para esta arquitectura logró una exactitud de validación promedio: 0.9814814850687981 y una exactitud de entrenamiento promedio: 1.0.\n",
      "\n",
      "\n",
      "Entrenamiento del modelo que mejor exactitud de validación promedio tuvo usando toda la data de entrenamiento.\n",
      "Tiempo Transcurrido:00:00:57. Número de épocas:170.\n",
      "\n",
      "Costo de entrenamiento:0.011854417622089386. Exactitud de entrenamiento:1.0.\n",
      "\n",
      "\n",
      "Iteración de búsqueda aleatoria 4\n",
      "---------------------------------------\n",
      "Arquitectura: [20, 13, 8]. Activation Functions: ['tanh', 'tanh', None]\n",
      "\n",
      "La mejor inicialización para esta arquitectura logró una exactitud de validación promedio: 0.9930555447936058 y una exactitud de entrenamiento promedio: 1.0.\n",
      "\n",
      "\n",
      "Entrenamiento del modelo que mejor exactitud de validación promedio tuvo usando toda la data de entrenamiento.\n",
      "Tiempo Transcurrido:00:00:45. Número de épocas:119.\n",
      "\n",
      "Costo de entrenamiento:0.010074307210743427. Exactitud de entrenamiento:1.0.\n",
      "\n",
      "\n",
      "Iteración de búsqueda aleatoria 5\n",
      "---------------------------------------\n",
      "Arquitectura: [19, 11, 8]. Activation Functions: ['tanh', 'tanh', None]\n",
      "\n",
      "La mejor inicialización para esta arquitectura logró una exactitud de validación promedio: 0.9918981418013573 y una exactitud de entrenamiento promedio: 1.0.\n",
      "\n",
      "\n",
      "Entrenamiento del modelo que mejor exactitud de validación promedio tuvo usando toda la data de entrenamiento.\n",
      "Tiempo Transcurrido:00:00:47. Número de épocas:140.\n",
      "\n",
      "Costo de entrenamiento:0.010906871408224106. Exactitud de entrenamiento:1.0.\n",
      "\n",
      "\n",
      "Iteración de búsqueda aleatoria 6\n",
      "---------------------------------------\n",
      "Arquitectura: [9, 8, 8]. Activation Functions: ['tanh', 'tanh', None]\n",
      "\n",
      "La mejor inicialización para esta arquitectura logró una exactitud de validación promedio: 0.9733796343207359 y una exactitud de entrenamiento promedio: 0.9914021119475365.\n",
      "\n",
      "\n",
      "Entrenamiento del modelo que mejor exactitud de validación promedio tuvo usando toda la data de entrenamiento.\n",
      "Tiempo Transcurrido:00:01:02. Número de épocas:211.\n",
      "\n",
      "Costo de entrenamiento:0.029558584094047546. Exactitud de entrenamiento:0.9861111044883728.\n",
      "\n",
      "\n",
      "Iteración de búsqueda aleatoria 7\n",
      "---------------------------------------\n",
      "Arquitectura: [16, 11, 8]. Activation Functions: ['tanh', 'tanh', None]\n",
      "\n",
      "La mejor inicialización para esta arquitectura logró una exactitud de validación promedio: 0.9918981418013573 y una exactitud de entrenamiento promedio: 1.0.\n",
      "\n",
      "\n",
      "Entrenamiento del modelo que mejor exactitud de validación promedio tuvo usando toda la data de entrenamiento.\n",
      "Tiempo Transcurrido:00:00:45. Número de épocas:146.\n",
      "\n",
      "Costo de entrenamiento:0.010707579553127289. Exactitud de entrenamiento:1.0.\n",
      "\n",
      "\n",
      "Iteración de búsqueda aleatoria 8\n",
      "---------------------------------------\n",
      "Arquitectura: [18, 10, 8]. Activation Functions: ['tanh', 'tanh', None]\n",
      "\n",
      "La mejor inicialización para esta arquitectura logró una exactitud de validación promedio: 0.9895833283662796 y una exactitud de entrenamiento promedio: 1.0.\n",
      "\n",
      "\n",
      "Entrenamiento del modelo que mejor exactitud de validación promedio tuvo usando toda la data de entrenamiento.\n",
      "Tiempo Transcurrido:00:00:53. Número de épocas:152.\n",
      "\n",
      "Costo de entrenamiento:0.011356997303664684. Exactitud de entrenamiento:1.0.\n",
      "\n",
      "\n",
      "Iteración de búsqueda aleatoria 9\n",
      "---------------------------------------\n",
      "Arquitectura: [16, 15, 8]. Activation Functions: ['tanh', 'tanh', None]\n",
      "\n",
      "La mejor inicialización para esta arquitectura logró una exactitud de validación promedio: 0.9907407313585281 y una exactitud de entrenamiento promedio: 1.0.\n",
      "\n",
      "\n",
      "Entrenamiento del modelo que mejor exactitud de validación promedio tuvo usando toda la data de entrenamiento.\n",
      "Tiempo Transcurrido:00:00:36. Número de épocas:122.\n",
      "\n",
      "Costo de entrenamiento:0.010236861184239388. Exactitud de entrenamiento:1.0.\n",
      "\n",
      "\n",
      "Iteración de búsqueda aleatoria 10\n",
      "---------------------------------------\n",
      "Arquitectura: [20, 11, 8]. Activation Functions: ['tanh', 'tanh', None]\n",
      "\n",
      "La mejor inicialización para esta arquitectura logró una exactitud de validación promedio: 0.9907407388091087 y una exactitud de entrenamiento promedio: 1.0.\n",
      "\n",
      "\n",
      "Entrenamiento del modelo que mejor exactitud de validación promedio tuvo usando toda la data de entrenamiento.\n",
      "Tiempo Transcurrido:00:00:47. Número de épocas:138.\n",
      "\n",
      "Costo de entrenamiento:0.011484974063932896. Exactitud de entrenamiento:1.0.\n",
      "\n",
      "\n",
      "Iteración de búsqueda aleatoria 11\n",
      "---------------------------------------\n",
      "Arquitectura: [22, 13, 8]. Activation Functions: ['tanh', 'tanh', None]\n",
      "\n",
      "La mejor inicialización para esta arquitectura logró una exactitud de validación promedio: 0.9872685074806213 y una exactitud de entrenamiento promedio: 1.0.\n",
      "\n",
      "\n",
      "Entrenamiento del modelo que mejor exactitud de validación promedio tuvo usando toda la data de entrenamiento.\n",
      "Tiempo Transcurrido:00:00:37. Número de épocas:124.\n",
      "\n",
      "Costo de entrenamiento:0.009694426320493221. Exactitud de entrenamiento:1.0.\n",
      "\n",
      "\n",
      "Iteración de búsqueda aleatoria 12\n",
      "---------------------------------------\n",
      "Arquitectura: [10, 10, 8]. Activation Functions: ['tanh', 'tanh', None]\n",
      "\n",
      "La mejor inicialización para esta arquitectura logró una exactitud de validación promedio: 0.9861111044883728 y una exactitud de entrenamiento promedio: 1.0.\n",
      "\n",
      "\n",
      "Entrenamiento del modelo que mejor exactitud de validación promedio tuvo usando toda la data de entrenamiento.\n",
      "Tiempo Transcurrido:00:00:49. Número de épocas:168.\n",
      "\n",
      "Costo de entrenamiento:0.01260217186063528. Exactitud de entrenamiento:1.0.\n",
      "\n",
      "\n",
      "Iteración de búsqueda aleatoria 13\n",
      "---------------------------------------\n",
      "Arquitectura: [12, 10, 8]. Activation Functions: ['tanh', 'tanh', None]\n",
      "\n",
      "La mejor inicialización para esta arquitectura logró una exactitud de validación promedio: 0.9780092611908913 y una exactitud de entrenamiento promedio: 1.0.\n",
      "\n",
      "\n",
      "Entrenamiento del modelo que mejor exactitud de validación promedio tuvo usando toda la data de entrenamiento.\n",
      "Tiempo Transcurrido:00:00:49. Número de épocas:168.\n",
      "\n",
      "Costo de entrenamiento:0.011983913369476795. Exactitud de entrenamiento:1.0.\n",
      "\n",
      "\n",
      "Iteración de búsqueda aleatoria 14\n",
      "---------------------------------------\n",
      "Arquitectura: [14, 11, 8]. Activation Functions: ['tanh', 'tanh', None]\n",
      "\n",
      "La mejor inicialización para esta arquitectura logró una exactitud de validación promedio: 0.9930555447936058 y una exactitud de entrenamiento promedio: 1.0.\n",
      "\n",
      "\n",
      "Entrenamiento del modelo que mejor exactitud de validación promedio tuvo usando toda la data de entrenamiento.\n",
      "Tiempo Transcurrido:00:00:47. Número de épocas:144.\n",
      "\n",
      "Costo de entrenamiento:0.010681251995265484. Exactitud de entrenamiento:1.0.\n",
      "\n",
      "\n",
      "Iteración de búsqueda aleatoria 15\n",
      "---------------------------------------\n",
      "Arquitectura: [14, 13, 8]. Activation Functions: ['tanh', 'tanh', None]\n",
      "\n",
      "La mejor inicialización para esta arquitectura logró una exactitud de validación promedio: 0.9861111119389534 y una exactitud de entrenamiento promedio: 1.0.\n",
      "\n",
      "\n",
      "Entrenamiento del modelo que mejor exactitud de validación promedio tuvo usando toda la data de entrenamiento.\n",
      "Tiempo Transcurrido:00:00:40. Número de épocas:151.\n",
      "\n",
      "Costo de entrenamiento:0.010889076627790928. Exactitud de entrenamiento:1.0.\n",
      "\n",
      "\n",
      "Iteración de búsqueda aleatoria 16\n",
      "---------------------------------------\n",
      "Arquitectura: [25, 13, 8]. Activation Functions: ['tanh', 'tanh', None]\n",
      "\n"
     ]
    },
    {
     "name": "stdout",
     "output_type": "stream",
     "text": [
      "La mejor inicialización para esta arquitectura logró una exactitud de validación promedio: 0.9837962985038757 y una exactitud de entrenamiento promedio: 1.0.\n",
      "\n",
      "\n",
      "Entrenamiento del modelo que mejor exactitud de validación promedio tuvo usando toda la data de entrenamiento.\n",
      "Tiempo Transcurrido:00:00:36. Número de épocas:122.\n",
      "\n",
      "Costo de entrenamiento:0.00990179181098938. Exactitud de entrenamiento:1.0.\n",
      "\n",
      "\n",
      "Iteración de búsqueda aleatoria 17\n",
      "---------------------------------------\n",
      "Arquitectura: [11, 9, 8]. Activation Functions: ['tanh', 'tanh', None]\n",
      "\n",
      "La mejor inicialización para esta arquitectura logró una exactitud de validación promedio: 0.9872685074806213 y una exactitud de entrenamiento promedio: 1.0.\n",
      "\n",
      "\n",
      "Entrenamiento del modelo que mejor exactitud de validación promedio tuvo usando toda la data de entrenamiento.\n",
      "Tiempo Transcurrido:00:00:50. Número de épocas:163.\n",
      "\n",
      "Costo de entrenamiento:0.013096416369080544. Exactitud de entrenamiento:1.0.\n",
      "\n",
      "\n",
      "Iteración de búsqueda aleatoria 18\n",
      "---------------------------------------\n",
      "Arquitectura: [12, 9, 8]. Activation Functions: ['tanh', 'tanh', None]\n",
      "\n",
      "La mejor inicialización para esta arquitectura logró una exactitud de validación promedio: 0.9872685149312019 y una exactitud de entrenamiento promedio: 1.0.\n",
      "\n",
      "\n",
      "Entrenamiento del modelo que mejor exactitud de validación promedio tuvo usando toda la data de entrenamiento.\n",
      "Tiempo Transcurrido:00:00:52. Número de épocas:169.\n",
      "\n",
      "Costo de entrenamiento:0.012317382730543613. Exactitud de entrenamiento:1.0.\n",
      "\n",
      "\n",
      "Iteración de búsqueda aleatoria 19\n",
      "---------------------------------------\n",
      "Arquitectura: [9, 9, 8]. Activation Functions: ['tanh', 'tanh', None]\n",
      "\n",
      "La mejor inicialización para esta arquitectura logró una exactitud de validación promedio: 0.9710648208856583 y una exactitud de entrenamiento promedio: 0.9983465671539307.\n",
      "\n",
      "\n",
      "Entrenamiento del modelo que mejor exactitud de validación promedio tuvo usando toda la data de entrenamiento.\n",
      "Tiempo Transcurrido:00:00:43. Número de épocas:186.\n",
      "\n",
      "Costo de entrenamiento:0.012434503994882107. Exactitud de entrenamiento:1.0.\n",
      "\n",
      "\n",
      "Iteración de búsqueda aleatoria 20\n",
      "---------------------------------------\n",
      "Arquitectura: [18, 15, 8]. Activation Functions: ['tanh', 'tanh', None]\n",
      "\n",
      "La mejor inicialización para esta arquitectura logró una exactitud de validación promedio: 0.9918981492519379 y una exactitud de entrenamiento promedio: 1.0.\n",
      "\n",
      "\n",
      "Entrenamiento del modelo que mejor exactitud de validación promedio tuvo usando toda la data de entrenamiento.\n",
      "Tiempo Transcurrido:00:00:43. Número de épocas:128.\n",
      "\n",
      "Costo de entrenamiento:0.009820650331676006. Exactitud de entrenamiento:1.0.\n",
      "\n",
      "\n",
      "Fin de búsqueda aleatoria de características con validación cruzada k-fold k=8\n"
     ]
    }
   ],
   "source": [
    "ntries = 20 #Número de búsquedas aleatorias de arquitectura\n",
    "NUM_EPOCHS = 10000\n",
    "tries = set() #Set que guardará las arquitecturas ya probadas\n",
    "random.seed(0)\n",
    "\n",
    "for i in range(ntries):\n",
    "    print(f\"Iteración de búsqueda aleatoria {i+1}\")\n",
    "    print(\"---------------------------------------\")\n",
    "    while(True):\n",
    "        nlayers = random.choice(numberOfLayers)\n",
    "        \n",
    "        #Genera una lista de números de neuronas para cada capa, teniendo en cuenta que este número debe ir \n",
    "        #decreciendo conforme se llegue a la capa de salida.\n",
    "        numberOfUnitsPerLayer = [8]#Para generar la salida de 8 clases\n",
    "        for j in range(nlayers-1):\n",
    "            index = numberOfUnitsInHiddenLayer.index(numberOfUnitsPerLayer[0])\n",
    "            new_index = numberOfUnitsInHiddenLayer.index(min(2*numberOfUnitsPerLayer[0], 49))\n",
    "            newNumberOfUnits = random.choice(numberOfUnitsInHiddenLayer[index:new_index])\n",
    "            numberOfUnitsPerLayer.insert(0, newNumberOfUnits)\n",
    "            \n",
    "        #Seleccionamos aleatoriamente las funciones de activación de cada capa, con excepción de la capa de salida\n",
    "        #que siempre emplea una función de activación softmax, en esta implementación, por recomendación de Tensorflow\n",
    "        #la función softmax es aplicada por la función de pérdida, por lo que la capa de salida será lineal(None)\n",
    "        numberOfActivationFunctionsPerLayer = [random.choice(activationFunctionsHidden) for j in range(nlayers)]\n",
    "        numberOfActivationFunctionsPerLayer[-1] = None\n",
    "\n",
    "        arch_str = str(numberOfUnitsPerLayer)+str(numberOfActivationFunctionsPerLayer)\n",
    "        if not (arch_str in tries):\n",
    "            tries.add(arch_str)\n",
    "            break\n",
    "    \n",
    "    print(f\"Arquitectura: {numberOfUnitsPerLayer}. Activation Functions: {numberOfActivationFunctionsPerLayer}\\n\")\n",
    "    arch = ANNArchitecture(numberOfUnitsPerLayer, numberOfActivationFunctionsPerLayer)\n",
    "    redNeuronal = FeedForwardNeuralNetwork(architecture=arch)\n",
    "    \n",
    "    redNeuronal.fitCV(x_train, y_train, learningRate=0.001, numberOfEpochs=NUM_EPOCHS, minibatchSize=64, \n",
    "                      verbose=False, numberOfInitializations=1, cv=8, randomState=0)\n",
    "    \n",
    "\n",
    "    \n",
    "print(\"Fin de búsqueda aleatoria de características con validación cruzada k-fold k=8\")\n",
    "\n"
   ]
  },
  {
   "cell_type": "markdown",
   "metadata": {},
   "source": [
    "La mejor arquitectura encontrada fue una red neuronal con dos capas ocultas con funciones de activación tangente hiperbólica, que tiene 20 neuronas en la primera capa oculta y con 15 neuronas en la segunda capa oculta, y finalmente 8 neuronas y una función de activación softmax en la capa de salida."
   ]
  },
  {
   "cell_type": "code",
   "execution_count": 13,
   "metadata": {
    "scrolled": true
   },
   "outputs": [
    {
     "name": "stdout",
     "output_type": "stream",
     "text": [
      "Arquitectura: 20-15-8. Activation Functions: tanh-tanh-softmax\n",
      "\n",
      "\n",
      "Entrenamiento del modelo que mejor exactitud de validación promedio tuvo usando toda la data de entrenamiento.\n",
      "Tiempo Transcurrido:00:00:03. Número de épocas:15.\n",
      "\n",
      "Costo de entrenamiento:0.001848480198532343. Exactitud de entrenamiento:1.0.\n",
      "\n",
      "\n"
     ]
    }
   ],
   "source": [
    "print(f\"Arquitectura: 20-15-8. Activation Functions: tanh-tanh-softmax\\n\")\n",
    "\n",
    "arch = ANNArchitecture([20, 15,8], [\"tanh\",\"tanh\",None])\n",
    "redNeuronal = FeedForwardNeuralNetwork(architecture=arch)\n",
    "redNeuronal.fitCV(x_train, y_train, learningRate=0.001, numberOfEpochs=10000, minibatchSize=64, \n",
    "                  verbose=False, numberOfInitializations=1, cv=None, randomState=0)"
   ]
  },
  {
   "cell_type": "code",
   "execution_count": 14,
   "metadata": {
    "scrolled": true
   },
   "outputs": [
    {
     "name": "stdout",
     "output_type": "stream",
     "text": [
      "Test SCCE: 0.9953703880310059\n"
     ]
    }
   ],
   "source": [
    "test_cost = redNeuronal.score(x_test, y_test)\n",
    "print (\"Test SCCE:\", test_cost)"
   ]
  },
  {
   "cell_type": "markdown",
   "metadata": {},
   "source": [
    "Dado que la precisión de test lograda es bastante alta, no se realizará una selección de características para las redes neuronales porque sería excesivamente costoso."
   ]
  },
  {
   "cell_type": "code",
   "execution_count": 16,
   "metadata": {},
   "outputs": [
    {
     "data": {
      "image/png": "[encoded data removed]",
      "text/plain": [
       "<Figure size 600x400 with 2 Axes>"
      ]
     },
     "metadata": {
      "needs_background": "light"
     },
     "output_type": "display_data"
    }
   ],
   "source": [
    "y_pred = redNeuronal.predict(x_test)\n",
    "plot_confusion_matrix(y_test, y_pred, class_names, title='Matriz de confusión', cmap=plt.cm.Blues, isforNN=True)"
   ]
  },
  {
   "cell_type": "markdown",
   "metadata": {},
   "source": [
    "## Naive Bayes"
   ]
  },
  {
   "cell_type": "markdown",
   "metadata": {},
   "source": [
    "Se implementará Naive Bayes Gaussiano, se realizará una búsqueda aleatoria para las probabilidades a priori, aunque se puede deducir que el dejar que el algoritmo las cálcule probablemente sea lo óptimo."
   ]
  },
  {
   "cell_type": "code",
   "execution_count": 103,
   "metadata": {},
   "outputs": [],
   "source": [
    "random.seed(0)\n",
    "#Definición de imputación, escalamiento, modelo y pipeline a utilizar para el entrenamiento\n",
    "naive_imputer = SimpleImputer(strategy='mean')\n",
    "naive_scaler = preprocessing.StandardScaler()\n",
    "naive_model = naive_bayes.GaussianNB()\n",
    "naive_pipeline = pipeline.Pipeline([(\"imputer\",naive_imputer), (\"scaler\", naive_scaler), (\"model\", naive_model)])\n",
    "\n",
    "#Definicion del grid donde se hará la búsqueda de hiperparámetros\n",
    "priors = [None]\n",
    "\n",
    "while(len(priors)<1000):\n",
    "    priorsItem = []\n",
    "    probabilityLeft = 1\n",
    "    \n",
    "    save = True\n",
    "    for j in range(8):\n",
    "        prob = random.uniform(0, probabilityLeft)\n",
    "        if prob <=0.01:\n",
    "            save = False\n",
    "            break\n",
    "        priorsItem.append(prob)\n",
    "        probabilityLeft -= prob\n",
    "    \n",
    "    if (0 not in priorsItem) and save:\n",
    "        priors.append(priorsItem)\n",
    "\n",
    "grid_naive = {\"model__priors\":priors}"
   ]
  },
  {
   "cell_type": "code",
   "execution_count": 104,
   "metadata": {},
   "outputs": [
    {
     "data": {
      "text/plain": [
       "GridSearchCV(cv=8,\n",
       "             estimator=Pipeline(steps=[('imputer', SimpleImputer()),\n",
       "                                       ('scaler', StandardScaler()),\n",
       "                                       ('model', GaussianNB())]),\n",
       "             n_jobs=-1,\n",
       "             param_grid={'model__priors': [None,\n",
       "                                           [0.42561883196681716,\n",
       "                                            0.05829981455975992,\n",
       "                                            0.13413980851894763,\n",
       "                                            0.08434387305772524,\n",
       "                                            0.19252358811312115,\n",
       "                                            0.03680681767912299,\n",
       "                                            0.012309810167133287,\n",
       "                                            0.028182217548734585],\n",
       "                                           [0.40862622118314...\n",
       "                                            0.03169835559401494,\n",
       "                                            0.027751866828627823],\n",
       "                                           [0.5920656590235202,\n",
       "                                            0.16801682941982862,\n",
       "                                            0.06708553794902031,\n",
       "                                            0.0187178047767205,\n",
       "                                            0.01873849872334959,\n",
       "                                            0.0210499210358933,\n",
       "                                            0.02733604339281207,\n",
       "                                            0.04202232326012594],\n",
       "                                           [0.3543798346083834,\n",
       "                                            0.2808197308877689,\n",
       "                                            0.06323334692000251,\n",
       "                                            0.21504170606804693,\n",
       "                                            0.015262172598429106,\n",
       "                                            0.011434352822896728,\n",
       "                                            0.04483917815444223,\n",
       "                                            0.01364088961713366], ...]})"
      ]
     },
     "execution_count": 104,
     "metadata": {},
     "output_type": "execute_result"
    }
   ],
   "source": [
    "#Busqueda de grilla\n",
    "grid_search =model_selection.GridSearchCV(naive_pipeline, grid_naive, n_jobs=-1,cv=8)\n",
    "grid_search.fit(x_train, y_train)"
   ]
  },
  {
   "cell_type": "code",
   "execution_count": 105,
   "metadata": {},
   "outputs": [
    {
     "data": {
      "text/plain": [
       "Pipeline(steps=[('imputer', SimpleImputer()), ('scaler', StandardScaler()),\n",
       "                ('model', GaussianNB())])"
      ]
     },
     "execution_count": 105,
     "metadata": {},
     "output_type": "execute_result"
    }
   ],
   "source": [
    "grid_search.best_estimator_"
   ]
  },
  {
   "cell_type": "code",
   "execution_count": 106,
   "metadata": {},
   "outputs": [
    {
     "name": "stdout",
     "output_type": "stream",
     "text": [
      "La exactitud de entrenamiento para el modelo naive Bayes Gaussiano es: 0.8032407407407407.\n",
      "La exactitud de prueba para el modelo naive Bayes Gaussiano es: 0.8148148148148148.\n"
     ]
    }
   ],
   "source": [
    "best_naive_pipeline = grid_search.best_estimator_\n",
    "\n",
    "train_score = best_naive_pipeline.score(x_train, y_train)\n",
    "test_score = best_naive_pipeline.score(x_test, y_test)\n",
    "\n",
    "print(f\"La exactitud de entrenamiento para el modelo naive Bayes Gaussiano es: {train_score}.\")\n",
    "print(f\"La exactitud de prueba para el modelo naive Bayes Gaussiano es: {test_score}.\")"
   ]
  },
  {
   "cell_type": "markdown",
   "metadata": {},
   "source": [
    "No se realizó eliminación hacia atrás debido a que el modelo Gaussian Naive Bayes no tiene los atributos coef_ o feature_importances_, atributos que son utilizados por el selector de características RFECV de Sklearn. Se probó con la selección de características de SVM, pero se obtuvo error de test mucho mayor."
   ]
  },
  {
   "cell_type": "code",
   "execution_count": 108,
   "metadata": {},
   "outputs": [
    {
     "data": {
      "image/png": "[encoded data removed]",
      "text/plain": [
       "<Figure size 600x400 with 2 Axes>"
      ]
     },
     "metadata": {
      "needs_background": "light"
     },
     "output_type": "display_data"
    }
   ],
   "source": [
    "y_pred = best_naive_pipeline.predict(x_test)\n",
    "plot_confusion_matrix(y_test, y_pred, class_names, title='Matriz de confusión', cmap=plt.cm.Blues)"
   ]
  },
  {
   "cell_type": "markdown",
   "metadata": {},
   "source": [
    "## Regresión Logística"
   ]
  },
  {
   "cell_type": "markdown",
   "metadata": {},
   "source": [
    "Se implementa Regresión Logística y se ajusta el parámetro C (asociado a la fuerza de \"regularización\") mediante búsqueda aleatoria. De manera similar a los modelos anteriores, se realiza imputación y escalamiento a los datos para su preprocesamiento. Cabe resaltar que la regresión logística implementada utiliza la función softmax a la salida."
   ]
  },
  {
   "cell_type": "code",
   "execution_count": 109,
   "metadata": {
    "scrolled": true
   },
   "outputs": [],
   "source": [
    "#Definicion de imputación, escalamiento, modelo y pipeline a utilizar para el entrenamiento\n",
    "lr_imputer = SimpleImputer(strategy='mean')\n",
    "lr_scaler = preprocessing.StandardScaler()\n",
    "lr_model = LogisticRegression(penalty=\"l2\", class_weight=\"balanced\", solver=\"lbfgs\", random_state=47, max_iter=600)\n",
    "lr_pipeline = pipeline.Pipeline([(\"imputer\", lr_imputer), (\"scaler\", lr_scaler), (\"model\", lr_model)])\n",
    "\n",
    "#Definicion del grid donde se hará la búsqueda de hiperparámetros\n",
    "C = np.logspace(-4, 4, num=401)\n",
    "\n",
    "grid_lr = {\"model__C\":C}"
   ]
  },
  {
   "cell_type": "code",
   "execution_count": 110,
   "metadata": {
    "scrolled": true
   },
   "outputs": [
    {
     "data": {
      "text/plain": [
       "RandomizedSearchCV(cv=8,\n",
       "                   estimator=Pipeline(steps=[('imputer', SimpleImputer()),\n",
       "                                             ('scaler', StandardScaler()),\n",
       "                                             ('model',\n",
       "                                              LogisticRegression(class_weight='balanced',\n",
       "                                                                 max_iter=600,\n",
       "                                                                 random_state=47))]),\n",
       "                   n_iter=40, n_jobs=-1,\n",
       "                   param_distributions={'model__C': array([1.00e-04, 1.05e-04, 1.10e-04, 1.15e-04, 1.20e-04, 1.26e-04,\n",
       "       1.32e-04, 1.38e-04, 1.45e-04, 1.51e-04, 1.58e-04, 1...\n",
       "       1.58e+03, 1.66e+03, 1.74e+03, 1.82e+03, 1.91e+03, 2.00e+03,\n",
       "       2.09e+03, 2.19e+03, 2.29e+03, 2.40e+03, 2.51e+03, 2.63e+03,\n",
       "       2.75e+03, 2.88e+03, 3.02e+03, 3.16e+03, 3.31e+03, 3.47e+03,\n",
       "       3.63e+03, 3.80e+03, 3.98e+03, 4.17e+03, 4.37e+03, 4.57e+03,\n",
       "       4.79e+03, 5.01e+03, 5.25e+03, 5.50e+03, 5.75e+03, 6.03e+03,\n",
       "       6.31e+03, 6.61e+03, 6.92e+03, 7.24e+03, 7.59e+03, 7.94e+03,\n",
       "       8.32e+03, 8.71e+03, 9.12e+03, 9.55e+03, 1.00e+04])},\n",
       "                   random_state=47)"
      ]
     },
     "execution_count": 110,
     "metadata": {},
     "output_type": "execute_result"
    }
   ],
   "source": [
    "#Busqueda aleatoria\n",
    "r_search = model_selection.RandomizedSearchCV(lr_pipeline, grid_lr, n_iter=40, n_jobs=-1, cv=8, random_state=47)\n",
    "r_search.fit(x_train, y_train)"
   ]
  },
  {
   "cell_type": "code",
   "execution_count": 111,
   "metadata": {
    "scrolled": true
   },
   "outputs": [
    {
     "name": "stdout",
     "output_type": "stream",
     "text": [
      "Después de seleccionar características...\n",
      "La exactitud de entrenamiento para el modelo Regresión Logística: 1.0.\n",
      "La exactitud de prueba para el Regresión Logística es: 0.9861111111111112.\n"
     ]
    }
   ],
   "source": [
    "best_lr_pipeline = r_search.best_estimator_\n",
    "\n",
    "train_score = best_lr_pipeline.score(x_train, y_train)\n",
    "test_score = best_lr_pipeline.score(x_test, y_test)\n",
    "\n",
    "print(\"Después de seleccionar características...\")\n",
    "print(f\"La exactitud de entrenamiento para el modelo Regresión Logística: {train_score}.\")\n",
    "print(f\"La exactitud de prueba para el Regresión Logística es: {test_score}.\")"
   ]
  },
  {
   "cell_type": "code",
   "execution_count": 112,
   "metadata": {},
   "outputs": [
    {
     "data": {
      "image/png": "[encoded data removed]",
      "text/plain": [
       "<Figure size 600x400 with 2 Axes>"
      ]
     },
     "metadata": {
      "needs_background": "light"
     },
     "output_type": "display_data"
    }
   ],
   "source": [
    "y_pred = best_lr_pipeline.predict(x_test)\n",
    "plot_confusion_matrix(y_test, y_pred, class_names, title='Matriz de confusión', cmap=plt.cm.Blues)"
   ]
  },
  {
   "cell_type": "markdown",
   "metadata": {},
   "source": [
    "### Eliminación hacia atrás"
   ]
  },
  {
   "cell_type": "markdown",
   "metadata": {},
   "source": [
    "Se emplea la estrategia de eliminación hacia atrás para selección de parámetros. Para ello, se crea un pequeño pipeline con solo el imputador y el escalador,y luego se aplica la eliminación hacia atrás solo al mejor modelo hallado en la búsqueda aleaoria."
   ]
  },
  {
   "cell_type": "code",
   "execution_count": 51,
   "metadata": {},
   "outputs": [
    {
     "name": "stdout",
     "output_type": "stream",
     "text": [
      "Número óptimo de características : 69\n"
     ]
    }
   ],
   "source": [
    "#Definicion de imputación y escalamiento para datos y agrupación en pipeline\n",
    "imsc_imputer = lr_imputer\n",
    "imsc_scaler = lr_scaler\n",
    "imsc_pipeline = pipeline.Pipeline([(\"imputer\", imsc_imputer), (\"scaler\", imsc_scaler)])\n",
    "imsc_pipeline.fit(x_train)\n",
    "\n",
    "#Aplicación del pipeline para obtener data aplicable para el modelo de eliminación hacia atrás\n",
    "x_train_imsc = imsc_pipeline.transform(x_train)\n",
    "\n",
    "#Mejor modelo obtenido para Regresión Logística\n",
    "best_model = best_lr_pipeline[\"model\"]\n",
    "\n",
    "#Eliminación hacia atrás para el mejor modelo\n",
    "rfecv = RFECV(estimator=best_model, step=1, cv=StratifiedKFold(8), scoring='accuracy')\n",
    "rfecv.fit(x_train_imsc, y_train)\n",
    "\n",
    "#Transformación de datos de entrenamiento\n",
    "x_train_opt = rfecv.transform(x_train_imsc)\n",
    "\n",
    "print(\"Número óptimo de características : %d\" % x_train_opt.shape[1])"
   ]
  },
  {
   "cell_type": "code",
   "execution_count": 52,
   "metadata": {},
   "outputs": [
    {
     "name": "stdout",
     "output_type": "stream",
     "text": [
      "La exactitud de entrenamiento para el modelo Regresión Logística: 1.0.\n",
      "La exactitud de prueba para el modelo Regresión Logística es: 0.9814814814814815.\n"
     ]
    }
   ],
   "source": [
    "#Entrenando con las características óptimas en entrenamiento (como parámetro warm_start es FALSE, se entrena de nuevo)\n",
    "best_model.fit(x_train_opt, y_train)\n",
    "\n",
    "#Transformación de datos de prueba\n",
    "x_test_imsc = imsc_pipeline.transform(x_test)\n",
    "x_test_opt = rfecv.transform(x_test_imsc)\n",
    "\n",
    "#Exactitud del modelo en conjuntos de entrenamiento y prueba\n",
    "train_score = best_model.score(x_train_opt, y_train)\n",
    "test_score = best_model.score(x_test_opt, y_test)\n",
    "\n",
    "print(f\"La exactitud de entrenamiento para el modelo Regresión Logística: {train_score}.\")\n",
    "print(f\"La exactitud de prueba para el modelo Regresión Logística es: {test_score}.\")"
   ]
  },
  {
   "cell_type": "markdown",
   "metadata": {},
   "source": [
    "## LightGBM"
   ]
  },
  {
   "cell_type": "markdown",
   "metadata": {},
   "source": [
    "Se ha implementado LightGBM siguiendo las recomendaciones expresadas en https://lightgbm.readthedocs.io/en/latest/Parameters-Tuning.html, donde se presentan distintas estrategias dependiendo del objetivo deseado. En este caso particular, se optó porla estrategia para mejor exactitud, por lo tanto, se ha seguido lo siguiente:\n",
    "- Alto max_bin.\n",
    "- Bajo learning_rate con alto num_iterations.\n",
    "- Alto num_leaves.\n",
    "\n",
    "Se ha descartado el uso de DART (en boosting_type) debido a que se ha comprobado (de forma empírica) que requiere más recursos computacionales (memoria). De manera similar a modelosprevios, se utilizará un imputador y un escalador para preprocesamiento de datos y se determinará el mejor modelo por búsqueda aleatoria."
   ]
  },
  {
   "cell_type": "code",
   "execution_count": 113,
   "metadata": {},
   "outputs": [],
   "source": [
    "#Definicion de imputación, escalamiento, modelo y pipeline a utilizar para el entrenamiento\n",
    "lgbm_imputer = SimpleImputer(strategy='mean')\n",
    "lgbm_scaler = preprocessing.StandardScaler()\n",
    "lgbm_model = LGBMClassifier()\n",
    "lgbm_pipeline = pipeline.Pipeline([(\"imputer\", lgbm_imputer), (\"scaler\", lgbm_scaler), (\"lgbm\", lgbm_model)])\n",
    "\n",
    "#Definicion del grid donde se hará la búsqueda de hiperparámetros\n",
    "grid_lgbm = {\"lgbm__max_bin\": np.power(2, range(7,10,3)), \n",
    "             \"lgbm__learning_rate\": [2.5e-3,5-3,7.5e-3,1e-2],\n",
    "             \"lgbm__num_leaves\": range(250, 500, 25),\n",
    "             \"lgbm__num_iterations\": [500]}"
   ]
  },
  {
   "cell_type": "code",
   "execution_count": 114,
   "metadata": {
    "scrolled": false
   },
   "outputs": [
    {
     "name": "stderr",
     "output_type": "stream",
     "text": [
      "e:\\2020\\maestria\\ciclo_01\\02_ml\\proyectoinf648\\venv\\lib\\site-packages\\lightgbm\\engine.py:148: UserWarning: Found `num_iterations` in params. Will use it instead of argument\n",
      "  warnings.warn(\"Found `{}` in params. Will use it instead of argument\".format(alias))\n"
     ]
    },
    {
     "data": {
      "text/plain": [
       "RandomizedSearchCV(cv=8,\n",
       "                   estimator=Pipeline(steps=[('imputer', SimpleImputer()),\n",
       "                                             ('scaler', StandardScaler()),\n",
       "                                             ('lgbm', LGBMClassifier())]),\n",
       "                   n_iter=20, n_jobs=-1,\n",
       "                   param_distributions={'lgbm__learning_rate': [0.0025, 2,\n",
       "                                                                0.0075, 0.01],\n",
       "                                        'lgbm__max_bin': array([128], dtype=int32),\n",
       "                                        'lgbm__num_iterations': [500],\n",
       "                                        'lgbm__num_leaves': range(250, 500, 25)},\n",
       "                   random_state=47)"
      ]
     },
     "execution_count": 114,
     "metadata": {},
     "output_type": "execute_result"
    }
   ],
   "source": [
    "lgbm_search = model_selection.RandomizedSearchCV(lgbm_pipeline, grid_lgbm, n_iter=20, n_jobs=-1, cv=8, random_state=47)\n",
    "lgbm_search.fit(x_train, y_train)"
   ]
  },
  {
   "cell_type": "code",
   "execution_count": 115,
   "metadata": {},
   "outputs": [
    {
     "name": "stdout",
     "output_type": "stream",
     "text": [
      "La exactitud de entrenamiento para el modelo LightGBM: 1.0.\n",
      "La exactitud de prueba para el modelo LightGBM: 0.9537037037037037.\n"
     ]
    }
   ],
   "source": [
    "best_lgbm_pipeline = lgbm_search.best_estimator_\n",
    "\n",
    "#Exactitud en conjuntos de entrenamiento y prueba\n",
    "train_score = best_lgbm_pipeline.score(x_train, y_train)\n",
    "test_score = best_lgbm_pipeline.score(x_test, y_test)\n",
    "\n",
    "print(f\"La exactitud de entrenamiento para el modelo LightGBM: {train_score}.\")\n",
    "print(f\"La exactitud de prueba para el modelo LightGBM: {test_score}.\")"
   ]
  },
  {
   "cell_type": "code",
   "execution_count": 116,
   "metadata": {},
   "outputs": [
    {
     "data": {
      "image/png": "[encoded data removed]",
      "text/plain": [
       "<Figure size 600x400 with 2 Axes>"
      ]
     },
     "metadata": {
      "needs_background": "light"
     },
     "output_type": "display_data"
    }
   ],
   "source": [
    "y_pred = best_lgbm_pipeline.predict(x_test)\n",
    "plot_confusion_matrix(y_test, y_pred, class_names, title='Matriz de confusión', cmap=plt.cm.Blues)"
   ]
  },
  {
   "cell_type": "markdown",
   "metadata": {},
   "source": [
    "### Eliminación hacia atrás"
   ]
  },
  {
   "cell_type": "markdown",
   "metadata": {},
   "source": [
    "Se emplea la estrategia de eliminación hacia atrás para selección de parámetros. Para ello, se crea un pequeño pipeline con solo el imputador y el escalador,y luego se aplica la eliminación hacia atrás solo al mejor modelo hallado en la búsqueda aleaoria."
   ]
  },
  {
   "cell_type": "code",
   "execution_count": 60,
   "metadata": {
    "scrolled": true
   },
   "outputs": [
    {
     "name": "stdout",
     "output_type": "stream",
     "text": [
      "Número óptimo de características : 34\n"
     ]
    }
   ],
   "source": [
    "#Definicion de imputación, escalamiento, modelo y pipeline a utilizar para el entrenamiento\n",
    "imsc_imputer = lgbm_imputer\n",
    "imsc_scaler = lgbm_scaler\n",
    "imsc_pipeline = pipeline.Pipeline([(\"imputer\", imsc_imputer), (\"scaler\", imsc_scaler)])\n",
    "\n",
    "imsc_pipeline.fit(x_train)\n",
    "\n",
    "#Aplicación del pipeline para obtener data aplicable para el modelo de eliminación hacia atrás\n",
    "x_train_imsc = imsc_pipeline.transform(x_train)\n",
    "\n",
    "#Mejor modelo obtenido para LightGBM\n",
    "best_lgbm_params = best_model.get_params()\n",
    "best_model = LGBMClassifier().set_params(**best_lgbm_params)\n",
    "\n",
    "#Eliminación hacia atrás para el mejor modelo\n",
    "rfecv = RFECV(estimator=best_model, step=1, cv=StratifiedKFold(8), scoring='accuracy')\n",
    "rfecv.fit(x_train_imsc, y_train)\n",
    "\n",
    "#Transformación de datos de entrenamiento\n",
    "x_train_opt = rfecv.transform(x_train_imsc)\n",
    "\n",
    "print(\"Número óptimo de características : %d\" % x_train_opt.shape[1])"
   ]
  },
  {
   "cell_type": "code",
   "execution_count": 61,
   "metadata": {},
   "outputs": [
    {
     "name": "stdout",
     "output_type": "stream",
     "text": [
      "La exactitud de entrenamiento para el modelo LightGBM es: 1.0.\n",
      "La exactitud de prueba para el modelo LightGBM es: 0.9722222222222222.\n"
     ]
    }
   ],
   "source": [
    "best_model.fit(x_train_opt, y_train)\n",
    "\n",
    "#Transformación de datos de prueba\n",
    "x_test_imsc = imsc_pipeline.transform(x_test)\n",
    "x_test_opt = rfecv.transform(x_test_imsc)\n",
    "\n",
    "#Exactitud en conjuntos de entrenamiento y prueba\n",
    "train_score = best_model.score(x_train_opt, y_train)\n",
    "test_score = best_model.score(x_test_opt, y_test)\n",
    "\n",
    "print(\"Después de seleccionar características...\")\n",
    "print(f\"La exactitud de entrenamiento para el modelo LightGBM es: {train_score}.\")\n",
    "print(f\"La exactitud de prueba para el modelo LightGBM es: {test_score}.\")"
   ]
  }
 ],
 "metadata": {
  "colab": {
   "collapsed_sections": [],
   "name": "Main.ipynb",
   "provenance": [],
   "toc_visible": true
  },
  "kernelspec": {
   "display_name": "Python 3",
   "language": "python",
   "name": "python3"
  },
  "language_info": {
   "codemirror_mode": {
    "name": "ipython",
    "version": 3
   },
   "file_extension": ".py",
   "mimetype": "text/x-python",
   "name": "python",
   "nbconvert_exporter": "python",
   "pygments_lexer": "ipython3",
   "version": "3.6.8"
  }
 },
 "nbformat": 4,
 "nbformat_minor": 1
}
