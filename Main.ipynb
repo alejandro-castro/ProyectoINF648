{
 "cells": [
  {
   "cell_type": "markdown",
   "metadata": {
    "colab_type": "text",
    "id": "nu1T9kvptEDF"
   },
   "source": [
    "<center><h1><b>Proyecto de Curso Aprendizaje Automático</b></h1>\n",
    "<h2><b>Escuela de Posgrado PUCP</b></h2>\n",
    "<h2><b>Maestría en Informática</b></h2></center>"
   ]
  },
  {
   "cell_type": "markdown",
   "metadata": {
    "colab_type": "text",
    "id": "I1k-8bTO7qEC"
   },
   "source": [
    "**<h2>Importación de Librerías</h2>**\n"
   ]
  },
  {
   "cell_type": "code",
   "execution_count": 1,
   "metadata": {
    "colab": {},
    "colab_type": "code",
    "id": "cAjbU18w7xIL"
   },
   "outputs": [],
   "source": [
    "import pandas as pd\n",
    "import matplotlib.pyplot as plt\n",
    "import matplotlib\n",
    "from sklearn import preprocessing\n",
    "from sklearn import naive_bayes\n",
    "from sklearn import svm\n",
    "from sklearn import pipeline\n",
    "from sklearn import model_selection\n",
    "from sklearn.tree import DecisionTreeClassifier\n",
    "from sklearn.ensemble import RandomForestClassifier\n",
    "from sklearn.neighbors import KNeighborsClassifier\n",
    "from sklearn.manifold import TSNE\n",
    "from sklearn.impute import SimpleImputer\n",
    "\n",
    "import numpy as np\n",
    "matplotlib.rcParams['figure.dpi'] = 100"
   ]
  },
  {
   "cell_type": "markdown",
   "metadata": {
    "colab_type": "text",
    "id": "bnR2Zn3wuP5M"
   },
   "source": [
    "**<h2>Lectura de la data</h2>**"
   ]
  },
  {
   "cell_type": "markdown",
   "metadata": {},
   "source": [
    "El conjunto de datos consta de los niveles de expresión de 77 proteínas que produjeron señales detectables en la parte nuclear del córtex (características continuas). Se tienen 38 ratones  sanos  y  34  ratones trisómicos  organizados en ocho clases (cada uno conformado por entre  7  y  10  ratones).  Por cada ratón se  han  tomado 15  muestras, por  ende, se tendrán 570 y  510 muestras para los ratones sanos y trisómicos respectivamente."
   ]
  },
  {
   "cell_type": "code",
   "execution_count": 106,
   "metadata": {
    "colab": {},
    "colab_type": "code",
    "id": "pCKzyNwG7mGo"
   },
   "outputs": [],
   "source": [
    "dataset = pd.read_excel(\"Data_Cortex_Nuclear.xls\")"
   ]
  },
  {
   "cell_type": "code",
   "execution_count": 107,
   "metadata": {
    "colab": {
     "base_uri": "https://localhost:8080/",
     "height": 255
    },
    "colab_type": "code",
    "id": "v6sgXDml8Gd5",
    "outputId": "ef0a481d-1ac3-4203-f302-d7b893451fa8"
   },
   "outputs": [
    {
     "name": "stdout",
     "output_type": "stream",
     "text": [
      "Las dimensiones del dataset son (1080, 82)\n"
     ]
    },
    {
     "data": {
      "text/html": [
       "<div>\n",
       "<style scoped>\n",
       "    .dataframe tbody tr th:only-of-type {\n",
       "        vertical-align: middle;\n",
       "    }\n",
       "\n",
       "    .dataframe tbody tr th {\n",
       "        vertical-align: top;\n",
       "    }\n",
       "\n",
       "    .dataframe thead th {\n",
       "        text-align: right;\n",
       "    }\n",
       "</style>\n",
       "<table border=\"1\" class=\"dataframe\">\n",
       "  <thead>\n",
       "    <tr style=\"text-align: right;\">\n",
       "      <th></th>\n",
       "      <th>MouseID</th>\n",
       "      <th>DYRK1A_N</th>\n",
       "      <th>ITSN1_N</th>\n",
       "      <th>BDNF_N</th>\n",
       "      <th>NR1_N</th>\n",
       "      <th>NR2A_N</th>\n",
       "      <th>pAKT_N</th>\n",
       "      <th>pBRAF_N</th>\n",
       "      <th>pCAMKII_N</th>\n",
       "      <th>pCREB_N</th>\n",
       "      <th>...</th>\n",
       "      <th>pCFOS_N</th>\n",
       "      <th>SYP_N</th>\n",
       "      <th>H3AcK18_N</th>\n",
       "      <th>EGR1_N</th>\n",
       "      <th>H3MeK4_N</th>\n",
       "      <th>CaNA_N</th>\n",
       "      <th>Genotype</th>\n",
       "      <th>Treatment</th>\n",
       "      <th>Behavior</th>\n",
       "      <th>class</th>\n",
       "    </tr>\n",
       "  </thead>\n",
       "  <tbody>\n",
       "    <tr>\n",
       "      <th>0</th>\n",
       "      <td>309_1</td>\n",
       "      <td>0.503644</td>\n",
       "      <td>0.747193</td>\n",
       "      <td>0.430175</td>\n",
       "      <td>2.816329</td>\n",
       "      <td>5.990152</td>\n",
       "      <td>0.218830</td>\n",
       "      <td>0.177565</td>\n",
       "      <td>2.373744</td>\n",
       "      <td>0.232224</td>\n",
       "      <td>...</td>\n",
       "      <td>0.108336</td>\n",
       "      <td>0.427099</td>\n",
       "      <td>0.114783</td>\n",
       "      <td>0.131790</td>\n",
       "      <td>0.128186</td>\n",
       "      <td>1.675652</td>\n",
       "      <td>Control</td>\n",
       "      <td>Memantine</td>\n",
       "      <td>C/S</td>\n",
       "      <td>c-CS-m</td>\n",
       "    </tr>\n",
       "    <tr>\n",
       "      <th>1</th>\n",
       "      <td>309_2</td>\n",
       "      <td>0.514617</td>\n",
       "      <td>0.689064</td>\n",
       "      <td>0.411770</td>\n",
       "      <td>2.789514</td>\n",
       "      <td>5.685038</td>\n",
       "      <td>0.211636</td>\n",
       "      <td>0.172817</td>\n",
       "      <td>2.292150</td>\n",
       "      <td>0.226972</td>\n",
       "      <td>...</td>\n",
       "      <td>0.104315</td>\n",
       "      <td>0.441581</td>\n",
       "      <td>0.111974</td>\n",
       "      <td>0.135103</td>\n",
       "      <td>0.131119</td>\n",
       "      <td>1.743610</td>\n",
       "      <td>Control</td>\n",
       "      <td>Memantine</td>\n",
       "      <td>C/S</td>\n",
       "      <td>c-CS-m</td>\n",
       "    </tr>\n",
       "    <tr>\n",
       "      <th>2</th>\n",
       "      <td>309_3</td>\n",
       "      <td>0.509183</td>\n",
       "      <td>0.730247</td>\n",
       "      <td>0.418309</td>\n",
       "      <td>2.687201</td>\n",
       "      <td>5.622059</td>\n",
       "      <td>0.209011</td>\n",
       "      <td>0.175722</td>\n",
       "      <td>2.283337</td>\n",
       "      <td>0.230247</td>\n",
       "      <td>...</td>\n",
       "      <td>0.106219</td>\n",
       "      <td>0.435777</td>\n",
       "      <td>0.111883</td>\n",
       "      <td>0.133362</td>\n",
       "      <td>0.127431</td>\n",
       "      <td>1.926427</td>\n",
       "      <td>Control</td>\n",
       "      <td>Memantine</td>\n",
       "      <td>C/S</td>\n",
       "      <td>c-CS-m</td>\n",
       "    </tr>\n",
       "    <tr>\n",
       "      <th>3</th>\n",
       "      <td>309_4</td>\n",
       "      <td>0.442107</td>\n",
       "      <td>0.617076</td>\n",
       "      <td>0.358626</td>\n",
       "      <td>2.466947</td>\n",
       "      <td>4.979503</td>\n",
       "      <td>0.222886</td>\n",
       "      <td>0.176463</td>\n",
       "      <td>2.152301</td>\n",
       "      <td>0.207004</td>\n",
       "      <td>...</td>\n",
       "      <td>0.111262</td>\n",
       "      <td>0.391691</td>\n",
       "      <td>0.130405</td>\n",
       "      <td>0.147444</td>\n",
       "      <td>0.146901</td>\n",
       "      <td>1.700563</td>\n",
       "      <td>Control</td>\n",
       "      <td>Memantine</td>\n",
       "      <td>C/S</td>\n",
       "      <td>c-CS-m</td>\n",
       "    </tr>\n",
       "    <tr>\n",
       "      <th>4</th>\n",
       "      <td>309_5</td>\n",
       "      <td>0.434940</td>\n",
       "      <td>0.617430</td>\n",
       "      <td>0.358802</td>\n",
       "      <td>2.365785</td>\n",
       "      <td>4.718679</td>\n",
       "      <td>0.213106</td>\n",
       "      <td>0.173627</td>\n",
       "      <td>2.134014</td>\n",
       "      <td>0.192158</td>\n",
       "      <td>...</td>\n",
       "      <td>0.110694</td>\n",
       "      <td>0.434154</td>\n",
       "      <td>0.118481</td>\n",
       "      <td>0.140314</td>\n",
       "      <td>0.148380</td>\n",
       "      <td>1.839730</td>\n",
       "      <td>Control</td>\n",
       "      <td>Memantine</td>\n",
       "      <td>C/S</td>\n",
       "      <td>c-CS-m</td>\n",
       "    </tr>\n",
       "  </tbody>\n",
       "</table>\n",
       "<p>5 rows × 82 columns</p>\n",
       "</div>"
      ],
      "text/plain": [
       "  MouseID  DYRK1A_N   ITSN1_N    BDNF_N     NR1_N    NR2A_N    pAKT_N  \\\n",
       "0   309_1  0.503644  0.747193  0.430175  2.816329  5.990152  0.218830   \n",
       "1   309_2  0.514617  0.689064  0.411770  2.789514  5.685038  0.211636   \n",
       "2   309_3  0.509183  0.730247  0.418309  2.687201  5.622059  0.209011   \n",
       "3   309_4  0.442107  0.617076  0.358626  2.466947  4.979503  0.222886   \n",
       "4   309_5  0.434940  0.617430  0.358802  2.365785  4.718679  0.213106   \n",
       "\n",
       "    pBRAF_N  pCAMKII_N   pCREB_N  ...   pCFOS_N     SYP_N  H3AcK18_N  \\\n",
       "0  0.177565   2.373744  0.232224  ...  0.108336  0.427099   0.114783   \n",
       "1  0.172817   2.292150  0.226972  ...  0.104315  0.441581   0.111974   \n",
       "2  0.175722   2.283337  0.230247  ...  0.106219  0.435777   0.111883   \n",
       "3  0.176463   2.152301  0.207004  ...  0.111262  0.391691   0.130405   \n",
       "4  0.173627   2.134014  0.192158  ...  0.110694  0.434154   0.118481   \n",
       "\n",
       "     EGR1_N  H3MeK4_N    CaNA_N  Genotype  Treatment  Behavior   class  \n",
       "0  0.131790  0.128186  1.675652   Control  Memantine       C/S  c-CS-m  \n",
       "1  0.135103  0.131119  1.743610   Control  Memantine       C/S  c-CS-m  \n",
       "2  0.133362  0.127431  1.926427   Control  Memantine       C/S  c-CS-m  \n",
       "3  0.147444  0.146901  1.700563   Control  Memantine       C/S  c-CS-m  \n",
       "4  0.140314  0.148380  1.839730   Control  Memantine       C/S  c-CS-m  \n",
       "\n",
       "[5 rows x 82 columns]"
      ]
     },
     "execution_count": 107,
     "metadata": {},
     "output_type": "execute_result"
    }
   ],
   "source": [
    "print(f\"Las dimensiones del dataset son {dataset.shape}\")\n",
    "dataset.head()"
   ]
  },
  {
   "cell_type": "markdown",
   "metadata": {},
   "source": [
    "**<h2>Preprocesamiento</h2>**"
   ]
  },
  {
   "cell_type": "markdown",
   "metadata": {},
   "source": [
    "La estrategia que se utilizará para el manejo de datos faltantes será la imputación de los mismos por el estadístico media para cada clase."
   ]
  },
  {
   "cell_type": "markdown",
   "metadata": {},
   "source": [
    "**<h3>Eliminación de Características innecesarias y codificación de la clase</h3>**"
   ]
  },
  {
   "cell_type": "code",
   "execution_count": 108,
   "metadata": {},
   "outputs": [],
   "source": [
    "preprocDataset = dataset.copy()\n",
    "\n",
    "#Se elimina información redundante \"Genotype\", \"Treatment\", \"Behavior\" que ya están combinadas en la columna clase.\n",
    "preprocDataset.drop([\"Genotype\", \"Treatment\", \"Behavior\"], axis=1, inplace=True)\n",
    "\n",
    "#Se separan las versiones y números de ratones en otras variables\n",
    "MouseNumber = preprocDataset.MouseID.apply(lambda x: x.split('_')[0])\n",
    "MouseVersion = preprocDataset.MouseID.apply(lambda x: x.split('_')[1])\n",
    "\n",
    "#Se elimina información irrelevante para la tarea de clasificación multiclase\n",
    "preprocDataset.drop(\"MouseID\", axis=1, inplace=True)\n",
    "\n",
    "from sklearn.preprocessing import LabelEncoder\n",
    "\n",
    "preprocDataset[\"class\"] = LabelEncoder().fit_transform(preprocDataset[\"class\"])"
   ]
  },
  {
   "cell_type": "markdown",
   "metadata": {},
   "source": [
    "**<h3>Imputación de datos faltantes</h3>**"
   ]
  },
  {
   "cell_type": "markdown",
   "metadata": {},
   "source": [
    "Dado que se aplicará validación K-Fold durante la búsqueda y optimización de cada hiperparámetro, se realizará la imputación de datos faltantes durante cada iteración de validación, mediante el uso de un imputador que usa la mediana de cada característica, dicho imputador será agregado al inicio del pipeline de entrenamiento."
   ]
  },
  {
   "cell_type": "markdown",
   "metadata": {},
   "source": [
    "**<h2> Separación y etiquetado de datos</h2>**"
   ]
  },
  {
   "cell_type": "code",
   "execution_count": 109,
   "metadata": {
    "colab": {
     "base_uri": "https://localhost:8080/",
     "height": 35
    },
    "colab_type": "code",
    "id": "qCgfb8shs9yo",
    "outputId": "362500d7-b607-4b22-9546-8f3953f9c956"
   },
   "outputs": [],
   "source": [
    "x = preprocDataset.drop(\"class\",axis=1)\n",
    "y = preprocDataset[\"class\"]"
   ]
  },
  {
   "cell_type": "markdown",
   "metadata": {},
   "source": [
    "**<h3>Análisis de separabilidad de la data</h3>**"
   ]
  },
  {
   "cell_type": "code",
   "execution_count": 110,
   "metadata": {
    "colab": {},
    "colab_type": "code",
    "id": "thy36EaGm_yP"
   },
   "outputs": [],
   "source": [
    "#Imputacion temporal del dataset para realizar el gráfico T-SNE.\n",
    "x_imputed = SimpleImputer(strategy=\"mean\").fit_transform(x)\n",
    "x_embedded = TSNE(n_components=2, n_jobs=-1).fit_transform(x_imputed)"
   ]
  },
  {
   "cell_type": "code",
   "execution_count": 111,
   "metadata": {
    "colab": {
     "base_uri": "https://localhost:8080/",
     "height": 647
    },
    "colab_type": "code",
    "id": "hPG7XffcvVPZ",
    "outputId": "abe68d5b-7e3a-4cb5-b88c-4ddea5774038"
   },
   "outputs": [
    {
     "data": {
      "image/png": "[encoded data removed]",
      "text/plain": [
       "<Figure size 500x500 with 1 Axes>"
      ]
     },
     "metadata": {
      "needs_background": "light"
     },
     "output_type": "display_data"
    }
   ],
   "source": [
    "plt.figure(figsize=(5, 5))\n",
    "plt.scatter(x_embedded[:,0], x_embedded[:,1], c=y)\n",
    "plt.show()"
   ]
  },
  {
   "cell_type": "markdown",
   "metadata": {},
   "source": [
    "Se observa del gráfico t-SNE que las clases de los datos están medianamente separados, por tanto, se espera que los modelos a entrenar tengan una precisión razonablemente alta."
   ]
  },
  {
   "cell_type": "markdown",
   "metadata": {},
   "source": [
    "**<h2>Separación de conjunto de entrenamiento de conjunto de pruebas</h2>**"
   ]
  },
  {
   "cell_type": "code",
   "execution_count": 112,
   "metadata": {},
   "outputs": [
    {
     "name": "stdout",
     "output_type": "stream",
     "text": [
      "El tamaño del conjunto de prueba es: (864, 77).\n",
      "El tamaño del conjunto de prueba es: (216, 77).\n"
     ]
    }
   ],
   "source": [
    "x_train, x_test, y_train, y_test = model_selection.train_test_split(x, y, train_size=0.8,random_state=0,stratify=y)\n",
    "print(f\"El tamaño del conjunto de prueba es: {x_train.shape}.\")\n",
    "print(f\"El tamaño del conjunto de prueba es: {x_test.shape}.\")"
   ]
  },
  {
   "cell_type": "markdown",
   "metadata": {},
   "source": [
    "## Escalamiento de data"
   ]
  },
  {
   "cell_type": "markdown",
   "metadata": {},
   "source": [
    "Se utilizará la clase ***pipeline*** para realizar el escalamiento sólo en la data de entrenamiento correspondiente a la validación ***k-fold***, por lo que el escalamiento se realizará previo al entrenamiento de cada modelo."
   ]
  },
  {
   "cell_type": "markdown",
   "metadata": {},
   "source": [
    "# Algoritmos a entrenar"
   ]
  },
  {
   "cell_type": "markdown",
   "metadata": {},
   "source": [
    "## Decision Tree"
   ]
  },
  {
   "cell_type": "code",
   "execution_count": 113,
   "metadata": {},
   "outputs": [],
   "source": [
    "#Definicion de imputación, escalamiento, modelo y pipeline a utilizar para el entrenamiento\n",
    "dt_imputer = SimpleImputer(strategy='mean')\n",
    "dt_scaler = preprocessing.StandardScaler()\n",
    "dt_model = DecisionTreeClassifier(class_weight=\"balanced\", random_state=0)\n",
    "\n",
    "dt_pipeline = pipeline.Pipeline([(\"imputer\", dt_imputer), (\"scaler\", dt_scaler), (\"dt\", dt_model)])\n",
    "\n",
    "#Definicion del grid donde se hará la búsqueda de hiperparámetros\n",
    "grid_dt = {'dt__criterion': ['gini', 'entropy'],\n",
    "           'dt__max_depth': range(1, 31, 3),\n",
    "           'dt__min_samples_split': range(2, 40, 1)}"
   ]
  },
  {
   "cell_type": "code",
   "execution_count": 114,
   "metadata": {},
   "outputs": [
    {
     "data": {
      "text/plain": [
       "RandomizedSearchCV(estimator=Pipeline(steps=[('imputer', SimpleImputer()),\n",
       "                                             ('scaler', StandardScaler()),\n",
       "                                             ('dt',\n",
       "                                              DecisionTreeClassifier(class_weight='balanced',\n",
       "                                                                     random_state=0))]),\n",
       "                   n_iter=40, n_jobs=-1,\n",
       "                   param_distributions={'dt__criterion': ['gini', 'entropy'],\n",
       "                                        'dt__max_depth': range(1, 31, 3),\n",
       "                                        'dt__min_samples_split': range(2, 40)},\n",
       "                   random_state=0)"
      ]
     },
     "execution_count": 114,
     "metadata": {},
     "output_type": "execute_result"
    }
   ],
   "source": [
    "#Busqueda aleatoria\n",
    "r_search_dt = model_selection.RandomizedSearchCV(dt_pipeline,\n",
    "                                                 grid_dt,\n",
    "                                                 n_iter=40,\n",
    "                                                 n_jobs=-1,\n",
    "                                                 random_state=0)\n",
    "\n",
    "r_search_dt.fit(x_train, y_train)"
   ]
  },
  {
   "cell_type": "code",
   "execution_count": 115,
   "metadata": {},
   "outputs": [
    {
     "name": "stdout",
     "output_type": "stream",
     "text": [
      "La exactitud de entrenamiento para el modelo DT es: 1.0.\n",
      "La exactitud de prueba para el modelo DT es: 0.8425925925925926.\n"
     ]
    }
   ],
   "source": [
    "best_dt_pipeline = r_search_dt.best_estimator_\n",
    "\n",
    "train_score = best_dt_pipeline.score(x_train, y_train)\n",
    "test_score = best_dt_pipeline.score(x_test, y_test)\n",
    "\n",
    "print(f\"La exactitud de entrenamiento para el modelo DT es: {train_score}.\")\n",
    "print(f\"La exactitud de prueba para el modelo DT es: {test_score}.\")"
   ]
  },
  {
   "cell_type": "code",
   "execution_count": 118,
   "metadata": {},
   "outputs": [
    {
     "data": {
      "text/html": [
       "<div>\n",
       "<style scoped>\n",
       "    .dataframe tbody tr th:only-of-type {\n",
       "        vertical-align: middle;\n",
       "    }\n",
       "\n",
       "    .dataframe tbody tr th {\n",
       "        vertical-align: top;\n",
       "    }\n",
       "\n",
       "    .dataframe thead th {\n",
       "        text-align: right;\n",
       "    }\n",
       "</style>\n",
       "<table border=\"1\" class=\"dataframe\">\n",
       "  <thead>\n",
       "    <tr style=\"text-align: right;\">\n",
       "      <th></th>\n",
       "      <th>dt__min_samples_split</th>\n",
       "      <th>dt__max_depth</th>\n",
       "      <th>dt__criterion</th>\n",
       "      <th>test_score</th>\n",
       "    </tr>\n",
       "  </thead>\n",
       "  <tbody>\n",
       "    <tr>\n",
       "      <th>0</th>\n",
       "      <td>28</td>\n",
       "      <td>28</td>\n",
       "      <td>entropy</td>\n",
       "      <td>0.774318</td>\n",
       "    </tr>\n",
       "    <tr>\n",
       "      <th>1</th>\n",
       "      <td>15</td>\n",
       "      <td>16</td>\n",
       "      <td>entropy</td>\n",
       "      <td>0.807871</td>\n",
       "    </tr>\n",
       "    <tr>\n",
       "      <th>2</th>\n",
       "      <td>7</td>\n",
       "      <td>16</td>\n",
       "      <td>entropy</td>\n",
       "      <td>0.839179</td>\n",
       "    </tr>\n",
       "    <tr>\n",
       "      <th>3</th>\n",
       "      <td>4</td>\n",
       "      <td>4</td>\n",
       "      <td>gini</td>\n",
       "      <td>0.694408</td>\n",
       "    </tr>\n",
       "    <tr>\n",
       "      <th>4</th>\n",
       "      <td>17</td>\n",
       "      <td>19</td>\n",
       "      <td>gini</td>\n",
       "      <td>0.765002</td>\n",
       "    </tr>\n",
       "  </tbody>\n",
       "</table>\n",
       "</div>"
      ],
      "text/plain": [
       "   dt__min_samples_split  dt__max_depth dt__criterion  test_score\n",
       "0                     28             28       entropy    0.774318\n",
       "1                     15             16       entropy    0.807871\n",
       "2                      7             16       entropy    0.839179\n",
       "3                      4              4          gini    0.694408\n",
       "4                     17             19          gini    0.765002"
      ]
     },
     "execution_count": 118,
     "metadata": {},
     "output_type": "execute_result"
    }
   ],
   "source": [
    "results_dt = pd.DataFrame(r_search_dt.cv_results_['params'])\n",
    "results_dt['test_score'] = r_search_dt.cv_results_['mean_test_score']\n",
    "results_dt.head()"
   ]
  },
  {
   "cell_type": "code",
   "execution_count": 122,
   "metadata": {},
   "outputs": [
    {
     "data": {
      "text/html": [
       "\n",
       "<div id=\"altair-viz-0cf4220147494bcfb619e6b57ec9c608\"></div>\n",
       "<script type=\"text/javascript\">\n",
       "  (function(spec, embedOpt){\n",
       "    let outputDiv = document.currentScript.previousElementSibling;\n",
       "    if (outputDiv.id !== \"altair-viz-0cf4220147494bcfb619e6b57ec9c608\") {\n",
       "      outputDiv = document.getElementById(\"altair-viz-0cf4220147494bcfb619e6b57ec9c608\");\n",
       "    }\n",
       "    const paths = {\n",
       "      \"vega\": \"https://cdn.jsdelivr.net/npm//vega@5?noext\",\n",
       "      \"vega-lib\": \"https://cdn.jsdelivr.net/npm//vega-lib?noext\",\n",
       "      \"vega-lite\": \"https://cdn.jsdelivr.net/npm//vega-lite@4.8.1?noext\",\n",
       "      \"vega-embed\": \"https://cdn.jsdelivr.net/npm//vega-embed@6?noext\",\n",
       "    };\n",
       "\n",
       "    function loadScript(lib) {\n",
       "      return new Promise(function(resolve, reject) {\n",
       "        var s = document.createElement('script');\n",
       "        s.src = paths[lib];\n",
       "        s.async = true;\n",
       "        s.onload = () => resolve(paths[lib]);\n",
       "        s.onerror = () => reject(`Error loading script: ${paths[lib]}`);\n",
       "        document.getElementsByTagName(\"head\")[0].appendChild(s);\n",
       "      });\n",
       "    }\n",
       "\n",
       "    function showError(err) {\n",
       "      outputDiv.innerHTML = `<div class=\"error\" style=\"color:red;\">${err}</div>`;\n",
       "      throw err;\n",
       "    }\n",
       "\n",
       "    function displayChart(vegaEmbed) {\n",
       "      vegaEmbed(outputDiv, spec, embedOpt)\n",
       "        .catch(err => showError(`Javascript Error: ${err.message}<br>This usually means there's a typo in your chart specification. See the javascript console for the full traceback.`));\n",
       "    }\n",
       "\n",
       "    if(typeof define === \"function\" && define.amd) {\n",
       "      requirejs.config({paths});\n",
       "      require([\"vega-embed\"], displayChart, err => showError(`Error loading script: ${err.message}`));\n",
       "    } else if (typeof vegaEmbed === \"function\") {\n",
       "      displayChart(vegaEmbed);\n",
       "    } else {\n",
       "      loadScript(\"vega\")\n",
       "        .then(() => loadScript(\"vega-lite\"))\n",
       "        .then(() => loadScript(\"vega-embed\"))\n",
       "        .catch(showError)\n",
       "        .then(() => displayChart(vegaEmbed));\n",
       "    }\n",
       "  })({\"config\": {\"view\": {\"continuousWidth\": 400, \"continuousHeight\": 300}}, \"data\": {\"name\": \"data-381965036f65eded265179223a3314d0\"}, \"mark\": {\"type\": \"line\", \"point\": true}, \"encoding\": {\"color\": {\"type\": \"nominal\", \"field\": \"dt__criterion\"}, \"x\": {\"type\": \"quantitative\", \"field\": \"dt__max_depth\", \"title\": \"Profundidad maxima\"}, \"y\": {\"type\": \"quantitative\", \"aggregate\": \"average\", \"field\": \"test_score\", \"scale\": {\"zero\": false}, \"title\": \"Score Medio CV\"}}, \"title\": \"Comparacion de performance DT\", \"$schema\": \"https://vega.github.io/schema/vega-lite/v4.8.1.json\", \"datasets\": {\"data-381965036f65eded265179223a3314d0\": [{\"dt__min_samples_split\": 28, \"dt__max_depth\": 28, \"dt__criterion\": \"entropy\", \"test_score\": 0.7743177846484742}, {\"dt__min_samples_split\": 15, \"dt__max_depth\": 16, \"dt__criterion\": \"entropy\", \"test_score\": 0.8078706815432183}, {\"dt__min_samples_split\": 7, \"dt__max_depth\": 16, \"dt__criterion\": \"entropy\", \"test_score\": 0.8391786530447641}, {\"dt__min_samples_split\": 4, \"dt__max_depth\": 4, \"dt__criterion\": \"gini\", \"test_score\": 0.6944078505175427}, {\"dt__min_samples_split\": 17, \"dt__max_depth\": 19, \"dt__criterion\": \"gini\", \"test_score\": 0.7650020164000538}, {\"dt__min_samples_split\": 11, \"dt__max_depth\": 1, \"dt__criterion\": \"entropy\", \"test_score\": 0.23498454093292112}, {\"dt__min_samples_split\": 12, \"dt__max_depth\": 4, \"dt__criterion\": \"entropy\", \"test_score\": 0.6967670385804543}, {\"dt__min_samples_split\": 10, \"dt__max_depth\": 10, \"dt__criterion\": \"gini\", \"test_score\": 0.8089864229063046}, {\"dt__min_samples_split\": 33, \"dt__max_depth\": 1, \"dt__criterion\": \"gini\", \"test_score\": 0.23498454093292112}, {\"dt__min_samples_split\": 19, \"dt__max_depth\": 22, \"dt__criterion\": \"gini\", \"test_score\": 0.753414437424385}, {\"dt__min_samples_split\": 29, \"dt__max_depth\": 1, \"dt__criterion\": \"gini\", \"test_score\": 0.23498454093292112}, {\"dt__min_samples_split\": 34, \"dt__max_depth\": 1, \"dt__criterion\": \"entropy\", \"test_score\": 0.23498454093292112}, {\"dt__min_samples_split\": 13, \"dt__max_depth\": 25, \"dt__criterion\": \"entropy\", \"test_score\": 0.8182753058206748}, {\"dt__min_samples_split\": 16, \"dt__max_depth\": 1, \"dt__criterion\": \"gini\", \"test_score\": 0.23498454093292112}, {\"dt__min_samples_split\": 12, \"dt__max_depth\": 13, \"dt__criterion\": \"gini\", \"test_score\": 0.7997311466594972}, {\"dt__min_samples_split\": 32, \"dt__max_depth\": 10, \"dt__criterion\": \"entropy\", \"test_score\": 0.7754738540126361}, {\"dt__min_samples_split\": 33, \"dt__max_depth\": 16, \"dt__criterion\": \"entropy\", \"test_score\": 0.7731482726172872}, {\"dt__min_samples_split\": 2, \"dt__max_depth\": 1, \"dt__criterion\": \"entropy\", \"test_score\": 0.23498454093292112}, {\"dt__min_samples_split\": 2, \"dt__max_depth\": 16, \"dt__criterion\": \"entropy\", \"test_score\": 0.8530111574136308}, {\"dt__min_samples_split\": 11, \"dt__max_depth\": 25, \"dt__criterion\": \"gini\", \"test_score\": 0.8066541201774431}, {\"dt__min_samples_split\": 10, \"dt__max_depth\": 22, \"dt__criterion\": \"entropy\", \"test_score\": 0.8344737195859657}, {\"dt__min_samples_split\": 35, \"dt__max_depth\": 22, \"dt__criterion\": \"gini\", \"test_score\": 0.7499462293318995}, {\"dt__min_samples_split\": 35, \"dt__max_depth\": 7, \"dt__criterion\": \"entropy\", \"test_score\": 0.7719922032531253}, {\"dt__min_samples_split\": 26, \"dt__max_depth\": 28, \"dt__criterion\": \"gini\", \"test_score\": 0.7592082269122193}, {\"dt__min_samples_split\": 25, \"dt__max_depth\": 13, \"dt__criterion\": \"gini\", \"test_score\": 0.7568826455168705}, {\"dt__min_samples_split\": 28, \"dt__max_depth\": 22, \"dt__criterion\": \"entropy\", \"test_score\": 0.7743177846484742}, {\"dt__min_samples_split\": 12, \"dt__max_depth\": 10, \"dt__criterion\": \"entropy\", \"test_score\": 0.8171461217905632}, {\"dt__min_samples_split\": 19, \"dt__max_depth\": 4, \"dt__criterion\": \"gini\", \"test_score\": 0.6897835730608952}, {\"dt__min_samples_split\": 21, \"dt__max_depth\": 1, \"dt__criterion\": \"entropy\", \"test_score\": 0.23498454093292112}, {\"dt__min_samples_split\": 36, \"dt__max_depth\": 25, \"dt__criterion\": \"gini\", \"test_score\": 0.7476206479365506}, {\"dt__min_samples_split\": 5, \"dt__max_depth\": 7, \"dt__criterion\": \"gini\", \"test_score\": 0.8020096787202581}, {\"dt__min_samples_split\": 7, \"dt__max_depth\": 13, \"dt__criterion\": \"gini\", \"test_score\": 0.8101424922704664}, {\"dt__min_samples_split\": 9, \"dt__max_depth\": 7, \"dt__criterion\": \"entropy\", \"test_score\": 0.8345140475870412}, {\"dt__min_samples_split\": 5, \"dt__max_depth\": 13, \"dt__criterion\": \"entropy\", \"test_score\": 0.8472308105928216}, {\"dt__min_samples_split\": 4, \"dt__max_depth\": 22, \"dt__criterion\": \"gini\", \"test_score\": 0.8136443070305148}, {\"dt__min_samples_split\": 27, \"dt__max_depth\": 16, \"dt__criterion\": \"gini\", \"test_score\": 0.7592082269122193}, {\"dt__min_samples_split\": 37, \"dt__max_depth\": 19, \"dt__criterion\": \"entropy\", \"test_score\": 0.7650423444011292}, {\"dt__min_samples_split\": 33, \"dt__max_depth\": 10, \"dt__criterion\": \"gini\", \"test_score\": 0.7499462293318995}, {\"dt__min_samples_split\": 10, \"dt__max_depth\": 1, \"dt__criterion\": \"gini\", \"test_score\": 0.23498454093292112}, {\"dt__min_samples_split\": 18, \"dt__max_depth\": 25, \"dt__criterion\": \"entropy\", \"test_score\": 0.7951539185374379}]}}, {\"mode\": \"vega-lite\"});\n",
       "</script>"
      ],
      "text/plain": [
       "alt.Chart(...)"
      ]
     },
     "execution_count": 122,
     "metadata": {},
     "output_type": "execute_result"
    }
   ],
   "source": [
    "alt.Chart(results_dt, \n",
    "          title='Comparacion de performance DT'\n",
    "         ).mark_line(point=True).encode(\n",
    "    alt.X('dt__max_depth', title='Profundidad maxima'),\n",
    "    alt.Y('test_score', title='Score Medio CV', aggregate='average', scale=alt.Scale(zero=False)),\n",
    "    color='dt__criterion'\n",
    ")"
   ]
  },
  {
   "cell_type": "markdown",
   "metadata": {},
   "source": [
    "## Random Forest"
   ]
  },
  {
   "cell_type": "code",
   "execution_count": 139,
   "metadata": {},
   "outputs": [],
   "source": [
    "#Definicion de imputación, escalamiento, modelo y pipeline a utilizar para el entrenamiento\n",
    "rfc_imputer = SimpleImputer(strategy='mean')\n",
    "rfc_scaler = preprocessing.StandardScaler()\n",
    "rfc_model = RandomForestClassifier(class_weight=\"balanced\",random_state=0)\n",
    "\n",
    "rfc_pipeline = pipeline.Pipeline([(\"imputer\", rfc_imputer),(\"scaler\", rfc_scaler), (\"rfc\", rfc_model)])\n",
    "\n",
    "#Definicion del grid donde se hará la búsqueda de hiperparámetros\n",
    "grid_rfc = {\"rfc__n_estimators\": range(1,800,40), \n",
    "            \"rfc__criterion\": ['gini', 'entropy'], \n",
    "            \"rfc__max_depth\": range(1,31,3),\n",
    "            \"rfc__min_samples_split\": range(2, 40, 1),\n",
    "            \"rfc__min_samples_leaf\": range(1, 20, 1)}"
   ]
  },
  {
   "cell_type": "code",
   "execution_count": 140,
   "metadata": {},
   "outputs": [
    {
     "data": {
      "text/plain": [
       "RandomizedSearchCV(cv=8,\n",
       "                   estimator=Pipeline(steps=[('imputer', SimpleImputer()),\n",
       "                                             ('scaler', StandardScaler()),\n",
       "                                             ('rfc',\n",
       "                                              RandomForestClassifier(class_weight='balanced',\n",
       "                                                                     random_state=0))]),\n",
       "                   n_iter=80, n_jobs=-1,\n",
       "                   param_distributions={'rfc__criterion': ['gini', 'entropy'],\n",
       "                                        'rfc__max_depth': range(1, 31, 3),\n",
       "                                        'rfc__min_samples_leaf': range(1, 20),\n",
       "                                        'rfc__min_samples_split': range(2, 40),\n",
       "                                        'rfc__n_estimators': range(1, 800, 20)},\n",
       "                   random_state=0)"
      ]
     },
     "execution_count": 140,
     "metadata": {},
     "output_type": "execute_result"
    }
   ],
   "source": [
    "#Busqueda aleatoria\n",
    "r_search_rfc = model_selection.RandomizedSearchCV(rfc_pipeline, \n",
    "                                                  grid_rfc, \n",
    "                                                  n_iter=40, \n",
    "                                                  n_jobs=-1,\n",
    "                                                  cv=8, \n",
    "                                                  random_state=0)\n",
    "r_search_rfc.fit(x_train, y_train)"
   ]
  },
  {
   "cell_type": "code",
   "execution_count": 141,
   "metadata": {
    "scrolled": true
   },
   "outputs": [
    {
     "name": "stdout",
     "output_type": "stream",
     "text": [
      "La exactitud de entrenamiento para el modelo RF es: 1.0.\n",
      "La exactitud de prueba para el modelo RF es: 0.9907407407407407.\n"
     ]
    }
   ],
   "source": [
    "best_rfc_pipeline = r_search_rfc.best_estimator_\n",
    "\n",
    "train_score = best_rfc_pipeline.score(x_train, y_train)\n",
    "test_score = best_rfc_pipeline.score(x_test, y_test)\n",
    "\n",
    "print(f\"La exactitud de entrenamiento para el modelo RF es: {train_score}.\")\n",
    "print(f\"La exactitud de prueba para el modelo RF es: {test_score}.\")"
   ]
  },
  {
   "cell_type": "code",
   "execution_count": 142,
   "metadata": {},
   "outputs": [
    {
     "data": {
      "text/html": [
       "<div>\n",
       "<style scoped>\n",
       "    .dataframe tbody tr th:only-of-type {\n",
       "        vertical-align: middle;\n",
       "    }\n",
       "\n",
       "    .dataframe tbody tr th {\n",
       "        vertical-align: top;\n",
       "    }\n",
       "\n",
       "    .dataframe thead th {\n",
       "        text-align: right;\n",
       "    }\n",
       "</style>\n",
       "<table border=\"1\" class=\"dataframe\">\n",
       "  <thead>\n",
       "    <tr style=\"text-align: right;\">\n",
       "      <th></th>\n",
       "      <th>rfc__n_estimators</th>\n",
       "      <th>rfc__min_samples_split</th>\n",
       "      <th>rfc__min_samples_leaf</th>\n",
       "      <th>rfc__max_depth</th>\n",
       "      <th>rfc__criterion</th>\n",
       "      <th>test_score</th>\n",
       "    </tr>\n",
       "  </thead>\n",
       "  <tbody>\n",
       "    <tr>\n",
       "      <th>0</th>\n",
       "      <td>621</td>\n",
       "      <td>6</td>\n",
       "      <td>12</td>\n",
       "      <td>1</td>\n",
       "      <td>entropy</td>\n",
       "      <td>0.527778</td>\n",
       "    </tr>\n",
       "    <tr>\n",
       "      <th>1</th>\n",
       "      <td>581</td>\n",
       "      <td>29</td>\n",
       "      <td>2</td>\n",
       "      <td>16</td>\n",
       "      <td>entropy</td>\n",
       "      <td>0.930556</td>\n",
       "    </tr>\n",
       "    <tr>\n",
       "      <th>2</th>\n",
       "      <td>641</td>\n",
       "      <td>24</td>\n",
       "      <td>2</td>\n",
       "      <td>13</td>\n",
       "      <td>gini</td>\n",
       "      <td>0.958333</td>\n",
       "    </tr>\n",
       "    <tr>\n",
       "      <th>3</th>\n",
       "      <td>701</td>\n",
       "      <td>9</td>\n",
       "      <td>6</td>\n",
       "      <td>16</td>\n",
       "      <td>gini</td>\n",
       "      <td>0.960648</td>\n",
       "    </tr>\n",
       "    <tr>\n",
       "      <th>4</th>\n",
       "      <td>461</td>\n",
       "      <td>28</td>\n",
       "      <td>9</td>\n",
       "      <td>7</td>\n",
       "      <td>entropy</td>\n",
       "      <td>0.909722</td>\n",
       "    </tr>\n",
       "  </tbody>\n",
       "</table>\n",
       "</div>"
      ],
      "text/plain": [
       "   rfc__n_estimators  rfc__min_samples_split  rfc__min_samples_leaf  \\\n",
       "0                621                       6                     12   \n",
       "1                581                      29                      2   \n",
       "2                641                      24                      2   \n",
       "3                701                       9                      6   \n",
       "4                461                      28                      9   \n",
       "\n",
       "   rfc__max_depth rfc__criterion  test_score  \n",
       "0               1        entropy    0.527778  \n",
       "1              16        entropy    0.930556  \n",
       "2              13           gini    0.958333  \n",
       "3              16           gini    0.960648  \n",
       "4               7        entropy    0.909722  "
      ]
     },
     "execution_count": 142,
     "metadata": {},
     "output_type": "execute_result"
    }
   ],
   "source": [
    "results_rfc = pd.DataFrame(r_search_rfc.cv_results_['params'])\n",
    "results_rfc['test_score'] = r_search_rfc.cv_results_['mean_test_score']\n",
    "results_rfc.head()"
   ]
  },
  {
   "cell_type": "code",
   "execution_count": 149,
   "metadata": {},
   "outputs": [
    {
     "data": {
      "text/html": [
       "\n",
       "<div id=\"altair-viz-d80699af70ae4257b8488ba198c4e93e\"></div>\n",
       "<script type=\"text/javascript\">\n",
       "  (function(spec, embedOpt){\n",
       "    let outputDiv = document.currentScript.previousElementSibling;\n",
       "    if (outputDiv.id !== \"altair-viz-d80699af70ae4257b8488ba198c4e93e\") {\n",
       "      outputDiv = document.getElementById(\"altair-viz-d80699af70ae4257b8488ba198c4e93e\");\n",
       "    }\n",
       "    const paths = {\n",
       "      \"vega\": \"https://cdn.jsdelivr.net/npm//vega@5?noext\",\n",
       "      \"vega-lib\": \"https://cdn.jsdelivr.net/npm//vega-lib?noext\",\n",
       "      \"vega-lite\": \"https://cdn.jsdelivr.net/npm//vega-lite@4.8.1?noext\",\n",
       "      \"vega-embed\": \"https://cdn.jsdelivr.net/npm//vega-embed@6?noext\",\n",
       "    };\n",
       "\n",
       "    function loadScript(lib) {\n",
       "      return new Promise(function(resolve, reject) {\n",
       "        var s = document.createElement('script');\n",
       "        s.src = paths[lib];\n",
       "        s.async = true;\n",
       "        s.onload = () => resolve(paths[lib]);\n",
       "        s.onerror = () => reject(`Error loading script: ${paths[lib]}`);\n",
       "        document.getElementsByTagName(\"head\")[0].appendChild(s);\n",
       "      });\n",
       "    }\n",
       "\n",
       "    function showError(err) {\n",
       "      outputDiv.innerHTML = `<div class=\"error\" style=\"color:red;\">${err}</div>`;\n",
       "      throw err;\n",
       "    }\n",
       "\n",
       "    function displayChart(vegaEmbed) {\n",
       "      vegaEmbed(outputDiv, spec, embedOpt)\n",
       "        .catch(err => showError(`Javascript Error: ${err.message}<br>This usually means there's a typo in your chart specification. See the javascript console for the full traceback.`));\n",
       "    }\n",
       "\n",
       "    if(typeof define === \"function\" && define.amd) {\n",
       "      requirejs.config({paths});\n",
       "      require([\"vega-embed\"], displayChart, err => showError(`Error loading script: ${err.message}`));\n",
       "    } else if (typeof vegaEmbed === \"function\") {\n",
       "      displayChart(vegaEmbed);\n",
       "    } else {\n",
       "      loadScript(\"vega\")\n",
       "        .then(() => loadScript(\"vega-lite\"))\n",
       "        .then(() => loadScript(\"vega-embed\"))\n",
       "        .catch(showError)\n",
       "        .then(() => displayChart(vegaEmbed));\n",
       "    }\n",
       "  })({\"config\": {\"view\": {\"continuousWidth\": 400, \"continuousHeight\": 300}}, \"data\": {\"name\": \"data-55fca71bc1c667cc6c7e52fdaab75965\"}, \"mark\": {\"type\": \"line\", \"point\": true}, \"encoding\": {\"color\": {\"type\": \"nominal\", \"field\": \"rfc__criterion\"}, \"x\": {\"type\": \"quantitative\", \"field\": \"rfc__n_estimators\", \"title\": \"Numero de estimadores\"}, \"y\": {\"type\": \"quantitative\", \"aggregate\": \"average\", \"field\": \"test_score\", \"scale\": {\"zero\": false}, \"title\": \"Score Medio CV\"}}, \"title\": \"Comparacion de performance RFC\", \"$schema\": \"https://vega.github.io/schema/vega-lite/v4.8.1.json\", \"datasets\": {\"data-55fca71bc1c667cc6c7e52fdaab75965\": [{\"rfc__n_estimators\": 621, \"rfc__min_samples_split\": 6, \"rfc__min_samples_leaf\": 12, \"rfc__max_depth\": 1, \"rfc__criterion\": \"entropy\", \"test_score\": 0.5277777777777777}, {\"rfc__n_estimators\": 581, \"rfc__min_samples_split\": 29, \"rfc__min_samples_leaf\": 2, \"rfc__max_depth\": 16, \"rfc__criterion\": \"entropy\", \"test_score\": 0.9305555555555556}, {\"rfc__n_estimators\": 641, \"rfc__min_samples_split\": 24, \"rfc__min_samples_leaf\": 2, \"rfc__max_depth\": 13, \"rfc__criterion\": \"gini\", \"test_score\": 0.9583333333333333}, {\"rfc__n_estimators\": 701, \"rfc__min_samples_split\": 9, \"rfc__min_samples_leaf\": 6, \"rfc__max_depth\": 16, \"rfc__criterion\": \"gini\", \"test_score\": 0.9606481481481481}, {\"rfc__n_estimators\": 461, \"rfc__min_samples_split\": 28, \"rfc__min_samples_leaf\": 9, \"rfc__max_depth\": 7, \"rfc__criterion\": \"entropy\", \"test_score\": 0.9097222222222222}, {\"rfc__n_estimators\": 341, \"rfc__min_samples_split\": 5, \"rfc__min_samples_leaf\": 11, \"rfc__max_depth\": 1, \"rfc__criterion\": \"entropy\", \"test_score\": 0.537037037037037}, {\"rfc__n_estimators\": 381, \"rfc__min_samples_split\": 26, \"rfc__min_samples_leaf\": 5, \"rfc__max_depth\": 13, \"rfc__criterion\": \"gini\", \"test_score\": 0.9398148148148149}, {\"rfc__n_estimators\": 41, \"rfc__min_samples_split\": 36, \"rfc__min_samples_leaf\": 10, \"rfc__max_depth\": 16, \"rfc__criterion\": \"entropy\", \"test_score\": 0.8773148148148148}, {\"rfc__n_estimators\": 81, \"rfc__min_samples_split\": 18, \"rfc__min_samples_leaf\": 19, \"rfc__max_depth\": 7, \"rfc__criterion\": \"entropy\", \"test_score\": 0.8564814814814815}, {\"rfc__n_estimators\": 481, \"rfc__min_samples_split\": 18, \"rfc__min_samples_leaf\": 15, \"rfc__max_depth\": 1, \"rfc__criterion\": \"entropy\", \"test_score\": 0.5347222222222223}, {\"rfc__n_estimators\": 481, \"rfc__min_samples_split\": 10, \"rfc__min_samples_leaf\": 18, \"rfc__max_depth\": 16, \"rfc__criterion\": \"gini\", \"test_score\": 0.8761574074074074}, {\"rfc__n_estimators\": 341, \"rfc__min_samples_split\": 8, \"rfc__min_samples_leaf\": 15, \"rfc__max_depth\": 25, \"rfc__criterion\": \"entropy\", \"test_score\": 0.8900462962962963}, {\"rfc__n_estimators\": 301, \"rfc__min_samples_split\": 37, \"rfc__min_samples_leaf\": 16, \"rfc__max_depth\": 7, \"rfc__criterion\": \"entropy\", \"test_score\": 0.8784722222222222}, {\"rfc__n_estimators\": 261, \"rfc__min_samples_split\": 9, \"rfc__min_samples_leaf\": 17, \"rfc__max_depth\": 25, \"rfc__criterion\": \"gini\", \"test_score\": 0.880787037037037}, {\"rfc__n_estimators\": 641, \"rfc__min_samples_split\": 36, \"rfc__min_samples_leaf\": 10, \"rfc__max_depth\": 4, \"rfc__criterion\": \"entropy\", \"test_score\": 0.8460648148148149}, {\"rfc__n_estimators\": 701, \"rfc__min_samples_split\": 18, \"rfc__min_samples_leaf\": 18, \"rfc__max_depth\": 13, \"rfc__criterion\": \"entropy\", \"test_score\": 0.8726851851851851}, {\"rfc__n_estimators\": 101, \"rfc__min_samples_split\": 6, \"rfc__min_samples_leaf\": 9, \"rfc__max_depth\": 25, \"rfc__criterion\": \"entropy\", \"test_score\": 0.9351851851851852}, {\"rfc__n_estimators\": 601, \"rfc__min_samples_split\": 28, \"rfc__min_samples_leaf\": 19, \"rfc__max_depth\": 4, \"rfc__criterion\": \"entropy\", \"test_score\": 0.8344907407407407}, {\"rfc__n_estimators\": 201, \"rfc__min_samples_split\": 11, \"rfc__min_samples_leaf\": 6, \"rfc__max_depth\": 16, \"rfc__criterion\": \"entropy\", \"test_score\": 0.9594907407407408}, {\"rfc__n_estimators\": 161, \"rfc__min_samples_split\": 34, \"rfc__min_samples_leaf\": 16, \"rfc__max_depth\": 7, \"rfc__criterion\": \"entropy\", \"test_score\": 0.8877314814814814}, {\"rfc__n_estimators\": 181, \"rfc__min_samples_split\": 37, \"rfc__min_samples_leaf\": 5, \"rfc__max_depth\": 28, \"rfc__criterion\": \"entropy\", \"test_score\": 0.8981481481481481}, {\"rfc__n_estimators\": 221, \"rfc__min_samples_split\": 17, \"rfc__min_samples_leaf\": 19, \"rfc__max_depth\": 22, \"rfc__criterion\": \"gini\", \"test_score\": 0.8738425925925926}, {\"rfc__n_estimators\": 221, \"rfc__min_samples_split\": 31, \"rfc__min_samples_leaf\": 14, \"rfc__max_depth\": 4, \"rfc__criterion\": \"gini\", \"test_score\": 0.8495370370370371}, {\"rfc__n_estimators\": 761, \"rfc__min_samples_split\": 33, \"rfc__min_samples_leaf\": 8, \"rfc__max_depth\": 19, \"rfc__criterion\": \"entropy\", \"test_score\": 0.9039351851851851}, {\"rfc__n_estimators\": 481, \"rfc__min_samples_split\": 15, \"rfc__min_samples_leaf\": 5, \"rfc__max_depth\": 13, \"rfc__criterion\": \"gini\", \"test_score\": 0.9641203703703703}, {\"rfc__n_estimators\": 21, \"rfc__min_samples_split\": 31, \"rfc__min_samples_leaf\": 7, \"rfc__max_depth\": 19, \"rfc__criterion\": \"gini\", \"test_score\": 0.8923611111111112}, {\"rfc__n_estimators\": 501, \"rfc__min_samples_split\": 28, \"rfc__min_samples_leaf\": 18, \"rfc__max_depth\": 7, \"rfc__criterion\": \"gini\", \"test_score\": 0.875}, {\"rfc__n_estimators\": 141, \"rfc__min_samples_split\": 3, \"rfc__min_samples_leaf\": 5, \"rfc__max_depth\": 10, \"rfc__criterion\": \"entropy\", \"test_score\": 0.9710648148148148}, {\"rfc__n_estimators\": 161, \"rfc__min_samples_split\": 31, \"rfc__min_samples_leaf\": 10, \"rfc__max_depth\": 1, \"rfc__criterion\": \"entropy\", \"test_score\": 0.545138888888889}, {\"rfc__n_estimators\": 621, \"rfc__min_samples_split\": 22, \"rfc__min_samples_leaf\": 16, \"rfc__max_depth\": 22, \"rfc__criterion\": \"entropy\", \"test_score\": 0.8888888888888888}, {\"rfc__n_estimators\": 561, \"rfc__min_samples_split\": 5, \"rfc__min_samples_leaf\": 11, \"rfc__max_depth\": 19, \"rfc__criterion\": \"entropy\", \"test_score\": 0.9282407407407408}, {\"rfc__n_estimators\": 761, \"rfc__min_samples_split\": 35, \"rfc__min_samples_leaf\": 17, \"rfc__max_depth\": 22, \"rfc__criterion\": \"gini\", \"test_score\": 0.8831018518518519}, {\"rfc__n_estimators\": 541, \"rfc__min_samples_split\": 8, \"rfc__min_samples_leaf\": 10, \"rfc__max_depth\": 28, \"rfc__criterion\": \"gini\", \"test_score\": 0.931712962962963}, {\"rfc__n_estimators\": 521, \"rfc__min_samples_split\": 23, \"rfc__min_samples_leaf\": 3, \"rfc__max_depth\": 16, \"rfc__criterion\": \"entropy\", \"test_score\": 0.9513888888888888}, {\"rfc__n_estimators\": 141, \"rfc__min_samples_split\": 12, \"rfc__min_samples_leaf\": 5, \"rfc__max_depth\": 13, \"rfc__criterion\": \"entropy\", \"test_score\": 0.9641203703703705}, {\"rfc__n_estimators\": 201, \"rfc__min_samples_split\": 29, \"rfc__min_samples_leaf\": 2, \"rfc__max_depth\": 4, \"rfc__criterion\": \"entropy\", \"test_score\": 0.8518518518518519}, {\"rfc__n_estimators\": 741, \"rfc__min_samples_split\": 4, \"rfc__min_samples_leaf\": 10, \"rfc__max_depth\": 7, \"rfc__criterion\": \"gini\", \"test_score\": 0.9236111111111112}, {\"rfc__n_estimators\": 761, \"rfc__min_samples_split\": 16, \"rfc__min_samples_leaf\": 5, \"rfc__max_depth\": 16, \"rfc__criterion\": \"gini\", \"test_score\": 0.9618055555555556}, {\"rfc__n_estimators\": 661, \"rfc__min_samples_split\": 24, \"rfc__min_samples_leaf\": 3, \"rfc__max_depth\": 7, \"rfc__criterion\": \"gini\", \"test_score\": 0.9398148148148148}, {\"rfc__n_estimators\": 81, \"rfc__min_samples_split\": 36, \"rfc__min_samples_leaf\": 11, \"rfc__max_depth\": 4, \"rfc__criterion\": \"gini\", \"test_score\": 0.8391203703703703}, {\"rfc__n_estimators\": 201, \"rfc__min_samples_split\": 22, \"rfc__min_samples_leaf\": 15, \"rfc__max_depth\": 28, \"rfc__criterion\": \"entropy\", \"test_score\": 0.8854166666666667}, {\"rfc__n_estimators\": 461, \"rfc__min_samples_split\": 19, \"rfc__min_samples_leaf\": 18, \"rfc__max_depth\": 10, \"rfc__criterion\": \"gini\", \"test_score\": 0.8761574074074074}, {\"rfc__n_estimators\": 481, \"rfc__min_samples_split\": 8, \"rfc__min_samples_leaf\": 1, \"rfc__max_depth\": 10, \"rfc__criterion\": \"gini\", \"test_score\": 0.9861111111111112}, {\"rfc__n_estimators\": 341, \"rfc__min_samples_split\": 26, \"rfc__min_samples_leaf\": 14, \"rfc__max_depth\": 1, \"rfc__criterion\": \"gini\", \"test_score\": 0.5682870370370371}, {\"rfc__n_estimators\": 341, \"rfc__min_samples_split\": 6, \"rfc__min_samples_leaf\": 2, \"rfc__max_depth\": 25, \"rfc__criterion\": \"entropy\", \"test_score\": 0.9837962962962963}, {\"rfc__n_estimators\": 21, \"rfc__min_samples_split\": 7, \"rfc__min_samples_leaf\": 6, \"rfc__max_depth\": 7, \"rfc__criterion\": \"entropy\", \"test_score\": 0.9212962962962963}, {\"rfc__n_estimators\": 61, \"rfc__min_samples_split\": 30, \"rfc__min_samples_leaf\": 15, \"rfc__max_depth\": 7, \"rfc__criterion\": \"gini\", \"test_score\": 0.875}, {\"rfc__n_estimators\": 761, \"rfc__min_samples_split\": 18, \"rfc__min_samples_leaf\": 10, \"rfc__max_depth\": 28, \"rfc__criterion\": \"gini\", \"test_score\": 0.9317129629629629}, {\"rfc__n_estimators\": 61, \"rfc__min_samples_split\": 21, \"rfc__min_samples_leaf\": 13, \"rfc__max_depth\": 4, \"rfc__criterion\": \"gini\", \"test_score\": 0.8344907407407407}, {\"rfc__n_estimators\": 541, \"rfc__min_samples_split\": 26, \"rfc__min_samples_leaf\": 19, \"rfc__max_depth\": 7, \"rfc__criterion\": \"gini\", \"test_score\": 0.8715277777777778}, {\"rfc__n_estimators\": 721, \"rfc__min_samples_split\": 17, \"rfc__min_samples_leaf\": 6, \"rfc__max_depth\": 13, \"rfc__criterion\": \"entropy\", \"test_score\": 0.9571759259259259}, {\"rfc__n_estimators\": 501, \"rfc__min_samples_split\": 34, \"rfc__min_samples_leaf\": 2, \"rfc__max_depth\": 28, \"rfc__criterion\": \"entropy\", \"test_score\": 0.90625}, {\"rfc__n_estimators\": 681, \"rfc__min_samples_split\": 17, \"rfc__min_samples_leaf\": 4, \"rfc__max_depth\": 13, \"rfc__criterion\": \"entropy\", \"test_score\": 0.9629629629629629}, {\"rfc__n_estimators\": 401, \"rfc__min_samples_split\": 4, \"rfc__min_samples_leaf\": 12, \"rfc__max_depth\": 25, \"rfc__criterion\": \"entropy\", \"test_score\": 0.9155092592592593}, {\"rfc__n_estimators\": 721, \"rfc__min_samples_split\": 24, \"rfc__min_samples_leaf\": 15, \"rfc__max_depth\": 10, \"rfc__criterion\": \"entropy\", \"test_score\": 0.8958333333333333}, {\"rfc__n_estimators\": 241, \"rfc__min_samples_split\": 31, \"rfc__min_samples_leaf\": 6, \"rfc__max_depth\": 22, \"rfc__criterion\": \"gini\", \"test_score\": 0.9212962962962963}, {\"rfc__n_estimators\": 81, \"rfc__min_samples_split\": 34, \"rfc__min_samples_leaf\": 15, \"rfc__max_depth\": 13, \"rfc__criterion\": \"gini\", \"test_score\": 0.8842592592592592}, {\"rfc__n_estimators\": 401, \"rfc__min_samples_split\": 26, \"rfc__min_samples_leaf\": 8, \"rfc__max_depth\": 28, \"rfc__criterion\": \"gini\", \"test_score\": 0.9282407407407407}, {\"rfc__n_estimators\": 641, \"rfc__min_samples_split\": 31, \"rfc__min_samples_leaf\": 10, \"rfc__max_depth\": 22, \"rfc__criterion\": \"entropy\", \"test_score\": 0.9027777777777778}, {\"rfc__n_estimators\": 441, \"rfc__min_samples_split\": 3, \"rfc__min_samples_leaf\": 5, \"rfc__max_depth\": 28, \"rfc__criterion\": \"gini\", \"test_score\": 0.9722222222222222}, {\"rfc__n_estimators\": 781, \"rfc__min_samples_split\": 7, \"rfc__min_samples_leaf\": 7, \"rfc__max_depth\": 1, \"rfc__criterion\": \"gini\", \"test_score\": 0.5671296296296297}, {\"rfc__n_estimators\": 721, \"rfc__min_samples_split\": 2, \"rfc__min_samples_leaf\": 3, \"rfc__max_depth\": 10, \"rfc__criterion\": \"entropy\", \"test_score\": 0.9814814814814814}, {\"rfc__n_estimators\": 221, \"rfc__min_samples_split\": 15, \"rfc__min_samples_leaf\": 2, \"rfc__max_depth\": 19, \"rfc__criterion\": \"gini\", \"test_score\": 0.974537037037037}, {\"rfc__n_estimators\": 781, \"rfc__min_samples_split\": 8, \"rfc__min_samples_leaf\": 2, \"rfc__max_depth\": 16, \"rfc__criterion\": \"gini\", \"test_score\": 0.9849537037037037}, {\"rfc__n_estimators\": 781, \"rfc__min_samples_split\": 23, \"rfc__min_samples_leaf\": 8, \"rfc__max_depth\": 22, \"rfc__criterion\": \"entropy\", \"test_score\": 0.9328703703703705}, {\"rfc__n_estimators\": 421, \"rfc__min_samples_split\": 25, \"rfc__min_samples_leaf\": 10, \"rfc__max_depth\": 10, \"rfc__criterion\": \"gini\", \"test_score\": 0.9189814814814815}, {\"rfc__n_estimators\": 101, \"rfc__min_samples_split\": 36, \"rfc__min_samples_leaf\": 16, \"rfc__max_depth\": 4, \"rfc__criterion\": \"entropy\", \"test_score\": 0.8368055555555556}, {\"rfc__n_estimators\": 321, \"rfc__min_samples_split\": 10, \"rfc__min_samples_leaf\": 8, \"rfc__max_depth\": 28, \"rfc__criterion\": \"gini\", \"test_score\": 0.9421296296296295}, {\"rfc__n_estimators\": 421, \"rfc__min_samples_split\": 6, \"rfc__min_samples_leaf\": 15, \"rfc__max_depth\": 10, \"rfc__criterion\": \"gini\", \"test_score\": 0.9039351851851852}, {\"rfc__n_estimators\": 661, \"rfc__min_samples_split\": 35, \"rfc__min_samples_leaf\": 6, \"rfc__max_depth\": 22, \"rfc__criterion\": \"gini\", \"test_score\": 0.9039351851851852}, {\"rfc__n_estimators\": 541, \"rfc__min_samples_split\": 25, \"rfc__min_samples_leaf\": 2, \"rfc__max_depth\": 19, \"rfc__criterion\": \"entropy\", \"test_score\": 0.9421296296296297}, {\"rfc__n_estimators\": 161, \"rfc__min_samples_split\": 31, \"rfc__min_samples_leaf\": 16, \"rfc__max_depth\": 1, \"rfc__criterion\": \"entropy\", \"test_score\": 0.545138888888889}, {\"rfc__n_estimators\": 501, \"rfc__min_samples_split\": 21, \"rfc__min_samples_leaf\": 9, \"rfc__max_depth\": 19, \"rfc__criterion\": \"gini\", \"test_score\": 0.9363425925925926}, {\"rfc__n_estimators\": 361, \"rfc__min_samples_split\": 16, \"rfc__min_samples_leaf\": 2, \"rfc__max_depth\": 25, \"rfc__criterion\": \"gini\", \"test_score\": 0.974537037037037}, {\"rfc__n_estimators\": 401, \"rfc__min_samples_split\": 30, \"rfc__min_samples_leaf\": 5, \"rfc__max_depth\": 4, \"rfc__criterion\": \"entropy\", \"test_score\": 0.8530092592592593}, {\"rfc__n_estimators\": 161, \"rfc__min_samples_split\": 33, \"rfc__min_samples_leaf\": 3, \"rfc__max_depth\": 10, \"rfc__criterion\": \"gini\", \"test_score\": 0.9305555555555556}, {\"rfc__n_estimators\": 701, \"rfc__min_samples_split\": 20, \"rfc__min_samples_leaf\": 18, \"rfc__max_depth\": 7, \"rfc__criterion\": \"gini\", \"test_score\": 0.8773148148148149}, {\"rfc__n_estimators\": 361, \"rfc__min_samples_split\": 29, \"rfc__min_samples_leaf\": 6, \"rfc__max_depth\": 16, \"rfc__criterion\": \"entropy\", \"test_score\": 0.9108796296296297}, {\"rfc__n_estimators\": 321, \"rfc__min_samples_split\": 4, \"rfc__min_samples_leaf\": 11, \"rfc__max_depth\": 22, \"rfc__criterion\": \"gini\", \"test_score\": 0.9247685185185186}, {\"rfc__n_estimators\": 141, \"rfc__min_samples_split\": 22, \"rfc__min_samples_leaf\": 5, \"rfc__max_depth\": 19, \"rfc__criterion\": \"entropy\", \"test_score\": 0.9421296296296297}]}}, {\"mode\": \"vega-lite\"});\n",
       "</script>"
      ],
      "text/plain": [
       "alt.Chart(...)"
      ]
     },
     "execution_count": 149,
     "metadata": {},
     "output_type": "execute_result"
    }
   ],
   "source": [
    "alt.Chart(results_rfc, \n",
    "          title='Comparacion de performance RFC'\n",
    "         ).mark_line(point=True).encode(\n",
    "    alt.X('rfc__n_estimators', title='Numero de estimadores'),\n",
    "    alt.Y('test_score', title='Score Medio CV', aggregate='average', scale=alt.Scale(zero=False)),\n",
    "    color='rfc__criterion'\n",
    ")"
   ]
  },
  {
   "cell_type": "markdown",
   "metadata": {},
   "source": [
    "## KNN"
   ]
  },
  {
   "cell_type": "code",
   "execution_count": 90,
   "metadata": {},
   "outputs": [],
   "source": [
    "#Definicion de imputación, escalamiento, modelo y pipeline a utilizar para el entrenamiento\n",
    "knn_imputer = SimpleImputer(strategy='mean')\n",
    "knn_scaler = preprocessing.StandardScaler()\n",
    "knn_model = KNeighborsClassifier(n_jobs=-1)\n",
    "knn_pipeline = pipeline.Pipeline([(\"imputer\", knn_imputer),(\"scaler\", knn_scaler), (\"knn\", knn_model)])\n",
    "\n",
    "#Definicion del grid donde se hará la búsqueda de hiperparámetros\n",
    "grid_knn = {\"knn__n_neighbors\": range(1,10,1),\n",
    "            \"knn__p\": [1, 2, 5],\n",
    "            \"knn__weights\": ['uniform', 'distance']}"
   ]
  },
  {
   "cell_type": "code",
   "execution_count": 91,
   "metadata": {},
   "outputs": [
    {
     "data": {
      "text/plain": [
       "RandomizedSearchCV(cv=8,\n",
       "                   estimator=Pipeline(steps=[('imputer', SimpleImputer()),\n",
       "                                             ('scaler', StandardScaler()),\n",
       "                                             ('knn',\n",
       "                                              KNeighborsClassifier(n_jobs=-1))]),\n",
       "                   n_iter=18, n_jobs=-1,\n",
       "                   param_distributions={'knn__n_neighbors': range(1, 10),\n",
       "                                        'knn__p': [1, 2, 5],\n",
       "                                        'knn__weights': ['uniform',\n",
       "                                                         'distance']},\n",
       "                   random_state=0)"
      ]
     },
     "execution_count": 91,
     "metadata": {},
     "output_type": "execute_result"
    }
   ],
   "source": [
    "#Busqueda aleatoria\n",
    "r_search_knn = model_selection.RandomizedSearchCV(knn_pipeline, \n",
    "                                                  grid_knn, \n",
    "                                                  n_iter=18, \n",
    "                                                  n_jobs=-1,\n",
    "                                                  cv=8, \n",
    "                                                  random_state=0)\n",
    "r_search_knn.fit(x_train, y_train)"
   ]
  },
  {
   "cell_type": "code",
   "execution_count": 92,
   "metadata": {
    "scrolled": true
   },
   "outputs": [
    {
     "name": "stdout",
     "output_type": "stream",
     "text": [
      "La exactitud de entrenamiento para el modelo KNN es: 1.0.\n",
      "La exactitud de prueba para el modelo KNN es: 0.9953703703703703.\n"
     ]
    }
   ],
   "source": [
    "best_knn_pipeline = r_search_knn.best_estimator_\n",
    "\n",
    "train_score = best_knn_pipeline.score(x_train, y_train)\n",
    "test_score = best_knn_pipeline.score(x_test, y_test)\n",
    "\n",
    "print(f\"La exactitud de entrenamiento para el modelo KNN es: {train_score}.\")\n",
    "print(f\"La exactitud de prueba para el modelo KNN es: {test_score}.\")"
   ]
  },
  {
   "cell_type": "code",
   "execution_count": 153,
   "metadata": {},
   "outputs": [],
   "source": [
    "results_knn = pd.DataFrame(r_search_knn.cv_results_['params'])\n",
    "results_knn['test_score'] = r_search_knn.cv_results_['mean_test_score']\n",
    "results_knn['metric'] = results_knn['knn__p'].replace([1,2,5], [\"Manhattan\", \"Euclidean\", \"Minkowski\"])"
   ]
  },
  {
   "cell_type": "code",
   "execution_count": 154,
   "metadata": {},
   "outputs": [
    {
     "data": {
      "text/html": [
       "<div>\n",
       "<style scoped>\n",
       "    .dataframe tbody tr th:only-of-type {\n",
       "        vertical-align: middle;\n",
       "    }\n",
       "\n",
       "    .dataframe tbody tr th {\n",
       "        vertical-align: top;\n",
       "    }\n",
       "\n",
       "    .dataframe thead th {\n",
       "        text-align: right;\n",
       "    }\n",
       "</style>\n",
       "<table border=\"1\" class=\"dataframe\">\n",
       "  <thead>\n",
       "    <tr style=\"text-align: right;\">\n",
       "      <th></th>\n",
       "      <th>knn__weights</th>\n",
       "      <th>knn__p</th>\n",
       "      <th>knn__n_neighbors</th>\n",
       "      <th>test_score</th>\n",
       "      <th>metric</th>\n",
       "    </tr>\n",
       "  </thead>\n",
       "  <tbody>\n",
       "    <tr>\n",
       "      <th>17</th>\n",
       "      <td>distance</td>\n",
       "      <td>1</td>\n",
       "      <td>2</td>\n",
       "      <td>0.995370</td>\n",
       "      <td>Manhattan</td>\n",
       "    </tr>\n",
       "    <tr>\n",
       "      <th>5</th>\n",
       "      <td>uniform</td>\n",
       "      <td>2</td>\n",
       "      <td>1</td>\n",
       "      <td>0.991898</td>\n",
       "      <td>Euclidean</td>\n",
       "    </tr>\n",
       "    <tr>\n",
       "      <th>10</th>\n",
       "      <td>uniform</td>\n",
       "      <td>5</td>\n",
       "      <td>1</td>\n",
       "      <td>0.983796</td>\n",
       "      <td>Minkowski</td>\n",
       "    </tr>\n",
       "    <tr>\n",
       "      <th>4</th>\n",
       "      <td>distance</td>\n",
       "      <td>5</td>\n",
       "      <td>2</td>\n",
       "      <td>0.983796</td>\n",
       "      <td>Minkowski</td>\n",
       "    </tr>\n",
       "    <tr>\n",
       "      <th>14</th>\n",
       "      <td>distance</td>\n",
       "      <td>1</td>\n",
       "      <td>6</td>\n",
       "      <td>0.979167</td>\n",
       "      <td>Manhattan</td>\n",
       "    </tr>\n",
       "    <tr>\n",
       "      <th>1</th>\n",
       "      <td>distance</td>\n",
       "      <td>2</td>\n",
       "      <td>6</td>\n",
       "      <td>0.974537</td>\n",
       "      <td>Euclidean</td>\n",
       "    </tr>\n",
       "    <tr>\n",
       "      <th>16</th>\n",
       "      <td>distance</td>\n",
       "      <td>1</td>\n",
       "      <td>7</td>\n",
       "      <td>0.974537</td>\n",
       "      <td>Manhattan</td>\n",
       "    </tr>\n",
       "    <tr>\n",
       "      <th>11</th>\n",
       "      <td>uniform</td>\n",
       "      <td>5</td>\n",
       "      <td>2</td>\n",
       "      <td>0.966435</td>\n",
       "      <td>Minkowski</td>\n",
       "    </tr>\n",
       "    <tr>\n",
       "      <th>8</th>\n",
       "      <td>distance</td>\n",
       "      <td>2</td>\n",
       "      <td>8</td>\n",
       "      <td>0.965278</td>\n",
       "      <td>Euclidean</td>\n",
       "    </tr>\n",
       "    <tr>\n",
       "      <th>3</th>\n",
       "      <td>uniform</td>\n",
       "      <td>2</td>\n",
       "      <td>5</td>\n",
       "      <td>0.962963</td>\n",
       "      <td>Euclidean</td>\n",
       "    </tr>\n",
       "    <tr>\n",
       "      <th>9</th>\n",
       "      <td>uniform</td>\n",
       "      <td>1</td>\n",
       "      <td>6</td>\n",
       "      <td>0.960648</td>\n",
       "      <td>Manhattan</td>\n",
       "    </tr>\n",
       "    <tr>\n",
       "      <th>6</th>\n",
       "      <td>uniform</td>\n",
       "      <td>2</td>\n",
       "      <td>6</td>\n",
       "      <td>0.954861</td>\n",
       "      <td>Euclidean</td>\n",
       "    </tr>\n",
       "    <tr>\n",
       "      <th>0</th>\n",
       "      <td>distance</td>\n",
       "      <td>5</td>\n",
       "      <td>9</td>\n",
       "      <td>0.947917</td>\n",
       "      <td>Minkowski</td>\n",
       "    </tr>\n",
       "    <tr>\n",
       "      <th>15</th>\n",
       "      <td>uniform</td>\n",
       "      <td>2</td>\n",
       "      <td>7</td>\n",
       "      <td>0.947917</td>\n",
       "      <td>Euclidean</td>\n",
       "    </tr>\n",
       "    <tr>\n",
       "      <th>13</th>\n",
       "      <td>uniform</td>\n",
       "      <td>5</td>\n",
       "      <td>4</td>\n",
       "      <td>0.944444</td>\n",
       "      <td>Minkowski</td>\n",
       "    </tr>\n",
       "    <tr>\n",
       "      <th>12</th>\n",
       "      <td>uniform</td>\n",
       "      <td>5</td>\n",
       "      <td>5</td>\n",
       "      <td>0.943287</td>\n",
       "      <td>Minkowski</td>\n",
       "    </tr>\n",
       "    <tr>\n",
       "      <th>7</th>\n",
       "      <td>uniform</td>\n",
       "      <td>1</td>\n",
       "      <td>8</td>\n",
       "      <td>0.939815</td>\n",
       "      <td>Manhattan</td>\n",
       "    </tr>\n",
       "    <tr>\n",
       "      <th>2</th>\n",
       "      <td>uniform</td>\n",
       "      <td>1</td>\n",
       "      <td>9</td>\n",
       "      <td>0.931713</td>\n",
       "      <td>Manhattan</td>\n",
       "    </tr>\n",
       "  </tbody>\n",
       "</table>\n",
       "</div>"
      ],
      "text/plain": [
       "   knn__weights  knn__p  knn__n_neighbors  test_score     metric\n",
       "17     distance       1                 2    0.995370  Manhattan\n",
       "5       uniform       2                 1    0.991898  Euclidean\n",
       "10      uniform       5                 1    0.983796  Minkowski\n",
       "4      distance       5                 2    0.983796  Minkowski\n",
       "14     distance       1                 6    0.979167  Manhattan\n",
       "1      distance       2                 6    0.974537  Euclidean\n",
       "16     distance       1                 7    0.974537  Manhattan\n",
       "11      uniform       5                 2    0.966435  Minkowski\n",
       "8      distance       2                 8    0.965278  Euclidean\n",
       "3       uniform       2                 5    0.962963  Euclidean\n",
       "9       uniform       1                 6    0.960648  Manhattan\n",
       "6       uniform       2                 6    0.954861  Euclidean\n",
       "0      distance       5                 9    0.947917  Minkowski\n",
       "15      uniform       2                 7    0.947917  Euclidean\n",
       "13      uniform       5                 4    0.944444  Minkowski\n",
       "12      uniform       5                 5    0.943287  Minkowski\n",
       "7       uniform       1                 8    0.939815  Manhattan\n",
       "2       uniform       1                 9    0.931713  Manhattan"
      ]
     },
     "execution_count": 154,
     "metadata": {},
     "output_type": "execute_result"
    }
   ],
   "source": [
    "results_knn.sort_values(by=['test_score'], ascending=False)"
   ]
  },
  {
   "cell_type": "code",
   "execution_count": 104,
   "metadata": {},
   "outputs": [
    {
     "data": {
      "text/html": [
       "\n",
       "<div id=\"altair-viz-781e86daf16047258f45d92b01e1817f\"></div>\n",
       "<script type=\"text/javascript\">\n",
       "  (function(spec, embedOpt){\n",
       "    let outputDiv = document.currentScript.previousElementSibling;\n",
       "    if (outputDiv.id !== \"altair-viz-781e86daf16047258f45d92b01e1817f\") {\n",
       "      outputDiv = document.getElementById(\"altair-viz-781e86daf16047258f45d92b01e1817f\");\n",
       "    }\n",
       "    const paths = {\n",
       "      \"vega\": \"https://cdn.jsdelivr.net/npm//vega@5?noext\",\n",
       "      \"vega-lib\": \"https://cdn.jsdelivr.net/npm//vega-lib?noext\",\n",
       "      \"vega-lite\": \"https://cdn.jsdelivr.net/npm//vega-lite@4.8.1?noext\",\n",
       "      \"vega-embed\": \"https://cdn.jsdelivr.net/npm//vega-embed@6?noext\",\n",
       "    };\n",
       "\n",
       "    function loadScript(lib) {\n",
       "      return new Promise(function(resolve, reject) {\n",
       "        var s = document.createElement('script');\n",
       "        s.src = paths[lib];\n",
       "        s.async = true;\n",
       "        s.onload = () => resolve(paths[lib]);\n",
       "        s.onerror = () => reject(`Error loading script: ${paths[lib]}`);\n",
       "        document.getElementsByTagName(\"head\")[0].appendChild(s);\n",
       "      });\n",
       "    }\n",
       "\n",
       "    function showError(err) {\n",
       "      outputDiv.innerHTML = `<div class=\"error\" style=\"color:red;\">${err}</div>`;\n",
       "      throw err;\n",
       "    }\n",
       "\n",
       "    function displayChart(vegaEmbed) {\n",
       "      vegaEmbed(outputDiv, spec, embedOpt)\n",
       "        .catch(err => showError(`Javascript Error: ${err.message}<br>This usually means there's a typo in your chart specification. See the javascript console for the full traceback.`));\n",
       "    }\n",
       "\n",
       "    if(typeof define === \"function\" && define.amd) {\n",
       "      requirejs.config({paths});\n",
       "      require([\"vega-embed\"], displayChart, err => showError(`Error loading script: ${err.message}`));\n",
       "    } else if (typeof vegaEmbed === \"function\") {\n",
       "      displayChart(vegaEmbed);\n",
       "    } else {\n",
       "      loadScript(\"vega\")\n",
       "        .then(() => loadScript(\"vega-lite\"))\n",
       "        .then(() => loadScript(\"vega-embed\"))\n",
       "        .catch(showError)\n",
       "        .then(() => displayChart(vegaEmbed));\n",
       "    }\n",
       "  })({\"config\": {\"view\": {\"continuousWidth\": 400, \"continuousHeight\": 300}}, \"data\": {\"name\": \"data-a7928dc50399a6e165d82b2539726c5f\"}, \"mark\": {\"type\": \"line\", \"point\": true}, \"encoding\": {\"color\": {\"type\": \"nominal\", \"field\": \"metric\"}, \"x\": {\"type\": \"quantitative\", \"field\": \"knn__n_neighbors\", \"title\": \"Numero de Neighbors\"}, \"y\": {\"type\": \"quantitative\", \"field\": \"test_score\", \"scale\": {\"zero\": false}, \"title\": \"Score Medio CV\"}}, \"title\": \"Comparacion de performance KNN\", \"$schema\": \"https://vega.github.io/schema/vega-lite/v4.8.1.json\", \"datasets\": {\"data-a7928dc50399a6e165d82b2539726c5f\": [{\"knn__weights\": \"distance\", \"knn__p\": 5, \"knn__n_neighbors\": 9, \"test_score\": 0.9479166666666667, \"metric\": \"Minkowski\"}, {\"knn__weights\": \"distance\", \"knn__p\": 2, \"knn__n_neighbors\": 6, \"test_score\": 0.9745370370370371, \"metric\": \"Euclidean\"}, {\"knn__weights\": \"uniform\", \"knn__p\": 1, \"knn__n_neighbors\": 9, \"test_score\": 0.9317129629629629, \"metric\": \"Manhattan\"}, {\"knn__weights\": \"uniform\", \"knn__p\": 2, \"knn__n_neighbors\": 5, \"test_score\": 0.962962962962963, \"metric\": \"Euclidean\"}, {\"knn__weights\": \"distance\", \"knn__p\": 5, \"knn__n_neighbors\": 2, \"test_score\": 0.9837962962962963, \"metric\": \"Minkowski\"}, {\"knn__weights\": \"uniform\", \"knn__p\": 2, \"knn__n_neighbors\": 1, \"test_score\": 0.9918981481481481, \"metric\": \"Euclidean\"}, {\"knn__weights\": \"uniform\", \"knn__p\": 2, \"knn__n_neighbors\": 6, \"test_score\": 0.9548611111111112, \"metric\": \"Euclidean\"}, {\"knn__weights\": \"uniform\", \"knn__p\": 1, \"knn__n_neighbors\": 8, \"test_score\": 0.9398148148148148, \"metric\": \"Manhattan\"}, {\"knn__weights\": \"distance\", \"knn__p\": 2, \"knn__n_neighbors\": 8, \"test_score\": 0.9652777777777778, \"metric\": \"Euclidean\"}, {\"knn__weights\": \"uniform\", \"knn__p\": 1, \"knn__n_neighbors\": 6, \"test_score\": 0.9606481481481481, \"metric\": \"Manhattan\"}, {\"knn__weights\": \"uniform\", \"knn__p\": 5, \"knn__n_neighbors\": 1, \"test_score\": 0.9837962962962963, \"metric\": \"Minkowski\"}, {\"knn__weights\": \"uniform\", \"knn__p\": 5, \"knn__n_neighbors\": 2, \"test_score\": 0.9664351851851851, \"metric\": \"Minkowski\"}, {\"knn__weights\": \"uniform\", \"knn__p\": 5, \"knn__n_neighbors\": 5, \"test_score\": 0.9432870370370371, \"metric\": \"Minkowski\"}, {\"knn__weights\": \"uniform\", \"knn__p\": 5, \"knn__n_neighbors\": 4, \"test_score\": 0.9444444444444444, \"metric\": \"Minkowski\"}, {\"knn__weights\": \"distance\", \"knn__p\": 1, \"knn__n_neighbors\": 6, \"test_score\": 0.9791666666666667, \"metric\": \"Manhattan\"}, {\"knn__weights\": \"uniform\", \"knn__p\": 2, \"knn__n_neighbors\": 7, \"test_score\": 0.9479166666666666, \"metric\": \"Euclidean\"}, {\"knn__weights\": \"distance\", \"knn__p\": 1, \"knn__n_neighbors\": 7, \"test_score\": 0.974537037037037, \"metric\": \"Manhattan\"}, {\"knn__weights\": \"distance\", \"knn__p\": 1, \"knn__n_neighbors\": 2, \"test_score\": 0.9953703703703703, \"metric\": \"Manhattan\"}]}}, {\"mode\": \"vega-lite\"});\n",
       "</script>"
      ],
      "text/plain": [
       "alt.Chart(...)"
      ]
     },
     "execution_count": 104,
     "metadata": {},
     "output_type": "execute_result"
    }
   ],
   "source": [
    "import altair as alt\n",
    "\n",
    "alt.Chart(results_knn, \n",
    "          title='Comparacion de performance KNN'\n",
    "         ).mark_line(point=True).encode(\n",
    "    alt.X('knn__n_neighbors', title='Numero de Neighbors'),\n",
    "    alt.Y('test_score', title='Score Medio CV', scale=alt.Scale(zero=False)),\n",
    "    color='metric'\n",
    ")"
   ]
  },
  {
   "cell_type": "markdown",
   "metadata": {},
   "source": [
    "## Support Vector Machine"
   ]
  },
  {
   "cell_type": "code",
   "execution_count": 12,
   "metadata": {},
   "outputs": [],
   "source": [
    "#Definicion de imputación, escalamiento, modelo y pipeline a utilizar para el entrenamiento\n",
    "svm_imputer = SimpleImputer(strategy='mean')\n",
    "svm_scaler = preprocessing.StandardScaler()\n",
    "svm_model = svm.SVC(kernel=\"rbf\",class_weight=\"balanced\",random_state=0)\n",
    "svm_pipeline = pipeline.Pipeline([(\"imputer\",svm_imputer), (\"scaler\", svm_scaler), (\"model\", svm_model)])\n",
    "\n",
    "#Definicion del grid donde se hará la búsqueda de hiperparámetros\n",
    "gamma = np.logspace(-4, 2, num=20)\n",
    "C = np.logspace(-4, 2, num=20)\n",
    "\n",
    "grid_svm = {\"model__gamma\":gamma, \"model__C\":C}"
   ]
  },
  {
   "cell_type": "code",
   "execution_count": 13,
   "metadata": {},
   "outputs": [
    {
     "data": {
      "text/plain": [
       "RandomizedSearchCV(cv=8,\n",
       "                   estimator=Pipeline(steps=[('imputer', SimpleImputer()),\n",
       "                                             ('scaler', StandardScaler()),\n",
       "                                             ('model',\n",
       "                                              SVC(class_weight='balanced',\n",
       "                                                  random_state=0))]),\n",
       "                   n_iter=40, n_jobs=-1,\n",
       "                   param_distributions={'model__C': array([1.00000000e-04, 2.06913808e-04, 4.28133240e-04, 8.85866790e-04,\n",
       "       1.83298071e-03, 3.79269019e-03, 7.84759970e-03, 1.62377674e-02,\n",
       "       3.3598182...\n",
       "       1.12883789e+01, 2.33572147e+01, 4.83293024e+01, 1.00000000e+02]),\n",
       "                                        'model__gamma': array([1.00000000e-04, 2.06913808e-04, 4.28133240e-04, 8.85866790e-04,\n",
       "       1.83298071e-03, 3.79269019e-03, 7.84759970e-03, 1.62377674e-02,\n",
       "       3.35981829e-02, 6.95192796e-02, 1.43844989e-01, 2.97635144e-01,\n",
       "       6.15848211e-01, 1.27427499e+00, 2.63665090e+00, 5.45559478e+00,\n",
       "       1.12883789e+01, 2.33572147e+01, 4.83293024e+01, 1.00000000e+02])},\n",
       "                   random_state=0)"
      ]
     },
     "execution_count": 13,
     "metadata": {},
     "output_type": "execute_result"
    }
   ],
   "source": [
    "#Busqueda aleatoria\n",
    "r_search =model_selection.RandomizedSearchCV(svm_pipeline, grid_svm, n_iter=40,n_jobs=-1,cv=8, random_state=0)\n",
    "r_search.fit(x_train, y_train)"
   ]
  },
  {
   "cell_type": "code",
   "execution_count": 14,
   "metadata": {},
   "outputs": [
    {
     "name": "stdout",
     "output_type": "stream",
     "text": [
      "La exactitud de entrenamiento para el modelo SVM con kernel RBF es: 1.0.\n",
      "La exactitud de prueba para el modelo SVM con kernel RBF es: 0.9907407407407407.\n"
     ]
    }
   ],
   "source": [
    "best_svm_pipeline = r_search.best_estimator_\n",
    "\n",
    "#Chequear si el scaler se devuelve ajustado con la data de entrenamiento y si no se vuelve a ajustar cuando se le llama\n",
    "#a score del pipeline\n",
    "train_score = best_svm_pipeline.score(x_train, y_train)\n",
    "test_score = best_svm_pipeline.score(x_test, y_test)\n",
    "\n",
    "print(f\"La exactitud de entrenamiento para el modelo SVM con kernel RBF es: {train_score}.\")\n",
    "print(f\"La exactitud de prueba para el modelo SVM con kernel RBF es: {test_score}.\")"
   ]
  },
  {
   "cell_type": "markdown",
   "metadata": {},
   "source": [
    "## Redes neuronales"
   ]
  },
  {
   "cell_type": "code",
   "execution_count": null,
   "metadata": {},
   "outputs": [],
   "source": []
  },
  {
   "cell_type": "markdown",
   "metadata": {},
   "source": [
    "### Regresión Logística"
   ]
  },
  {
   "cell_type": "code",
   "execution_count": 15,
   "metadata": {},
   "outputs": [],
   "source": [
    "from sklearn.linear_model import LogisticRegression\n",
    "\n",
    "#Definicion de imputación, escalamiento, modelo y pipeline a utilizar para el entrenamiento\n",
    "lr_imputer = SimpleImputer(strategy='mean')\n",
    "lr_scaler = preprocessing.StandardScaler()\n",
    "lr_model = LogisticRegression(penalty=\"l2\", class_weight=\"balanced\", solver=\"lbfgs\", random_state=47, max_iter=200)\n",
    "lr_pipeline = pipeline.Pipeline([(\"imputer\", lr_imputer), (\"scaler\", lr_scaler), (\"model\", lr_model)])\n",
    "\n",
    "#Definicion del grid donde se hará la búsqueda de hiperparámetros\n",
    "C = np.logspace(-4, 4, num=401)\n",
    "\n",
    "grid_lr = {\"model__C\":C}"
   ]
  },
  {
   "cell_type": "code",
   "execution_count": 16,
   "metadata": {},
   "outputs": [
    {
     "data": {
      "text/plain": [
       "RandomizedSearchCV(cv=8,\n",
       "                   estimator=Pipeline(steps=[('imputer', SimpleImputer()),\n",
       "                                             ('scaler', StandardScaler()),\n",
       "                                             ('model',\n",
       "                                              LogisticRegression(class_weight='balanced',\n",
       "                                                                 max_iter=200,\n",
       "                                                                 random_state=47))]),\n",
       "                   n_iter=40, n_jobs=-1,\n",
       "                   param_distributions={'model__C': array([1.00000000e-04, 1.04712855e-04, 1.09647820e-04, 1.14815362e-04,\n",
       "       1.20226443e-04, 1.25892541e-04, 1.31825674...\n",
       "       3.31131121e+03, 3.46736850e+03, 3.63078055e+03, 3.80189396e+03,\n",
       "       3.98107171e+03, 4.16869383e+03, 4.36515832e+03, 4.57088190e+03,\n",
       "       4.78630092e+03, 5.01187234e+03, 5.24807460e+03, 5.49540874e+03,\n",
       "       5.75439937e+03, 6.02559586e+03, 6.30957344e+03, 6.60693448e+03,\n",
       "       6.91830971e+03, 7.24435960e+03, 7.58577575e+03, 7.94328235e+03,\n",
       "       8.31763771e+03, 8.70963590e+03, 9.12010839e+03, 9.54992586e+03,\n",
       "       1.00000000e+04])},\n",
       "                   random_state=47)"
      ]
     },
     "execution_count": 16,
     "metadata": {},
     "output_type": "execute_result"
    }
   ],
   "source": [
    "#Busqueda aleatoria\n",
    "r_search = model_selection.RandomizedSearchCV(lr_pipeline, grid_lr, n_iter=40, n_jobs=-1, cv=8, random_state=47)\n",
    "r_search.fit(x_train, y_train)"
   ]
  },
  {
   "cell_type": "code",
   "execution_count": 17,
   "metadata": {},
   "outputs": [
    {
     "name": "stdout",
     "output_type": "stream",
     "text": [
      "La exactitud de entrenamiento para el modelo Regresión Logística: 1.0.\n",
      "La exactitud de prueba para el Regresión Logística es: 0.9861111111111112.\n"
     ]
    }
   ],
   "source": [
    "best_lr_pipeline = r_search.best_estimator_\n",
    "\n",
    "#Chequear si el scaler se devuelve ajustado con la data de entrenamiento y si no se vuelve a ajustar cuando se le llama\n",
    "#a score del pipeline\n",
    "train_score = best_lr_pipeline.score(x_train, y_train)\n",
    "test_score = best_lr_pipeline.score(x_test, y_test)\n",
    "\n",
    "print(f\"La exactitud de entrenamiento para el modelo Regresión Logística: {train_score}.\")\n",
    "print(f\"La exactitud de prueba para el Regresión Logística es: {test_score}.\")"
   ]
  }
 ],
 "metadata": {
  "colab": {
   "collapsed_sections": [],
   "name": "Main.ipynb",
   "provenance": [],
   "toc_visible": true
  },
  "kernelspec": {
   "display_name": "Python 3",
   "language": "python",
   "name": "python3"
  },
  "language_info": {
   "codemirror_mode": {
    "name": "ipython",
    "version": 3
   },
   "file_extension": ".py",
   "mimetype": "text/x-python",
   "name": "python",
   "nbconvert_exporter": "python",
   "pygments_lexer": "ipython3",
   "version": "3.6.8"
  }
 },
 "nbformat": 4,
 "nbformat_minor": 1
}
